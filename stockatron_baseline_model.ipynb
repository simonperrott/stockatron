{
  "nbformat": 4,
  "nbformat_minor": 0,
  "metadata": {
    "colab": {
      "name": "stockatron_baseline_model.ipynb",
      "provenance": [],
      "collapsed_sections": [],
      "authorship_tag": "ABX9TyNmnaObc9qc2KcHEPRU/j9c",
      "include_colab_link": true
    },
    "kernelspec": {
      "name": "python3",
      "display_name": "Python 3"
    }
  },
  "cells": [
    {
      "cell_type": "markdown",
      "metadata": {
        "id": "view-in-github",
        "colab_type": "text"
      },
      "source": [
        "<a href=\"https://colab.research.google.com/github/simonperrott/stockatron/blob/master/stockatron_baseline_model.ipynb\" target=\"_parent\"><img src=\"https://colab.research.google.com/assets/colab-badge.svg\" alt=\"Open In Colab\"/></a>"
      ]
    },
    {
      "cell_type": "code",
      "metadata": {
        "id": "EtjZd564Drc1",
        "colab_type": "code",
        "colab": {
          "base_uri": "https://localhost:8080/",
          "height": 241
        },
        "outputId": "381a77bb-da33-4b70-cb23-8b5af652bd8d"
      },
      "source": [
        "!pip install yfinance"
      ],
      "execution_count": 67,
      "outputs": [
        {
          "output_type": "stream",
          "text": [
            "Requirement already satisfied: yfinance in /usr/local/lib/python3.6/dist-packages (0.1.54)\n",
            "Requirement already satisfied: pandas>=0.24 in /usr/local/lib/python3.6/dist-packages (from yfinance) (1.0.5)\n",
            "Requirement already satisfied: requests>=2.20 in /usr/local/lib/python3.6/dist-packages (from yfinance) (2.23.0)\n",
            "Requirement already satisfied: multitasking>=0.0.7 in /usr/local/lib/python3.6/dist-packages (from yfinance) (0.0.9)\n",
            "Requirement already satisfied: numpy>=1.15 in /usr/local/lib/python3.6/dist-packages (from yfinance) (1.18.5)\n",
            "Requirement already satisfied: pytz>=2017.2 in /usr/local/lib/python3.6/dist-packages (from pandas>=0.24->yfinance) (2018.9)\n",
            "Requirement already satisfied: python-dateutil>=2.6.1 in /usr/local/lib/python3.6/dist-packages (from pandas>=0.24->yfinance) (2.8.1)\n",
            "Requirement already satisfied: idna<3,>=2.5 in /usr/local/lib/python3.6/dist-packages (from requests>=2.20->yfinance) (2.10)\n",
            "Requirement already satisfied: urllib3!=1.25.0,!=1.25.1,<1.26,>=1.21.1 in /usr/local/lib/python3.6/dist-packages (from requests>=2.20->yfinance) (1.24.3)\n",
            "Requirement already satisfied: certifi>=2017.4.17 in /usr/local/lib/python3.6/dist-packages (from requests>=2.20->yfinance) (2020.6.20)\n",
            "Requirement already satisfied: chardet<4,>=3.0.2 in /usr/local/lib/python3.6/dist-packages (from requests>=2.20->yfinance) (3.0.4)\n",
            "Requirement already satisfied: six>=1.5 in /usr/local/lib/python3.6/dist-packages (from python-dateutil>=2.6.1->pandas>=0.24->yfinance) (1.15.0)\n"
          ],
          "name": "stdout"
        }
      ]
    },
    {
      "cell_type": "code",
      "metadata": {
        "id": "4RMI4D49XHN7",
        "colab_type": "code",
        "colab": {}
      },
      "source": [
        "import yfinance as yt\n",
        "import numpy as np\n",
        "import pandas as pd\n",
        "from matplotlib import pyplot\n",
        "\n",
        "pd.options.display.float_format = '{:.2f}'.format\n",
        "pd.options.display.max_rows = 15\n",
        "pd.options.display.max_columns = 20\n",
        "\n",
        "pyplot.style.use(\"dark_background\")"
      ],
      "execution_count": 68,
      "outputs": []
    },
    {
      "cell_type": "code",
      "metadata": {
        "id": "wjT80hP_Sj-u",
        "colab_type": "code",
        "colab": {}
      },
      "source": [
        "# Fn to create the price change after X numDaysForward.\n",
        "def create_change_column(df:pd.DataFrame, threshold:float, numDaysForward = -5):\n",
        "  df['CloseAfterXDays'] = df['Close'].shift(numDaysForward, axis=0)\n",
        "  change_series = 100* (df['CloseAfterXDays'] - df['Open'])/df['Open']\n",
        "  return change_series"
      ],
      "execution_count": 69,
      "outputs": []
    },
    {
      "cell_type": "code",
      "metadata": {
        "id": "KEb8Wur7X2AA",
        "colab_type": "code",
        "colab": {
          "base_uri": "https://localhost:8080/",
          "height": 388
        },
        "outputId": "ab14e5f9-35e4-4019-8fd2-c4b2af930c6a"
      },
      "source": [
        "amzn = yt.Ticker('AMZN')\n",
        "start_date = '1999-01-01'\n",
        "df = amzn.history(start=start_date)\n",
        "df.drop(['Dividends', 'Stock Splits', 'High', 'Low'], axis=1, inplace=True)\n",
        "df['change'] = create_change_column(df, 5.0)\n",
        "\n",
        "# S&P500\n",
        "gspc = yt.Ticker('^GSPC')\n",
        "df_gspc = gspc.history(start=start_date)\n",
        "df['sp500_change'] = create_change_column(df_gspc, 5.0)\n",
        "\n",
        "df[['change', 'sp500_change']].plot()\n",
        "pyplot.legend(loc=\"upper right\")\n",
        "pyplot.show()\n",
        "\n",
        "print(df.head(5))"
      ],
      "execution_count": 70,
      "outputs": [
        {
          "output_type": "display_data",
          "data": {
            "image/png": "[encoded data removed]",
            "text/plain": [
              "<Figure size 432x288 with 1 Axes>"
            ]
          },
          "metadata": {
            "tags": []
          }
        },
        {
          "output_type": "stream",
          "text": [
            "            Open  Close    Volume  CloseAfterXDays  change  sp500_change\n",
            "Date                                                                    \n",
            "1999-01-04 54.61  59.16  39292200            92.31   69.03          2.82\n",
            "1999-01-05 54.78  62.25  62873200            81.69   49.12          0.93\n",
            "1999-01-06 68.19  69.00  36176600            74.00    8.52         -0.83\n",
            "1999-01-07 68.56  79.44  47274600            69.00    0.64         -4.73\n",
            "1999-01-08 92.12  80.12  66662200            70.19  -23.81         -2.08\n"
          ],
          "name": "stdout"
        }
      ]
    },
    {
      "cell_type": "code",
      "metadata": {
        "id": "8UdpM6vBQ87_",
        "colab_type": "code",
        "colab": {}
      },
      "source": [
        "# Add output y labels\n",
        "def create_labels(df:pd.DataFrame, threshold:float):\n",
        "\n",
        "  # 0 HOLD => -ve threshold < % Change < +ve threshold\n",
        "  # 1 BUY => % Change > +ve threshold\n",
        "  # -1 SELL => % Change < -ve threshold\n",
        "  df['label'] = df['change'].apply(lambda x: 1 if x > threshold else -1 if x < -1*threshold else 0)\n",
        "\n",
        "  scaler = StandardScaler() # or MinMaxScaler(feature_range=(-1, 1))\n",
        "  df['change'] = scaler.fit_transform(df[['change']])\n",
        "  df.dropna(inplace=True)\n",
        "  return df"
      ],
      "execution_count": 71,
      "outputs": []
    },
    {
      "cell_type": "code",
      "metadata": {
        "id": "p8zVyKz3I7T5",
        "colab_type": "code",
        "colab": {
          "base_uri": "https://localhost:8080/",
          "height": 272
        },
        "outputId": "e78958e3-1819-44e9-9087-ffdb01fb82ea"
      },
      "source": [
        "df = create_labels(df, 5.0)\n",
        "print(df.tail(5))"
      ],
      "execution_count": 72,
      "outputs": [
        {
          "output_type": "stream",
          "text": [
            "              Open   Close   Volume  CloseAfterXDays  change  sp500_change  \\\n",
            "Date                                                                         \n",
            "2020-07-16 2971.06 2999.90  6394200          2986.55   -0.02          0.85   \n",
            "2020-07-17 3009.00 2961.97  4761300          3008.91   -0.09         -0.27   \n",
            "2020-07-20 3000.20 3196.84  7598200          3055.21    0.14          0.47   \n",
            "2020-07-21 3232.49 3138.29  6135000          3000.33   -1.00         -1.53   \n",
            "2020-07-22 3125.00 3099.91  4104200          3018.07   -0.52         -0.41   \n",
            "\n",
            "            label  \n",
            "Date               \n",
            "2020-07-16      0  \n",
            "2020-07-17      0  \n",
            "2020-07-20      0  \n",
            "2020-07-21     -1  \n",
            "2020-07-22      0  \n"
          ],
          "name": "stdout"
        }
      ]
    },
    {
      "cell_type": "code",
      "metadata": {
        "id": "CfHICic9QGd1",
        "colab_type": "code",
        "colab": {}
      },
      "source": [
        "# Scale input features\n",
        "from sklearn.preprocessing import StandardScaler\n",
        "\n",
        "def scale_features(df:pd.DataFrame, feature_column_names):\n",
        "  \n",
        "  df[['change', 'sp500_change']].hist()\n",
        "  pyplot.show()\n",
        "  scaler = StandardScaler() # Using Standardization as ditribution is Gaussian (alternative -> MinMaxScaler(feature_range=(-1, 1))\n",
        "  for col in feature_column_names:\n",
        "    df[col] = scaler.fit_transform(df[[col]])\n",
        "\n",
        "  df.dropna(inplace=True)\n",
        "  return df"
      ],
      "execution_count": 73,
      "outputs": []
    },
    {
      "cell_type": "code",
      "metadata": {
        "id": "6OmawVZsTic0",
        "colab_type": "code",
        "colab": {
          "base_uri": "https://localhost:8080/",
          "height": 400
        },
        "outputId": "5dec0007-db67-4dcb-c7ec-6a038d74c1df"
      },
      "source": [
        "features = ['change', 'sp500_change']\n",
        "\n",
        "df = scale_features(df, features)\n",
        "\n",
        "# select subset of columns with features for the timeseries and label\n",
        "features.append('label')\n",
        "df = df[features]\n",
        "print(df.tail(5))"
      ],
      "execution_count": 74,
      "outputs": [
        {
          "output_type": "display_data",
          "data": {
            "image/png": "[encoded data removed]",
            "text/plain": [
              "<Figure size 432x288 with 2 Axes>"
            ]
          },
          "metadata": {
            "tags": []
          }
        },
        {
          "output_type": "stream",
          "text": [
            "            change  sp500_change  label\n",
            "Date                                   \n",
            "2020-07-16   -0.02          0.27      0\n",
            "2020-07-17   -0.09         -0.15      0\n",
            "2020-07-20    0.14          0.12      0\n",
            "2020-07-21   -1.00         -0.62     -1\n",
            "2020-07-22   -0.52         -0.20      0\n"
          ],
          "name": "stdout"
        }
      ]
    },
    {
      "cell_type": "code",
      "metadata": {
        "id": "uAZXd2GmGz90",
        "colab_type": "code",
        "colab": {}
      },
      "source": [
        "from pandas import DataFrame\n",
        "from pandas import concat\n",
        "\n",
        "def dataframe_to_supervised(df, input_cols, pred_col, n_timesteps=1, dropnan=True):\n",
        "\t\"\"\"\n",
        "\tTime series -> LSTM supervised learning dataset.\n",
        "\tArguments:\n",
        "\t\tdata: Sequence of observations as a NumPy array.\n",
        "\t\tinput_cols: list of strings identifying the input feature columns to use in shifting\n",
        "\t\tn_timesteps: Number of lag observations as input (X).\n",
        "\t\tpred_col: the name of the column we want to predict\n",
        "\t\tdropnan: Boolean whether or not to drop rows with NaN values.\n",
        "\tReturns:\n",
        "\t\tPandas DataFrame of series framed for supervised learning.\n",
        "\t\"\"\"\n",
        "\tcols, names = list(), list()\n",
        "\t# input sequence (t-n, ... t-1)\n",
        "\tfor i in range(n_timesteps, 0, -1):\n",
        "\t\tcols.append(df[input_cols].shift(i))\n",
        "\t\tnames += [f'{c}(t-{i})' for c in input_cols]\n",
        "\n",
        "\t# add pred_col\n",
        "\tcols.append(df[pred_col])\n",
        "\tnames.append(pred_col)\n",
        "\n",
        "\tagg = concat(cols, axis=1)\n",
        "\tagg.columns = names\n",
        "\t# drop rows with NaN values\n",
        "\tif dropnan:\n",
        "\t\tagg.dropna(inplace=True)\n",
        "\treturn agg"
      ],
      "execution_count": 75,
      "outputs": []
    },
    {
      "cell_type": "code",
      "metadata": {
        "id": "ufj6pvCwHEp4",
        "colab_type": "code",
        "colab": {
          "base_uri": "https://localhost:8080/",
          "height": 470
        },
        "outputId": "1f46c83b-5c8a-4f44-9f78-72bd98dd29ff"
      },
      "source": [
        "# Baseline 1st Model uses:\n",
        "# batches of timeseries of prices going back 7 days\n",
        "# predicts change after next 5 days of trading\n",
        "num_time_steps = 7\n",
        "df_price_ts = dataframe_to_supervised(df, ['change', 'sp500_change'], 'label', num_time_steps)\n",
        "print(df_price_ts.shape)\n",
        "df_price_ts.tail(7)"
      ],
      "execution_count": 76,
      "outputs": [
        {
          "output_type": "stream",
          "text": [
            "(5416, 15)\n"
          ],
          "name": "stdout"
        },
        {
          "output_type": "execute_result",
          "data": {
            "text/html": [
              "<div>\n",
              "<style scoped>\n",
              "    .dataframe tbody tr th:only-of-type {\n",
              "        vertical-align: middle;\n",
              "    }\n",
              "\n",
              "    .dataframe tbody tr th {\n",
              "        vertical-align: top;\n",
              "    }\n",
              "\n",
              "    .dataframe thead th {\n",
              "        text-align: right;\n",
              "    }\n",
              "</style>\n",
              "<table border=\"1\" class=\"dataframe\">\n",
              "  <thead>\n",
              "    <tr style=\"text-align: right;\">\n",
              "      <th></th>\n",
              "      <th>change(t-7)</th>\n",
              "      <th>sp500_change(t-7)</th>\n",
              "      <th>change(t-6)</th>\n",
              "      <th>sp500_change(t-6)</th>\n",
              "      <th>change(t-5)</th>\n",
              "      <th>sp500_change(t-5)</th>\n",
              "      <th>change(t-4)</th>\n",
              "      <th>sp500_change(t-4)</th>\n",
              "      <th>change(t-3)</th>\n",
              "      <th>sp500_change(t-3)</th>\n",
              "      <th>change(t-2)</th>\n",
              "      <th>sp500_change(t-2)</th>\n",
              "      <th>change(t-1)</th>\n",
              "      <th>sp500_change(t-1)</th>\n",
              "      <th>label</th>\n",
              "    </tr>\n",
              "    <tr>\n",
              "      <th>Date</th>\n",
              "      <th></th>\n",
              "      <th></th>\n",
              "      <th></th>\n",
              "      <th></th>\n",
              "      <th></th>\n",
              "      <th></th>\n",
              "      <th></th>\n",
              "      <th></th>\n",
              "      <th></th>\n",
              "      <th></th>\n",
              "      <th></th>\n",
              "      <th></th>\n",
              "      <th></th>\n",
              "      <th></th>\n",
              "      <th></th>\n",
              "    </tr>\n",
              "  </thead>\n",
              "  <tbody>\n",
              "    <tr>\n",
              "      <th>2020-07-14</th>\n",
              "      <td>1.16</td>\n",
              "      <td>0.44</td>\n",
              "      <td>0.64</td>\n",
              "      <td>-0.05</td>\n",
              "      <td>0.02</td>\n",
              "      <td>0.32</td>\n",
              "      <td>-0.15</td>\n",
              "      <td>0.82</td>\n",
              "      <td>-0.56</td>\n",
              "      <td>0.41</td>\n",
              "      <td>-1.00</td>\n",
              "      <td>0.81</td>\n",
              "      <td>-0.30</td>\n",
              "      <td>0.49</td>\n",
              "      <td>0</td>\n",
              "    </tr>\n",
              "    <tr>\n",
              "      <th>2020-07-15</th>\n",
              "      <td>0.64</td>\n",
              "      <td>-0.05</td>\n",
              "      <td>0.02</td>\n",
              "      <td>0.32</td>\n",
              "      <td>-0.15</td>\n",
              "      <td>0.82</td>\n",
              "      <td>-0.56</td>\n",
              "      <td>0.41</td>\n",
              "      <td>-1.00</td>\n",
              "      <td>0.81</td>\n",
              "      <td>-0.30</td>\n",
              "      <td>0.49</td>\n",
              "      <td>0.11</td>\n",
              "      <td>1.33</td>\n",
              "      <td>0</td>\n",
              "    </tr>\n",
              "    <tr>\n",
              "      <th>2020-07-16</th>\n",
              "      <td>0.02</td>\n",
              "      <td>0.32</td>\n",
              "      <td>-0.15</td>\n",
              "      <td>0.82</td>\n",
              "      <td>-0.56</td>\n",
              "      <td>0.41</td>\n",
              "      <td>-1.00</td>\n",
              "      <td>0.81</td>\n",
              "      <td>-0.30</td>\n",
              "      <td>0.49</td>\n",
              "      <td>0.11</td>\n",
              "      <td>1.33</td>\n",
              "      <td>-0.01</td>\n",
              "      <td>0.53</td>\n",
              "      <td>0</td>\n",
              "    </tr>\n",
              "    <tr>\n",
              "      <th>2020-07-17</th>\n",
              "      <td>-0.15</td>\n",
              "      <td>0.82</td>\n",
              "      <td>-0.56</td>\n",
              "      <td>0.41</td>\n",
              "      <td>-1.00</td>\n",
              "      <td>0.81</td>\n",
              "      <td>-0.30</td>\n",
              "      <td>0.49</td>\n",
              "      <td>0.11</td>\n",
              "      <td>1.33</td>\n",
              "      <td>-0.01</td>\n",
              "      <td>0.53</td>\n",
              "      <td>-0.02</td>\n",
              "      <td>0.27</td>\n",
              "      <td>0</td>\n",
              "    </tr>\n",
              "    <tr>\n",
              "      <th>2020-07-20</th>\n",
              "      <td>-0.56</td>\n",
              "      <td>0.41</td>\n",
              "      <td>-1.00</td>\n",
              "      <td>0.81</td>\n",
              "      <td>-0.30</td>\n",
              "      <td>0.49</td>\n",
              "      <td>0.11</td>\n",
              "      <td>1.33</td>\n",
              "      <td>-0.01</td>\n",
              "      <td>0.53</td>\n",
              "      <td>-0.02</td>\n",
              "      <td>0.27</td>\n",
              "      <td>-0.09</td>\n",
              "      <td>-0.15</td>\n",
              "      <td>0</td>\n",
              "    </tr>\n",
              "    <tr>\n",
              "      <th>2020-07-21</th>\n",
              "      <td>-1.00</td>\n",
              "      <td>0.81</td>\n",
              "      <td>-0.30</td>\n",
              "      <td>0.49</td>\n",
              "      <td>0.11</td>\n",
              "      <td>1.33</td>\n",
              "      <td>-0.01</td>\n",
              "      <td>0.53</td>\n",
              "      <td>-0.02</td>\n",
              "      <td>0.27</td>\n",
              "      <td>-0.09</td>\n",
              "      <td>-0.15</td>\n",
              "      <td>0.14</td>\n",
              "      <td>0.12</td>\n",
              "      <td>-1</td>\n",
              "    </tr>\n",
              "    <tr>\n",
              "      <th>2020-07-22</th>\n",
              "      <td>-0.30</td>\n",
              "      <td>0.49</td>\n",
              "      <td>0.11</td>\n",
              "      <td>1.33</td>\n",
              "      <td>-0.01</td>\n",
              "      <td>0.53</td>\n",
              "      <td>-0.02</td>\n",
              "      <td>0.27</td>\n",
              "      <td>-0.09</td>\n",
              "      <td>-0.15</td>\n",
              "      <td>0.14</td>\n",
              "      <td>0.12</td>\n",
              "      <td>-1.00</td>\n",
              "      <td>-0.62</td>\n",
              "      <td>0</td>\n",
              "    </tr>\n",
              "  </tbody>\n",
              "</table>\n",
              "</div>"
            ],
            "text/plain": [
              "            change(t-7)  sp500_change(t-7)  change(t-6)  sp500_change(t-6)  \\\n",
              "Date                                                                         \n",
              "2020-07-14         1.16               0.44         0.64              -0.05   \n",
              "2020-07-15         0.64              -0.05         0.02               0.32   \n",
              "2020-07-16         0.02               0.32        -0.15               0.82   \n",
              "2020-07-17        -0.15               0.82        -0.56               0.41   \n",
              "2020-07-20        -0.56               0.41        -1.00               0.81   \n",
              "2020-07-21        -1.00               0.81        -0.30               0.49   \n",
              "2020-07-22        -0.30               0.49         0.11               1.33   \n",
              "\n",
              "            change(t-5)  sp500_change(t-5)  change(t-4)  sp500_change(t-4)  \\\n",
              "Date                                                                         \n",
              "2020-07-14         0.02               0.32        -0.15               0.82   \n",
              "2020-07-15        -0.15               0.82        -0.56               0.41   \n",
              "2020-07-16        -0.56               0.41        -1.00               0.81   \n",
              "2020-07-17        -1.00               0.81        -0.30               0.49   \n",
              "2020-07-20        -0.30               0.49         0.11               1.33   \n",
              "2020-07-21         0.11               1.33        -0.01               0.53   \n",
              "2020-07-22        -0.01               0.53        -0.02               0.27   \n",
              "\n",
              "            change(t-3)  sp500_change(t-3)  change(t-2)  sp500_change(t-2)  \\\n",
              "Date                                                                         \n",
              "2020-07-14        -0.56               0.41        -1.00               0.81   \n",
              "2020-07-15        -1.00               0.81        -0.30               0.49   \n",
              "2020-07-16        -0.30               0.49         0.11               1.33   \n",
              "2020-07-17         0.11               1.33        -0.01               0.53   \n",
              "2020-07-20        -0.01               0.53        -0.02               0.27   \n",
              "2020-07-21        -0.02               0.27        -0.09              -0.15   \n",
              "2020-07-22        -0.09              -0.15         0.14               0.12   \n",
              "\n",
              "            change(t-1)  sp500_change(t-1)  label  \n",
              "Date                                               \n",
              "2020-07-14        -0.30               0.49      0  \n",
              "2020-07-15         0.11               1.33      0  \n",
              "2020-07-16        -0.01               0.53      0  \n",
              "2020-07-17        -0.02               0.27      0  \n",
              "2020-07-20        -0.09              -0.15      0  \n",
              "2020-07-21         0.14               0.12     -1  \n",
              "2020-07-22        -1.00              -0.62      0  "
            ]
          },
          "metadata": {
            "tags": []
          },
          "execution_count": 76
        }
      ]
    },
    {
      "cell_type": "code",
      "metadata": {
        "id": "jWyTtpH8lhC_",
        "colab_type": "code",
        "colab": {
          "base_uri": "https://localhost:8080/",
          "height": 523
        },
        "outputId": "08647c54-7180-4732-ff37-836fb74dc90c"
      },
      "source": [
        "# Plot the data classes using only the previous day's change & sp500 change\n",
        "df_price_ts['color'] = df_price_ts['label'].apply(lambda x: 'blue' if x==0 else 'red' if x==-1 else 'green')\n",
        "\n",
        "df_price_ts.plot.scatter(x='change(t-1)', y='sp500_change(t-1)', c='color')\n",
        "pyplot.title('Change of S&P500 yesterday vs Change of Stock yesterday')\n",
        "pyplot.show()\n",
        "\n",
        "df_price_ts.plot.scatter(x='change(t-1)', y='change(t-2)', c='color')\n",
        "pyplot.title('Change of Stock 2 days ago vs Change of Stock yesterday')\n",
        "pyplot.show()\n",
        "# Note a Linear model could not separate these to classify correctly\n",
        "df_price_ts.drop(['color'] , axis=1, inplace=True)"
      ],
      "execution_count": 87,
      "outputs": [
        {
          "output_type": "display_data",
          "data": {
            "image/png": "[encoded data removed]",
            "text/plain": [
              "<Figure size 432x288 with 2 Axes>"
            ]
          },
          "metadata": {
            "tags": []
          }
        },
        {
          "output_type": "display_data",
          "data": {
            "image/png": "[encoded data removed]",
            "text/plain": [
              "<Figure size 432x288 with 2 Axes>"
            ]
          },
          "metadata": {
            "tags": []
          }
        }
      ]
    },
    {
      "cell_type": "code",
      "metadata": {
        "id": "E1YNo5dsC6Il",
        "colab_type": "code",
        "colab": {}
      },
      "source": [
        "# Choose Training data (avoiding data leak by training set having no data points in future of test set)\n",
        "train = df_price_ts.loc['2005' :'2017']"
      ],
      "execution_count": 88,
      "outputs": []
    },
    {
      "cell_type": "code",
      "metadata": {
        "id": "hcXB5BDg1kDW",
        "colab_type": "code",
        "colab": {
          "base_uri": "https://localhost:8080/",
          "height": 85
        },
        "outputId": "966d6cc4-3864-4870-efc6-f2a649011c95"
      },
      "source": [
        "# Explore balance of classes in Training set\n",
        "label_groupings = train['label'].value_counts()\n",
        "print(label_groupings)"
      ],
      "execution_count": 89,
      "outputs": [
        {
          "output_type": "stream",
          "text": [
            " 0    2358\n",
            " 1     564\n",
            "-1     350\n",
            "Name: label, dtype: int64\n"
          ],
          "name": "stdout"
        }
      ]
    },
    {
      "cell_type": "code",
      "metadata": {
        "id": "Xlvdmc63-iiV",
        "colab_type": "code",
        "colab": {
          "base_uri": "https://localhost:8080/",
          "height": 425
        },
        "outputId": "dd036708-8e4b-4a3c-a11e-69189fc0b170"
      },
      "source": [
        "# Balance classes in Training set by Down sampling randomly.\n",
        "# This is important for accuracy as I'm more interested in accurately predicting cases -1 and +1 rather than 0.\n",
        "from sklearn.utils import resample\n",
        "\n",
        "min_label_count = label_groupings.min()\n",
        "df_list = []\n",
        "# Separate by label\n",
        "for label in label_groupings.index:\n",
        "  df_for_label = train[train.label == label]\n",
        "  df_list.append(\n",
        "      resample(  \n",
        "          df_for_label, \n",
        "          replace = False,    # sample without replacement\n",
        "          n_samples = min_label_count     # to match minority class\n",
        "          )) \n",
        "\n",
        "train_balanced = pd.concat(df_list)\n",
        "\n",
        "print(train_balanced.shape) \n",
        "# Display new class counts\n",
        "train_balanced.label.value_counts()"
      ],
      "execution_count": 90,
      "outputs": [
        {
          "output_type": "stream",
          "text": [
            "(1050, 15)\n",
            "            change(t-7)  sp500_change(t-7)  change(t-6)  sp500_change(t-6)  \\\n",
            "Date                                                                         \n",
            "2015-04-10         0.18              -0.09         0.30               0.37   \n",
            "2016-10-13        -0.24              -0.51        -0.15              -0.33   \n",
            "\n",
            "            change(t-5)  sp500_change(t-5)  change(t-4)  sp500_change(t-4)  \\\n",
            "Date                                                                         \n",
            "2015-04-10         0.33               0.71         0.33               0.45   \n",
            "2016-10-13        -0.30              -0.50        -0.43              -0.59   \n",
            "\n",
            "            change(t-3)  sp500_change(t-3)  change(t-2)  sp500_change(t-2)  \\\n",
            "Date                                                                         \n",
            "2015-04-10         0.21               0.22         0.21               0.48   \n",
            "2016-10-13        -0.54              -0.64        -0.44              -0.43   \n",
            "\n",
            "            change(t-1)  sp500_change(t-1)  label  \n",
            "Date                                               \n",
            "2015-04-10         0.09               0.37      0  \n",
            "2016-10-13        -0.34               0.06      0  \n"
          ],
          "name": "stdout"
        },
        {
          "output_type": "execute_result",
          "data": {
            "text/plain": [
              "-1    350\n",
              " 1    350\n",
              " 0    350\n",
              "Name: label, dtype: int64"
            ]
          },
          "metadata": {
            "tags": []
          },
          "execution_count": 90
        }
      ]
    },
    {
      "cell_type": "code",
      "metadata": {
        "id": "kpNmG0icUwEq",
        "colab_type": "code",
        "colab": {
          "base_uri": "https://localhost:8080/",
          "height": 170
        },
        "outputId": "94e1ea8f-29f5-423a-eb95-efbb6cc58590"
      },
      "source": [
        "from keras.utils import np_utils\n",
        "from sklearn.preprocessing import LabelEncoder\n",
        "\n",
        "training_set = train_balanced.values\n",
        "\n",
        "train_X, train_y = training_set[:, :-1], training_set[:, -1]\n",
        "\n",
        "# encode class values as integers\n",
        "encoder = LabelEncoder()\n",
        "encoder.fit(train_y)\n",
        "train_y_encoded = encoder.transform(train_y)\n",
        "# convert integers to dummy variables (i.e. one hot encoded)\n",
        "train_y_dummy = np_utils.to_categorical(train_y_encoded)\n",
        "\n",
        "# Test 2019 - 2020\n",
        "test = df_price_ts.loc['2019-07-01' :'2020'].values\n",
        "test_X, test_y = test[:, :-1], test[:, -1]\n",
        "\n",
        "test_y_encoded = encoder.transform(test_y)\n",
        "test_y_dummy = np_utils.to_categorical(test_y_encoded)\n",
        "\n",
        "n_features = 2\n",
        "\n",
        "# reshape input to be 3D [samples, timesteps, features]\n",
        "train_X = train_X.reshape(train_X.shape[0], num_time_steps, n_features)\n",
        "test_X = test_X.reshape(test_X.shape[0], num_time_steps, n_features)\n",
        "\n",
        "print(f'Train X has shape: {train_X.shape} & Train y has shape: {train_y_dummy.shape}')\n",
        "print(f'Test X has shape: {test_X.shape} & Test y has shape: {test_y_dummy.shape}')\n",
        "print(train_X[0, :, :])"
      ],
      "execution_count": 94,
      "outputs": [
        {
          "output_type": "stream",
          "text": [
            "Train X has shape: (1050, 7, 2) & Train y has shape: (1050, 3)\n",
            "Test X has shape: (268, 7, 2) & Test y has shape: (268, 3)\n",
            "[[ 0.18111088 -0.08943929]\n",
            " [ 0.30002814  0.37480272]\n",
            " [ 0.3259022   0.71164644]\n",
            " [ 0.33010271  0.44795257]\n",
            " [ 0.21259672  0.21943784]\n",
            " [ 0.20806345  0.48338251]\n",
            " [ 0.09027934  0.37470242]]\n"
          ],
          "name": "stdout"
        }
      ]
    },
    {
      "cell_type": "code",
      "metadata": {
        "id": "mFVTomFgUvuh",
        "colab_type": "code",
        "colab": {
          "base_uri": "https://localhost:8080/",
          "height": 1000
        },
        "outputId": "190c69fd-b22f-478b-f2d7-2cb4a5254caa"
      },
      "source": [
        "from keras.models import Sequential\n",
        "from keras.layers import Dense, Flatten, LSTM, Dropout\n",
        "\n",
        "# design network \n",
        "model = Sequential()\n",
        "model.add(LSTM(100, activation='tanh', input_shape=(num_time_steps, n_features), dropout=0.4))\n",
        "model.add(Dropout(0.4))\n",
        "model.add(Dense(3, activation='softmax'))\n",
        "model.compile(loss='categorical_crossentropy', optimizer='adam', metrics=['accuracy'])\n",
        " \n",
        "# fit network\n",
        "history = model.fit(train_X, train_y_dummy, epochs=150, batch_size=20, validation_data=(test_X, test_y_dummy), verbose=1, shuffle=False)\n",
        "# plot history\n",
        "pyplot.plot(history.history['loss'], label='train')\n",
        "pyplot.plot(history.history['val_loss'], label='test')\n",
        "pyplot.legend()\n",
        "pyplot.show()"
      ],
      "execution_count": 95,
      "outputs": [
        {
          "output_type": "stream",
          "text": [
            "Train on 1050 samples, validate on 268 samples\n",
            "Epoch 1/150\n",
            "1050/1050 [==============================] - 1s 927us/step - loss: 1.1282 - accuracy: 0.3571 - val_loss: 1.0701 - val_accuracy: 0.3284\n",
            "Epoch 2/150\n",
            "1050/1050 [==============================] - 0s 381us/step - loss: 0.9951 - accuracy: 0.4486 - val_loss: 1.0541 - val_accuracy: 0.3060\n",
            "Epoch 3/150\n",
            "1050/1050 [==============================] - 0s 403us/step - loss: 0.9656 - accuracy: 0.4790 - val_loss: 1.0430 - val_accuracy: 0.2985\n",
            "Epoch 4/150\n",
            "1050/1050 [==============================] - 0s 364us/step - loss: 0.9274 - accuracy: 0.5019 - val_loss: 1.0407 - val_accuracy: 0.3097\n",
            "Epoch 5/150\n",
            "1050/1050 [==============================] - 0s 363us/step - loss: 0.8856 - accuracy: 0.5419 - val_loss: 1.0399 - val_accuracy: 0.3209\n",
            "Epoch 6/150\n",
            "1050/1050 [==============================] - 0s 385us/step - loss: 0.8854 - accuracy: 0.5600 - val_loss: 1.0255 - val_accuracy: 0.3433\n",
            "Epoch 7/150\n",
            "1050/1050 [==============================] - 0s 376us/step - loss: 0.8386 - accuracy: 0.5819 - val_loss: 1.0299 - val_accuracy: 0.3507\n",
            "Epoch 8/150\n",
            "1050/1050 [==============================] - 0s 382us/step - loss: 0.8630 - accuracy: 0.5686 - val_loss: 1.0073 - val_accuracy: 0.3881\n",
            "Epoch 9/150\n",
            "1050/1050 [==============================] - 0s 368us/step - loss: 0.8642 - accuracy: 0.5438 - val_loss: 0.9970 - val_accuracy: 0.3843\n",
            "Epoch 10/150\n",
            "1050/1050 [==============================] - 0s 353us/step - loss: 0.8464 - accuracy: 0.5686 - val_loss: 0.9940 - val_accuracy: 0.3806\n",
            "Epoch 11/150\n",
            "1050/1050 [==============================] - 0s 360us/step - loss: 0.8229 - accuracy: 0.5714 - val_loss: 1.0049 - val_accuracy: 0.3955\n",
            "Epoch 12/150\n",
            "1050/1050 [==============================] - 0s 364us/step - loss: 0.8701 - accuracy: 0.5457 - val_loss: 0.9938 - val_accuracy: 0.3918\n",
            "Epoch 13/150\n",
            "1050/1050 [==============================] - 0s 362us/step - loss: 0.8476 - accuracy: 0.5771 - val_loss: 0.9734 - val_accuracy: 0.4291\n",
            "Epoch 14/150\n",
            "1050/1050 [==============================] - 0s 357us/step - loss: 0.8063 - accuracy: 0.6000 - val_loss: 0.9867 - val_accuracy: 0.4142\n",
            "Epoch 15/150\n",
            "1050/1050 [==============================] - 0s 358us/step - loss: 0.8102 - accuracy: 0.5914 - val_loss: 0.9666 - val_accuracy: 0.4478\n",
            "Epoch 16/150\n",
            "1050/1050 [==============================] - 0s 361us/step - loss: 0.8054 - accuracy: 0.6086 - val_loss: 0.9564 - val_accuracy: 0.4627\n",
            "Epoch 17/150\n",
            "1050/1050 [==============================] - 0s 358us/step - loss: 0.8094 - accuracy: 0.6019 - val_loss: 0.9505 - val_accuracy: 0.4776\n",
            "Epoch 18/150\n",
            "1050/1050 [==============================] - 0s 386us/step - loss: 0.8285 - accuracy: 0.5895 - val_loss: 0.9518 - val_accuracy: 0.4515\n",
            "Epoch 19/150\n",
            "1050/1050 [==============================] - 0s 377us/step - loss: 0.8252 - accuracy: 0.5905 - val_loss: 0.9445 - val_accuracy: 0.4813\n",
            "Epoch 20/150\n",
            "1050/1050 [==============================] - 0s 356us/step - loss: 0.8242 - accuracy: 0.6057 - val_loss: 0.9400 - val_accuracy: 0.4925\n",
            "Epoch 21/150\n",
            "1050/1050 [==============================] - 0s 404us/step - loss: 0.7925 - accuracy: 0.6076 - val_loss: 0.9458 - val_accuracy: 0.4963\n",
            "Epoch 22/150\n",
            "1050/1050 [==============================] - 0s 367us/step - loss: 0.8114 - accuracy: 0.5962 - val_loss: 0.9334 - val_accuracy: 0.5075\n",
            "Epoch 23/150\n",
            "1050/1050 [==============================] - 0s 373us/step - loss: 0.8541 - accuracy: 0.5724 - val_loss: 0.9263 - val_accuracy: 0.5000\n",
            "Epoch 24/150\n",
            "1050/1050 [==============================] - 0s 372us/step - loss: 0.8181 - accuracy: 0.5695 - val_loss: 0.9453 - val_accuracy: 0.5075\n",
            "Epoch 25/150\n",
            "1050/1050 [==============================] - 0s 368us/step - loss: 0.8024 - accuracy: 0.6190 - val_loss: 0.9454 - val_accuracy: 0.4813\n",
            "Epoch 26/150\n",
            "1050/1050 [==============================] - 0s 350us/step - loss: 0.7981 - accuracy: 0.5829 - val_loss: 0.9222 - val_accuracy: 0.5299\n",
            "Epoch 27/150\n",
            "1050/1050 [==============================] - 0s 363us/step - loss: 0.8160 - accuracy: 0.5962 - val_loss: 0.9299 - val_accuracy: 0.4963\n",
            "Epoch 28/150\n",
            "1050/1050 [==============================] - 0s 356us/step - loss: 0.7972 - accuracy: 0.6181 - val_loss: 0.9334 - val_accuracy: 0.5112\n",
            "Epoch 29/150\n",
            "1050/1050 [==============================] - 0s 355us/step - loss: 0.7984 - accuracy: 0.6076 - val_loss: 0.9370 - val_accuracy: 0.5112\n",
            "Epoch 30/150\n",
            "1050/1050 [==============================] - 0s 366us/step - loss: 0.8059 - accuracy: 0.5962 - val_loss: 0.9205 - val_accuracy: 0.5410\n",
            "Epoch 31/150\n",
            "1050/1050 [==============================] - 0s 350us/step - loss: 0.7823 - accuracy: 0.6133 - val_loss: 0.9298 - val_accuracy: 0.5261\n",
            "Epoch 32/150\n",
            "1050/1050 [==============================] - 0s 381us/step - loss: 0.8068 - accuracy: 0.5952 - val_loss: 0.9198 - val_accuracy: 0.5373\n",
            "Epoch 33/150\n",
            "1050/1050 [==============================] - 0s 382us/step - loss: 0.8065 - accuracy: 0.6010 - val_loss: 0.9081 - val_accuracy: 0.5373\n",
            "Epoch 34/150\n",
            "1050/1050 [==============================] - 0s 414us/step - loss: 0.8199 - accuracy: 0.5790 - val_loss: 0.9113 - val_accuracy: 0.5299\n",
            "Epoch 35/150\n",
            "1050/1050 [==============================] - 0s 392us/step - loss: 0.7892 - accuracy: 0.6143 - val_loss: 0.8986 - val_accuracy: 0.5560\n",
            "Epoch 36/150\n",
            "1050/1050 [==============================] - 0s 412us/step - loss: 0.7824 - accuracy: 0.6105 - val_loss: 0.9107 - val_accuracy: 0.5299\n",
            "Epoch 37/150\n",
            "1050/1050 [==============================] - 0s 397us/step - loss: 0.7909 - accuracy: 0.6181 - val_loss: 0.9097 - val_accuracy: 0.5634\n",
            "Epoch 38/150\n",
            "1050/1050 [==============================] - 0s 392us/step - loss: 0.7651 - accuracy: 0.6362 - val_loss: 0.9220 - val_accuracy: 0.5336\n",
            "Epoch 39/150\n",
            "1050/1050 [==============================] - 0s 380us/step - loss: 0.7889 - accuracy: 0.6076 - val_loss: 0.9064 - val_accuracy: 0.5672\n",
            "Epoch 40/150\n",
            "1050/1050 [==============================] - 0s 385us/step - loss: 0.7930 - accuracy: 0.6000 - val_loss: 0.9017 - val_accuracy: 0.5597\n",
            "Epoch 41/150\n",
            "1050/1050 [==============================] - 0s 373us/step - loss: 0.7549 - accuracy: 0.6314 - val_loss: 0.9134 - val_accuracy: 0.5485\n",
            "Epoch 42/150\n",
            "1050/1050 [==============================] - 0s 427us/step - loss: 0.8064 - accuracy: 0.6000 - val_loss: 0.9079 - val_accuracy: 0.5522\n",
            "Epoch 43/150\n",
            "1050/1050 [==============================] - 0s 373us/step - loss: 0.7923 - accuracy: 0.6057 - val_loss: 0.9052 - val_accuracy: 0.5597\n",
            "Epoch 44/150\n",
            "1050/1050 [==============================] - 0s 402us/step - loss: 0.7956 - accuracy: 0.5981 - val_loss: 0.8954 - val_accuracy: 0.5821\n",
            "Epoch 45/150\n",
            "1050/1050 [==============================] - 0s 377us/step - loss: 0.8065 - accuracy: 0.6019 - val_loss: 0.8995 - val_accuracy: 0.5597\n",
            "Epoch 46/150\n",
            "1050/1050 [==============================] - 0s 375us/step - loss: 0.7732 - accuracy: 0.6143 - val_loss: 0.9010 - val_accuracy: 0.5560\n",
            "Epoch 47/150\n",
            "1050/1050 [==============================] - 0s 381us/step - loss: 0.8044 - accuracy: 0.6019 - val_loss: 0.9089 - val_accuracy: 0.5560\n",
            "Epoch 48/150\n",
            "1050/1050 [==============================] - 0s 447us/step - loss: 0.7879 - accuracy: 0.6200 - val_loss: 0.8905 - val_accuracy: 0.5634\n",
            "Epoch 49/150\n",
            "1050/1050 [==============================] - 0s 406us/step - loss: 0.7584 - accuracy: 0.6314 - val_loss: 0.8936 - val_accuracy: 0.5709\n",
            "Epoch 50/150\n",
            "1050/1050 [==============================] - 0s 374us/step - loss: 0.7787 - accuracy: 0.6067 - val_loss: 0.8936 - val_accuracy: 0.5597\n",
            "Epoch 51/150\n",
            "1050/1050 [==============================] - 0s 386us/step - loss: 0.7820 - accuracy: 0.6105 - val_loss: 0.8820 - val_accuracy: 0.5858\n",
            "Epoch 52/150\n",
            "1050/1050 [==============================] - 0s 393us/step - loss: 0.7799 - accuracy: 0.6105 - val_loss: 0.8799 - val_accuracy: 0.5746\n",
            "Epoch 53/150\n",
            "1050/1050 [==============================] - 0s 370us/step - loss: 0.7614 - accuracy: 0.6295 - val_loss: 0.8826 - val_accuracy: 0.5746\n",
            "Epoch 54/150\n",
            "1050/1050 [==============================] - 0s 383us/step - loss: 0.7629 - accuracy: 0.6257 - val_loss: 0.8930 - val_accuracy: 0.5784\n",
            "Epoch 55/150\n",
            "1050/1050 [==============================] - 0s 394us/step - loss: 0.7578 - accuracy: 0.6333 - val_loss: 0.8856 - val_accuracy: 0.5858\n",
            "Epoch 56/150\n",
            "1050/1050 [==============================] - 0s 397us/step - loss: 0.8061 - accuracy: 0.5971 - val_loss: 0.8721 - val_accuracy: 0.5821\n",
            "Epoch 57/150\n",
            "1050/1050 [==============================] - 0s 384us/step - loss: 0.7744 - accuracy: 0.6029 - val_loss: 0.8775 - val_accuracy: 0.5746\n",
            "Epoch 58/150\n",
            "1050/1050 [==============================] - 0s 366us/step - loss: 0.7838 - accuracy: 0.6133 - val_loss: 0.8914 - val_accuracy: 0.5784\n",
            "Epoch 59/150\n",
            "1050/1050 [==============================] - 0s 368us/step - loss: 0.7693 - accuracy: 0.6152 - val_loss: 0.8737 - val_accuracy: 0.5970\n",
            "Epoch 60/150\n",
            "1050/1050 [==============================] - 0s 386us/step - loss: 0.7884 - accuracy: 0.6133 - val_loss: 0.8787 - val_accuracy: 0.5746\n",
            "Epoch 61/150\n",
            "1050/1050 [==============================] - 0s 420us/step - loss: 0.7675 - accuracy: 0.6095 - val_loss: 0.8749 - val_accuracy: 0.5858\n",
            "Epoch 62/150\n",
            "1050/1050 [==============================] - 0s 392us/step - loss: 0.7803 - accuracy: 0.6067 - val_loss: 0.8799 - val_accuracy: 0.5821\n",
            "Epoch 63/150\n",
            "1050/1050 [==============================] - 0s 392us/step - loss: 0.7569 - accuracy: 0.6305 - val_loss: 0.8866 - val_accuracy: 0.5858\n",
            "Epoch 64/150\n",
            "1050/1050 [==============================] - 0s 413us/step - loss: 0.7403 - accuracy: 0.6457 - val_loss: 0.8822 - val_accuracy: 0.5784\n",
            "Epoch 65/150\n",
            "1050/1050 [==============================] - 0s 380us/step - loss: 0.7599 - accuracy: 0.6276 - val_loss: 0.8742 - val_accuracy: 0.5896\n",
            "Epoch 66/150\n",
            "1050/1050 [==============================] - 0s 408us/step - loss: 0.7584 - accuracy: 0.6171 - val_loss: 0.8761 - val_accuracy: 0.5933\n",
            "Epoch 67/150\n",
            "1050/1050 [==============================] - 0s 386us/step - loss: 0.7639 - accuracy: 0.6257 - val_loss: 0.8493 - val_accuracy: 0.6045\n",
            "Epoch 68/150\n",
            "1050/1050 [==============================] - 0s 381us/step - loss: 0.7564 - accuracy: 0.6200 - val_loss: 0.8683 - val_accuracy: 0.6045\n",
            "Epoch 69/150\n",
            "1050/1050 [==============================] - 0s 386us/step - loss: 0.7602 - accuracy: 0.6105 - val_loss: 0.8678 - val_accuracy: 0.6045\n",
            "Epoch 70/150\n",
            "1050/1050 [==============================] - 0s 401us/step - loss: 0.7759 - accuracy: 0.6067 - val_loss: 0.8618 - val_accuracy: 0.6007\n",
            "Epoch 71/150\n",
            "1050/1050 [==============================] - 0s 429us/step - loss: 0.7741 - accuracy: 0.6295 - val_loss: 0.8486 - val_accuracy: 0.6045\n",
            "Epoch 72/150\n",
            "1050/1050 [==============================] - 0s 433us/step - loss: 0.7807 - accuracy: 0.5933 - val_loss: 0.8643 - val_accuracy: 0.5821\n",
            "Epoch 73/150\n",
            "1050/1050 [==============================] - 0s 428us/step - loss: 0.7455 - accuracy: 0.6381 - val_loss: 0.8631 - val_accuracy: 0.5784\n",
            "Epoch 74/150\n",
            "1050/1050 [==============================] - 0s 388us/step - loss: 0.7656 - accuracy: 0.6095 - val_loss: 0.8581 - val_accuracy: 0.6045\n",
            "Epoch 75/150\n",
            "1050/1050 [==============================] - 0s 386us/step - loss: 0.7655 - accuracy: 0.6200 - val_loss: 0.8505 - val_accuracy: 0.6119\n",
            "Epoch 76/150\n",
            "1050/1050 [==============================] - 0s 428us/step - loss: 0.7373 - accuracy: 0.6229 - val_loss: 0.8261 - val_accuracy: 0.6194\n",
            "Epoch 77/150\n",
            "1050/1050 [==============================] - 0s 392us/step - loss: 0.7487 - accuracy: 0.6419 - val_loss: 0.8264 - val_accuracy: 0.6157\n",
            "Epoch 78/150\n",
            "1050/1050 [==============================] - 0s 405us/step - loss: 0.7427 - accuracy: 0.6286 - val_loss: 0.8185 - val_accuracy: 0.6194\n",
            "Epoch 79/150\n",
            "1050/1050 [==============================] - 0s 407us/step - loss: 0.7419 - accuracy: 0.6286 - val_loss: 0.8433 - val_accuracy: 0.6007\n",
            "Epoch 80/150\n",
            "1050/1050 [==============================] - 0s 388us/step - loss: 0.7179 - accuracy: 0.6476 - val_loss: 0.8244 - val_accuracy: 0.6231\n",
            "Epoch 81/150\n",
            "1050/1050 [==============================] - 0s 411us/step - loss: 0.7427 - accuracy: 0.6314 - val_loss: 0.8238 - val_accuracy: 0.6269\n",
            "Epoch 82/150\n",
            "1050/1050 [==============================] - 0s 393us/step - loss: 0.7529 - accuracy: 0.6257 - val_loss: 0.8287 - val_accuracy: 0.6269\n",
            "Epoch 83/150\n",
            "1050/1050 [==============================] - 0s 410us/step - loss: 0.7132 - accuracy: 0.6695 - val_loss: 0.8045 - val_accuracy: 0.6269\n",
            "Epoch 84/150\n",
            "1050/1050 [==============================] - 0s 384us/step - loss: 0.7349 - accuracy: 0.6419 - val_loss: 0.8108 - val_accuracy: 0.6082\n",
            "Epoch 85/150\n",
            "1050/1050 [==============================] - 0s 371us/step - loss: 0.7626 - accuracy: 0.6438 - val_loss: 0.8011 - val_accuracy: 0.6343\n",
            "Epoch 86/150\n",
            "1050/1050 [==============================] - 0s 399us/step - loss: 0.7335 - accuracy: 0.6533 - val_loss: 0.8041 - val_accuracy: 0.6269\n",
            "Epoch 87/150\n",
            "1050/1050 [==============================] - 0s 388us/step - loss: 0.7288 - accuracy: 0.6505 - val_loss: 0.8064 - val_accuracy: 0.6343\n",
            "Epoch 88/150\n",
            "1050/1050 [==============================] - 0s 383us/step - loss: 0.7384 - accuracy: 0.6286 - val_loss: 0.8074 - val_accuracy: 0.6418\n",
            "Epoch 89/150\n",
            "1050/1050 [==============================] - 0s 414us/step - loss: 0.7548 - accuracy: 0.6171 - val_loss: 0.7968 - val_accuracy: 0.6343\n",
            "Epoch 90/150\n",
            "1050/1050 [==============================] - 0s 393us/step - loss: 0.7359 - accuracy: 0.6419 - val_loss: 0.7895 - val_accuracy: 0.6530\n",
            "Epoch 91/150\n",
            "1050/1050 [==============================] - 0s 353us/step - loss: 0.7259 - accuracy: 0.6543 - val_loss: 0.7836 - val_accuracy: 0.6604\n",
            "Epoch 92/150\n",
            "1050/1050 [==============================] - 0s 347us/step - loss: 0.7112 - accuracy: 0.6629 - val_loss: 0.7892 - val_accuracy: 0.6493\n",
            "Epoch 93/150\n",
            "1050/1050 [==============================] - 0s 379us/step - loss: 0.6989 - accuracy: 0.6410 - val_loss: 0.7592 - val_accuracy: 0.6604\n",
            "Epoch 94/150\n",
            "1050/1050 [==============================] - 0s 356us/step - loss: 0.7382 - accuracy: 0.6286 - val_loss: 0.7629 - val_accuracy: 0.6567\n",
            "Epoch 95/150\n",
            "1050/1050 [==============================] - 0s 364us/step - loss: 0.7425 - accuracy: 0.6400 - val_loss: 0.7732 - val_accuracy: 0.6604\n",
            "Epoch 96/150\n",
            "1050/1050 [==============================] - 0s 368us/step - loss: 0.7282 - accuracy: 0.6419 - val_loss: 0.7623 - val_accuracy: 0.6567\n",
            "Epoch 97/150\n",
            "1050/1050 [==============================] - 0s 374us/step - loss: 0.7362 - accuracy: 0.6295 - val_loss: 0.7644 - val_accuracy: 0.6791\n",
            "Epoch 98/150\n",
            "1050/1050 [==============================] - 0s 372us/step - loss: 0.7346 - accuracy: 0.6343 - val_loss: 0.7568 - val_accuracy: 0.6567\n",
            "Epoch 99/150\n",
            "1050/1050 [==============================] - 0s 403us/step - loss: 0.7128 - accuracy: 0.6590 - val_loss: 0.7363 - val_accuracy: 0.6791\n",
            "Epoch 100/150\n",
            "1050/1050 [==============================] - 0s 399us/step - loss: 0.7115 - accuracy: 0.6552 - val_loss: 0.7461 - val_accuracy: 0.6642\n",
            "Epoch 101/150\n",
            "1050/1050 [==============================] - 0s 370us/step - loss: 0.7123 - accuracy: 0.6610 - val_loss: 0.7285 - val_accuracy: 0.6866\n",
            "Epoch 102/150\n",
            "1050/1050 [==============================] - 0s 362us/step - loss: 0.7285 - accuracy: 0.6467 - val_loss: 0.7430 - val_accuracy: 0.6716\n",
            "Epoch 103/150\n",
            "1050/1050 [==============================] - 0s 367us/step - loss: 0.7037 - accuracy: 0.6590 - val_loss: 0.7255 - val_accuracy: 0.6866\n",
            "Epoch 104/150\n",
            "1050/1050 [==============================] - 0s 367us/step - loss: 0.7334 - accuracy: 0.6171 - val_loss: 0.7455 - val_accuracy: 0.6828\n",
            "Epoch 105/150\n",
            "1050/1050 [==============================] - 0s 378us/step - loss: 0.7146 - accuracy: 0.6562 - val_loss: 0.7299 - val_accuracy: 0.6866\n",
            "Epoch 106/150\n",
            "1050/1050 [==============================] - 0s 370us/step - loss: 0.7208 - accuracy: 0.6343 - val_loss: 0.7197 - val_accuracy: 0.6791\n",
            "Epoch 107/150\n",
            "1050/1050 [==============================] - 0s 356us/step - loss: 0.7018 - accuracy: 0.6476 - val_loss: 0.7201 - val_accuracy: 0.6903\n",
            "Epoch 108/150\n",
            "1050/1050 [==============================] - 0s 364us/step - loss: 0.7186 - accuracy: 0.6390 - val_loss: 0.7120 - val_accuracy: 0.7052\n",
            "Epoch 109/150\n",
            "1050/1050 [==============================] - 0s 378us/step - loss: 0.7166 - accuracy: 0.6352 - val_loss: 0.7059 - val_accuracy: 0.7127\n",
            "Epoch 110/150\n",
            "1050/1050 [==============================] - 0s 357us/step - loss: 0.7200 - accuracy: 0.6314 - val_loss: 0.7419 - val_accuracy: 0.6716\n",
            "Epoch 111/150\n",
            "1050/1050 [==============================] - 0s 364us/step - loss: 0.7067 - accuracy: 0.6410 - val_loss: 0.7281 - val_accuracy: 0.6903\n",
            "Epoch 112/150\n",
            "1050/1050 [==============================] - 0s 379us/step - loss: 0.7026 - accuracy: 0.6552 - val_loss: 0.7202 - val_accuracy: 0.7015\n",
            "Epoch 113/150\n",
            "1050/1050 [==============================] - 0s 360us/step - loss: 0.6998 - accuracy: 0.6524 - val_loss: 0.7227 - val_accuracy: 0.6940\n",
            "Epoch 114/150\n",
            "1050/1050 [==============================] - 0s 370us/step - loss: 0.6996 - accuracy: 0.6590 - val_loss: 0.7189 - val_accuracy: 0.7052\n",
            "Epoch 115/150\n",
            "1050/1050 [==============================] - 0s 369us/step - loss: 0.6918 - accuracy: 0.6562 - val_loss: 0.7100 - val_accuracy: 0.7052\n",
            "Epoch 116/150\n",
            "1050/1050 [==============================] - 0s 370us/step - loss: 0.7086 - accuracy: 0.6619 - val_loss: 0.7027 - val_accuracy: 0.7201\n",
            "Epoch 117/150\n",
            "1050/1050 [==============================] - 0s 359us/step - loss: 0.6897 - accuracy: 0.6610 - val_loss: 0.7156 - val_accuracy: 0.6940\n",
            "Epoch 118/150\n",
            "1050/1050 [==============================] - 0s 394us/step - loss: 0.6775 - accuracy: 0.6552 - val_loss: 0.6738 - val_accuracy: 0.7425\n",
            "Epoch 119/150\n",
            "1050/1050 [==============================] - 0s 416us/step - loss: 0.6862 - accuracy: 0.6238 - val_loss: 0.6752 - val_accuracy: 0.7276\n",
            "Epoch 120/150\n",
            "1050/1050 [==============================] - 0s 398us/step - loss: 0.6615 - accuracy: 0.6495 - val_loss: 0.6800 - val_accuracy: 0.7127\n",
            "Epoch 121/150\n",
            "1050/1050 [==============================] - 0s 385us/step - loss: 0.6824 - accuracy: 0.6657 - val_loss: 0.6832 - val_accuracy: 0.7201\n",
            "Epoch 122/150\n",
            "1050/1050 [==============================] - 0s 363us/step - loss: 0.6854 - accuracy: 0.6457 - val_loss: 0.7039 - val_accuracy: 0.7201\n",
            "Epoch 123/150\n",
            "1050/1050 [==============================] - 0s 370us/step - loss: 0.7038 - accuracy: 0.6324 - val_loss: 0.6926 - val_accuracy: 0.7201\n",
            "Epoch 124/150\n",
            "1050/1050 [==============================] - 0s 376us/step - loss: 0.6755 - accuracy: 0.6571 - val_loss: 0.6861 - val_accuracy: 0.7164\n",
            "Epoch 125/150\n",
            "1050/1050 [==============================] - 0s 351us/step - loss: 0.6885 - accuracy: 0.6486 - val_loss: 0.6954 - val_accuracy: 0.7388\n",
            "Epoch 126/150\n",
            "1050/1050 [==============================] - 0s 371us/step - loss: 0.6893 - accuracy: 0.6362 - val_loss: 0.7181 - val_accuracy: 0.7127\n",
            "Epoch 127/150\n",
            "1050/1050 [==============================] - 0s 413us/step - loss: 0.6778 - accuracy: 0.6286 - val_loss: 0.6882 - val_accuracy: 0.7388\n",
            "Epoch 128/150\n",
            "1050/1050 [==============================] - 0s 391us/step - loss: 0.6650 - accuracy: 0.6752 - val_loss: 0.6856 - val_accuracy: 0.7201\n",
            "Epoch 129/150\n",
            "1050/1050 [==============================] - 0s 373us/step - loss: 0.6917 - accuracy: 0.6638 - val_loss: 0.6741 - val_accuracy: 0.7313\n",
            "Epoch 130/150\n",
            "1050/1050 [==============================] - 0s 365us/step - loss: 0.6588 - accuracy: 0.6514 - val_loss: 0.6764 - val_accuracy: 0.7425\n",
            "Epoch 131/150\n",
            "1050/1050 [==============================] - 0s 368us/step - loss: 0.6692 - accuracy: 0.6629 - val_loss: 0.6771 - val_accuracy: 0.7463\n",
            "Epoch 132/150\n",
            "1050/1050 [==============================] - 0s 364us/step - loss: 0.6605 - accuracy: 0.6610 - val_loss: 0.6781 - val_accuracy: 0.7388\n",
            "Epoch 133/150\n",
            "1050/1050 [==============================] - 0s 375us/step - loss: 0.6670 - accuracy: 0.6476 - val_loss: 0.6691 - val_accuracy: 0.7537\n",
            "Epoch 134/150\n",
            "1050/1050 [==============================] - 0s 380us/step - loss: 0.6767 - accuracy: 0.6429 - val_loss: 0.6753 - val_accuracy: 0.7351\n",
            "Epoch 135/150\n",
            "1050/1050 [==============================] - 0s 363us/step - loss: 0.6988 - accuracy: 0.6229 - val_loss: 0.6613 - val_accuracy: 0.7575\n",
            "Epoch 136/150\n",
            "1050/1050 [==============================] - 0s 369us/step - loss: 0.7078 - accuracy: 0.6305 - val_loss: 0.6847 - val_accuracy: 0.7239\n",
            "Epoch 137/150\n",
            "1050/1050 [==============================] - 0s 374us/step - loss: 0.6646 - accuracy: 0.6619 - val_loss: 0.6592 - val_accuracy: 0.7575\n",
            "Epoch 138/150\n",
            "1050/1050 [==============================] - 0s 381us/step - loss: 0.6737 - accuracy: 0.6495 - val_loss: 0.6644 - val_accuracy: 0.7575\n",
            "Epoch 139/150\n",
            "1050/1050 [==============================] - 0s 380us/step - loss: 0.6890 - accuracy: 0.6543 - val_loss: 0.6656 - val_accuracy: 0.7612\n",
            "Epoch 140/150\n",
            "1050/1050 [==============================] - 0s 356us/step - loss: 0.6789 - accuracy: 0.6514 - val_loss: 0.6791 - val_accuracy: 0.7537\n",
            "Epoch 141/150\n",
            "1050/1050 [==============================] - 0s 367us/step - loss: 0.6480 - accuracy: 0.6743 - val_loss: 0.6522 - val_accuracy: 0.7500\n",
            "Epoch 142/150\n",
            "1050/1050 [==============================] - 0s 370us/step - loss: 0.6369 - accuracy: 0.6819 - val_loss: 0.6740 - val_accuracy: 0.7351\n",
            "Epoch 143/150\n",
            "1050/1050 [==============================] - 0s 364us/step - loss: 0.6698 - accuracy: 0.6676 - val_loss: 0.6478 - val_accuracy: 0.7388\n",
            "Epoch 144/150\n",
            "1050/1050 [==============================] - 0s 377us/step - loss: 0.6177 - accuracy: 0.6971 - val_loss: 0.6561 - val_accuracy: 0.7351\n",
            "Epoch 145/150\n",
            "1050/1050 [==============================] - 0s 395us/step - loss: 0.6659 - accuracy: 0.6610 - val_loss: 0.6646 - val_accuracy: 0.7425\n",
            "Epoch 146/150\n",
            "1050/1050 [==============================] - 0s 396us/step - loss: 0.6489 - accuracy: 0.6467 - val_loss: 0.6470 - val_accuracy: 0.7500\n",
            "Epoch 147/150\n",
            "1050/1050 [==============================] - 0s 385us/step - loss: 0.6812 - accuracy: 0.6505 - val_loss: 0.6325 - val_accuracy: 0.7612\n",
            "Epoch 148/150\n",
            "1050/1050 [==============================] - 0s 408us/step - loss: 0.6489 - accuracy: 0.6810 - val_loss: 0.6671 - val_accuracy: 0.7537\n",
            "Epoch 149/150\n",
            "1050/1050 [==============================] - 0s 381us/step - loss: 0.6481 - accuracy: 0.6790 - val_loss: 0.6804 - val_accuracy: 0.7425\n",
            "Epoch 150/150\n",
            "1050/1050 [==============================] - 0s 383us/step - loss: 0.6744 - accuracy: 0.6457 - val_loss: 0.7154 - val_accuracy: 0.7015\n"
          ],
          "name": "stdout"
        },
        {
          "output_type": "display_data",
          "data": {
            "image/png": "[encoded data removed]",
            "text/plain": [
              "<Figure size 432x288 with 1 Axes>"
            ]
          },
          "metadata": {
            "tags": []
          }
        }
      ]
    },
    {
      "cell_type": "code",
      "metadata": {
        "id": "euZZJtOFUvg0",
        "colab_type": "code",
        "colab": {}
      },
      "source": [
        "# Questions to answer...\n",
        "# 1. Why is Test loss smaller than Training loss?\n",
        "# 2. Why is Test loss increasing with iterations?"
      ],
      "execution_count": null,
      "outputs": []
    },
    {
      "cell_type": "code",
      "metadata": {
        "id": "OFf2YzRKlKh7",
        "colab_type": "code",
        "colab": {}
      },
      "source": [
        "# TODO Experiements: \n",
        "# Add regularizer to bias & weights\n",
        "# Try with more timestamps\n",
        "# Try more layers\n",
        "# Try up-sampling ather than down-sampling to balance labels in the training data\n",
        "# Try different batch size \n",
        "# Try different optimiser"
      ],
      "execution_count": null,
      "outputs": []
    },
    {
      "cell_type": "code",
      "metadata": {
        "id": "l3_pjYv6F6DR",
        "colab_type": "code",
        "colab": {}
      },
      "source": [
        ""
      ],
      "execution_count": null,
      "outputs": []
    }
  ]
}
{
  "nbformat": 4,
  "nbformat_minor": 0,
  "metadata": {
    "colab": {
      "name": "stockatron_baseline_model.ipynb",
      "provenance": [],
      "collapsed_sections": [],
      "authorship_tag": "ABX9TyPhwzDnmVQ4GQQj90NNikVJ",
      "include_colab_link": true
    },
    "kernelspec": {
      "name": "python3",
      "display_name": "Python 3"
    }
  },
  "cells": [
    {
      "cell_type": "markdown",
      "metadata": {
        "id": "view-in-github",
        "colab_type": "text"
      },
      "source": [
        "<a href=\"https://colab.research.google.com/github/simonperrott/stockatron/blob/master/stockatron_baseline_model.ipynb\" target=\"_parent\"><img src=\"https://colab.research.google.com/assets/colab-badge.svg\" alt=\"Open In Colab\"/></a>"
      ]
    },
    {
      "cell_type": "code",
      "metadata": {
        "id": "EtjZd564Drc1",
        "colab_type": "code",
        "colab": {
          "base_uri": "https://localhost:8080/",
          "height": 377
        },
        "outputId": "fe0ecf9a-1128-43f9-c8de-f8ac259d0ba8"
      },
      "source": [
        "!pip install yfinance"
      ],
      "execution_count": null,
      "outputs": [
        {
          "output_type": "stream",
          "text": [
            "Collecting yfinance\n",
            "  Downloading https://files.pythonhosted.org/packages/c2/31/8b374a12b90def92a4e27d0fc595fc43635f395984e36a075244d98bd265/yfinance-0.1.54.tar.gz\n",
            "Requirement already satisfied: pandas>=0.24 in /usr/local/lib/python3.6/dist-packages (from yfinance) (1.0.5)\n",
            "Requirement already satisfied: numpy>=1.15 in /usr/local/lib/python3.6/dist-packages (from yfinance) (1.18.5)\n",
            "Requirement already satisfied: requests>=2.20 in /usr/local/lib/python3.6/dist-packages (from yfinance) (2.23.0)\n",
            "Requirement already satisfied: multitasking>=0.0.7 in /usr/local/lib/python3.6/dist-packages (from yfinance) (0.0.9)\n",
            "Requirement already satisfied: python-dateutil>=2.6.1 in /usr/local/lib/python3.6/dist-packages (from pandas>=0.24->yfinance) (2.8.1)\n",
            "Requirement already satisfied: pytz>=2017.2 in /usr/local/lib/python3.6/dist-packages (from pandas>=0.24->yfinance) (2018.9)\n",
            "Requirement already satisfied: urllib3!=1.25.0,!=1.25.1,<1.26,>=1.21.1 in /usr/local/lib/python3.6/dist-packages (from requests>=2.20->yfinance) (1.24.3)\n",
            "Requirement already satisfied: certifi>=2017.4.17 in /usr/local/lib/python3.6/dist-packages (from requests>=2.20->yfinance) (2020.6.20)\n",
            "Requirement already satisfied: idna<3,>=2.5 in /usr/local/lib/python3.6/dist-packages (from requests>=2.20->yfinance) (2.10)\n",
            "Requirement already satisfied: chardet<4,>=3.0.2 in /usr/local/lib/python3.6/dist-packages (from requests>=2.20->yfinance) (3.0.4)\n",
            "Requirement already satisfied: six>=1.5 in /usr/local/lib/python3.6/dist-packages (from python-dateutil>=2.6.1->pandas>=0.24->yfinance) (1.12.0)\n",
            "Building wheels for collected packages: yfinance\n",
            "  Building wheel for yfinance (setup.py) ... \u001b[?25l\u001b[?25hdone\n",
            "  Created wheel for yfinance: filename=yfinance-0.1.54-py2.py3-none-any.whl size=22409 sha256=d73e0622776c7ac11aff1030b665749c393251c3b8429c40c97480012c6b0e7c\n",
            "  Stored in directory: /root/.cache/pip/wheels/f9/e3/5b/ec24dd2984b12d61e0abf26289746c2436a0e7844f26f2515c\n",
            "Successfully built yfinance\n",
            "Installing collected packages: yfinance\n",
            "Successfully installed yfinance-0.1.54\n"
          ],
          "name": "stdout"
        }
      ]
    },
    {
      "cell_type": "code",
      "metadata": {
        "id": "4RMI4D49XHN7",
        "colab_type": "code",
        "colab": {}
      },
      "source": [
        "import yfinance as yt\n",
        "import numpy as np\n",
        "import pandas as pd\n",
        "from matplotlib import pyplot\n",
        "\n",
        "pd.options.display.float_format = '{:.2f}'.format\n",
        "pd.options.display.max_rows = 15\n",
        "\n",
        "pyplot.style.use(\"dark_background\")"
      ],
      "execution_count": null,
      "outputs": []
    },
    {
      "cell_type": "code",
      "metadata": {
        "id": "KEb8Wur7X2AA",
        "colab_type": "code",
        "colab": {
          "base_uri": "https://localhost:8080/",
          "height": 354
        },
        "outputId": "084be086-c90f-4787-93f3-a65cc3c527ea"
      },
      "source": [
        "amzn = yt.Ticker('AMZN')\n",
        "df_amzn = amzn.history(start='1999-01-01')\n",
        "print(df_amzn.head(3))\n",
        "df_amzn['Close'].plot()\n",
        "pyplot.show()"
      ],
      "execution_count": null,
      "outputs": [
        {
          "output_type": "stream",
          "text": [
            "            Open  High   Low  Close    Volume  Dividends  Stock Splits\n",
            "Date                                                                  \n",
            "1999-01-04 54.61 59.33 53.31  59.16  39292200          0          0.00\n",
            "1999-01-05 54.78 64.88 53.25  62.25  62873200          0          3.00\n",
            "1999-01-06 68.19 70.19 67.00  69.00  36176600          0          0.00\n"
          ],
          "name": "stdout"
        },
        {
          "output_type": "display_data",
          "data": {
            "image/png": "[encoded data removed]",
            "text/plain": [
              "<Figure size 432x288 with 1 Axes>"
            ]
          },
          "metadata": {
            "tags": []
          }
        }
      ]
    },
    {
      "cell_type": "code",
      "metadata": {
        "id": "4GuXkms5fGwP",
        "colab_type": "code",
        "colab": {}
      },
      "source": [
        "# create the labels for each day\n",
        "# 0 HOLD => -ve threshold < % Change < +ve threshold\n",
        "# 1 BUY => % Change > +ve threshold\n",
        "# 3 SELL => % Change < -ve threshold\n",
        "\n",
        "def create_daily_features_and_labels(df, threshold=5):\n",
        "  df['DailyChange'] = 100* (df['Close'] - df['Open'])/df['Open']\n",
        "  df['DailyChange'].hist()\n",
        "  pyplot.show()\n",
        "  df['label'] = df['DailyChange'].apply(lambda x: 1 if x > threshold else 3 if x < -1*threshold else 0)\n",
        "  # Normalise as values are in a Gaussian distribution in hist() above\n",
        "  # Could also pass the dailyChange as a numpy array to StandardScalar\n",
        "  df['daily_change'] = (df['DailyChange'] - df.mean()['DailyChange'])/ df.std()['DailyChange']\n",
        "  print(df.tail(7))\n",
        "  return df.loc[:, ['daily_change', 'label']]"
      ],
      "execution_count": null,
      "outputs": []
    },
    {
      "cell_type": "code",
      "metadata": {
        "id": "klIFzBGZfPCY",
        "colab_type": "code",
        "colab": {
          "base_uri": "https://localhost:8080/",
          "height": 622
        },
        "outputId": "9ab58c42-e7cc-4afd-dcd6-23f2767f0ba5"
      },
      "source": [
        "dataset = create_daily_features_and_labels(df_amzn)\n",
        "print('********* Features with Labels **********')\n",
        "print(dataset.tail(7))"
      ],
      "execution_count": null,
      "outputs": [
        {
          "output_type": "display_data",
          "data": {
            "image/png": "[encoded data removed]",
            "text/plain": [
              "<Figure size 432x288 with 1 Axes>"
            ]
          },
          "metadata": {
            "tags": []
          }
        },
        {
          "output_type": "stream",
          "text": [
            "              Open    High     Low  ...  DailyChange  label  daily_change\n",
            "Date                                ...                                  \n",
            "2020-07-13 3251.06 3344.29 3068.39  ...        -4.52      0         -1.58\n",
            "2020-07-14 3089.00 3127.38 2950.00  ...        -0.16      0         -0.08\n",
            "2020-07-15 3080.23 3098.35 2973.18  ...        -2.32      0         -0.82\n",
            "2020-07-16 2971.06 3032.00 2918.23  ...         0.97      0          0.30\n",
            "2020-07-17 3009.00 3024.00 2948.45  ...        -1.56      0         -0.57\n",
            "2020-07-20 3000.20 3201.36 2994.02  ...         6.55      1          2.22\n",
            "2020-07-21 3232.49 3240.00 3105.72  ...        -3.29      0         -1.16\n",
            "\n",
            "[7 rows x 10 columns]\n",
            "********* Features with Labels **********\n",
            "            daily_change  label\n",
            "Date                           \n",
            "2020-07-13         -1.58      0\n",
            "2020-07-14         -0.08      0\n",
            "2020-07-15         -0.82      0\n",
            "2020-07-16          0.30      0\n",
            "2020-07-17         -0.57      0\n",
            "2020-07-20          2.22      1\n",
            "2020-07-21         -1.16      0\n"
          ],
          "name": "stdout"
        }
      ]
    },
    {
      "cell_type": "code",
      "metadata": {
        "id": "uAZXd2GmGz90",
        "colab_type": "code",
        "colab": {}
      },
      "source": [
        "from pandas import DataFrame\n",
        "from pandas import concat\n",
        "\n",
        "def dataframe_to_supervised(df, input_cols, label_col, n_in=1, n_out=1, dropnan=True):\n",
        "\t\"\"\"\n",
        "\tFrame a time series as a supervised learning dataset.\n",
        "\tArguments:\n",
        "\t\tdata: Sequence of observations as a NumPy array.\n",
        "    input_cols: list of strings identifying the input feature columns to use in shifting\n",
        "\t\tn_in: Number of lag observations as input (X).\n",
        "\t\tlabel_col: the name of the label column\n",
        "    n_out: Number of observations as output (y).\n",
        "\t\tdropnan: Boolean whether or not to drop rows with NaN values.\n",
        "\tReturns:\n",
        "\t\tPandas DataFrame of series framed for supervised learning.\n",
        "\t\"\"\"\n",
        "\tcols, names = list(), list()\n",
        "\t# input sequence (t-n, ... t-1)\n",
        "\tfor i in range(n_in, 0, -1):\n",
        "\t\tcols.append(df[input_cols].shift(i))\n",
        "\t\tnames += [f'{c}(t-{i})' for c in input_cols]\n",
        "\t# forecast sequence (t, t+1, ... t+n)\n",
        "\tfor i in range(0, n_out):\n",
        "\t\tcols.append(df[label_col].shift(-i))\n",
        "\t\tif i == 0:\n",
        "\t\t\tnames += [f'{label_col}(t)']\n",
        "\t\telse:\n",
        "\t\t\tnames += [f'{label_col}(t+{i})']\n",
        "\t# put it all together\n",
        "\tagg = concat(cols, axis=1)\n",
        "\tagg.columns = names\n",
        "\t# drop rows with NaN values\n",
        "\tif dropnan:\n",
        "\t\tagg.dropna(inplace=True)\n",
        "\treturn agg"
      ],
      "execution_count": null,
      "outputs": []
    },
    {
      "cell_type": "code",
      "metadata": {
        "id": "ufj6pvCwHEp4",
        "colab_type": "code",
        "colab": {
          "base_uri": "https://localhost:8080/",
          "height": 34
        },
        "outputId": "c117b3a3-7f42-45f6-aa8a-efd43a555b43"
      },
      "source": [
        "# Baseline 1st Model uses:\n",
        "# one feature = price daily change\n",
        "# timeseries of prices going back 50 days\n",
        "# predicts only 1 day forward\n",
        "num_time_steps = 1\n",
        "df_price_ts = dataframe_to_supervised(dataset, ['daily_change'], 'label', num_time_steps, 1)"
      ],
      "execution_count": null,
      "outputs": [
        {
          "output_type": "stream",
          "text": [
            "['daily_change(t-1)', 'label(t)']\n"
          ],
          "name": "stdout"
        }
      ]
    },
    {
      "cell_type": "code",
      "metadata": {
        "id": "7opoMThwGdcw",
        "colab_type": "code",
        "colab": {
          "base_uri": "https://localhost:8080/",
          "height": 407
        },
        "outputId": "4587f22a-39d1-46a7-b681-d720f688eedf"
      },
      "source": [
        "print(df_price_ts.shape)\n",
        "df_price_ts.tail(10)"
      ],
      "execution_count": null,
      "outputs": [
        {
          "output_type": "stream",
          "text": [
            "(5421, 2)\n"
          ],
          "name": "stdout"
        },
        {
          "output_type": "execute_result",
          "data": {
            "text/html": [
              "<div>\n",
              "<style scoped>\n",
              "    .dataframe tbody tr th:only-of-type {\n",
              "        vertical-align: middle;\n",
              "    }\n",
              "\n",
              "    .dataframe tbody tr th {\n",
              "        vertical-align: top;\n",
              "    }\n",
              "\n",
              "    .dataframe thead th {\n",
              "        text-align: right;\n",
              "    }\n",
              "</style>\n",
              "<table border=\"1\" class=\"dataframe\">\n",
              "  <thead>\n",
              "    <tr style=\"text-align: right;\">\n",
              "      <th></th>\n",
              "      <th>daily_change(t-1)</th>\n",
              "      <th>label(t)</th>\n",
              "    </tr>\n",
              "    <tr>\n",
              "      <th>Date</th>\n",
              "      <th></th>\n",
              "      <th></th>\n",
              "    </tr>\n",
              "  </thead>\n",
              "  <tbody>\n",
              "    <tr>\n",
              "      <th>2020-07-08</th>\n",
              "      <td>-0.69</td>\n",
              "      <td>0</td>\n",
              "    </tr>\n",
              "    <tr>\n",
              "      <th>2020-07-09</th>\n",
              "      <td>0.64</td>\n",
              "      <td>0</td>\n",
              "    </tr>\n",
              "    <tr>\n",
              "      <th>2020-07-10</th>\n",
              "      <td>0.71</td>\n",
              "      <td>0</td>\n",
              "    </tr>\n",
              "    <tr>\n",
              "      <th>2020-07-13</th>\n",
              "      <td>0.06</td>\n",
              "      <td>0</td>\n",
              "    </tr>\n",
              "    <tr>\n",
              "      <th>2020-07-14</th>\n",
              "      <td>-1.58</td>\n",
              "      <td>0</td>\n",
              "    </tr>\n",
              "    <tr>\n",
              "      <th>2020-07-15</th>\n",
              "      <td>-0.08</td>\n",
              "      <td>0</td>\n",
              "    </tr>\n",
              "    <tr>\n",
              "      <th>2020-07-16</th>\n",
              "      <td>-0.82</td>\n",
              "      <td>0</td>\n",
              "    </tr>\n",
              "    <tr>\n",
              "      <th>2020-07-17</th>\n",
              "      <td>0.30</td>\n",
              "      <td>0</td>\n",
              "    </tr>\n",
              "    <tr>\n",
              "      <th>2020-07-20</th>\n",
              "      <td>-0.57</td>\n",
              "      <td>1</td>\n",
              "    </tr>\n",
              "    <tr>\n",
              "      <th>2020-07-21</th>\n",
              "      <td>2.22</td>\n",
              "      <td>0</td>\n",
              "    </tr>\n",
              "  </tbody>\n",
              "</table>\n",
              "</div>"
            ],
            "text/plain": [
              "            daily_change(t-1)  label(t)\n",
              "Date                                   \n",
              "2020-07-08              -0.69         0\n",
              "2020-07-09               0.64         0\n",
              "2020-07-10               0.71         0\n",
              "2020-07-13               0.06         0\n",
              "2020-07-14              -1.58         0\n",
              "2020-07-15              -0.08         0\n",
              "2020-07-16              -0.82         0\n",
              "2020-07-17               0.30         0\n",
              "2020-07-20              -0.57         1\n",
              "2020-07-21               2.22         0"
            ]
          },
          "metadata": {
            "tags": []
          },
          "execution_count": 31
        }
      ]
    },
    {
      "cell_type": "code",
      "metadata": {
        "id": "kpNmG0icUwEq",
        "colab_type": "code",
        "colab": {
          "base_uri": "https://localhost:8080/",
          "height": 102
        },
        "outputId": "9747d89d-ea39-44f3-8c2a-ec85eb578de3"
      },
      "source": [
        "# Split into Train & Test\n",
        "# Training 2007 - 2017\n",
        "train = df_price_ts.loc['2015' :'2017'].values\n",
        "train_X, train_y = train[:, :-1], train[:, -1]\n",
        "# Test 2018 - now\n",
        "test = df_price_ts.loc['2018' :'2020'].values\n",
        "test_X, test_y = test[:, :-1], test[:, -1]\n",
        "\n",
        "# reshape input to be 3D [samples, timesteps, features]\n",
        "train_X = train_X.reshape((train_X.shape[0], num_time_steps, train_X.shape[1]))\n",
        "test_X = test_X.reshape((test_X.shape[0], num_time_steps, test_X.shape[1]))\n",
        "print(train_X.shape, train_y.shape, test_X.shape, test_y.shape)"
      ],
      "execution_count": null,
      "outputs": [
        {
          "output_type": "stream",
          "text": [
            "(755, 1)\n",
            "(755,)\n",
            "(642, 1)\n",
            "(642,)\n",
            "(755, 1, 1) (755,) (642, 1, 1) (642,)\n"
          ],
          "name": "stdout"
        }
      ]
    },
    {
      "cell_type": "code",
      "metadata": {
        "id": "mFVTomFgUvuh",
        "colab_type": "code",
        "colab": {
          "base_uri": "https://localhost:8080/",
          "height": 1000
        },
        "outputId": "ea56c808-15fd-4e23-f1c0-4d3833f218b2"
      },
      "source": [
        "from keras.models import Sequential\n",
        "from keras.layers import Dense\n",
        "from keras.layers import LSTM\n",
        "\n",
        "# design network\n",
        "model = Sequential()\n",
        "model.add(LSTM(50, input_shape=(train_X.shape[1], train_X.shape[2])))\n",
        "model.add(Dense(1))\n",
        "model.compile(loss='mae', optimizer='adam')\n",
        "# fit network\n",
        "history = model.fit(train_X, train_y, epochs=50, batch_size=72, validation_data=(test_X, test_y), verbose=2, shuffle=False)\n",
        "# plot history\n",
        "pyplot.plot(history.history['loss'], label='train')\n",
        "pyplot.plot(history.history['val_loss'], label='test')\n",
        "pyplot.legend()\n",
        "pyplot.show()"
      ],
      "execution_count": null,
      "outputs": [
        {
          "output_type": "stream",
          "text": [
            "Using TensorFlow backend.\n"
          ],
          "name": "stderr"
        },
        {
          "output_type": "stream",
          "text": [
            "Train on 755 samples, validate on 642 samples\n",
            "Epoch 1/50\n",
            " - 1s - loss: 0.0143 - val_loss: 0.0354\n",
            "Epoch 2/50\n",
            " - 0s - loss: 0.0132 - val_loss: 0.0348\n",
            "Epoch 3/50\n",
            " - 0s - loss: 0.0129 - val_loss: 0.0342\n",
            "Epoch 4/50\n",
            " - 0s - loss: 0.0128 - val_loss: 0.0337\n",
            "Epoch 5/50\n",
            " - 0s - loss: 0.0123 - val_loss: 0.0333\n",
            "Epoch 6/50\n",
            " - 0s - loss: 0.0122 - val_loss: 0.0332\n",
            "Epoch 7/50\n",
            " - 0s - loss: 0.0122 - val_loss: 0.0330\n",
            "Epoch 8/50\n",
            " - 0s - loss: 0.0122 - val_loss: 0.0332\n",
            "Epoch 9/50\n",
            " - 0s - loss: 0.0124 - val_loss: 0.0333\n",
            "Epoch 10/50\n",
            " - 0s - loss: 0.0126 - val_loss: 0.0334\n",
            "Epoch 11/50\n",
            " - 0s - loss: 0.0124 - val_loss: 0.0330\n",
            "Epoch 12/50\n",
            " - 0s - loss: 0.0121 - val_loss: 0.0328\n",
            "Epoch 13/50\n",
            " - 0s - loss: 0.0121 - val_loss: 0.0331\n",
            "Epoch 14/50\n",
            " - 0s - loss: 0.0122 - val_loss: 0.0329\n",
            "Epoch 15/50\n",
            " - 0s - loss: 0.0121 - val_loss: 0.0331\n",
            "Epoch 16/50\n",
            " - 0s - loss: 0.0121 - val_loss: 0.0330\n",
            "Epoch 17/50\n",
            " - 0s - loss: 0.0123 - val_loss: 0.0328\n",
            "Epoch 18/50\n",
            " - 0s - loss: 0.0122 - val_loss: 0.0330\n",
            "Epoch 19/50\n",
            " - 0s - loss: 0.0121 - val_loss: 0.0329\n",
            "Epoch 20/50\n",
            " - 0s - loss: 0.0121 - val_loss: 0.0328\n",
            "Epoch 21/50\n",
            " - 0s - loss: 0.0121 - val_loss: 0.0328\n",
            "Epoch 22/50\n",
            " - 0s - loss: 0.0121 - val_loss: 0.0330\n",
            "Epoch 23/50\n",
            " - 0s - loss: 0.0122 - val_loss: 0.0331\n",
            "Epoch 24/50\n",
            " - 0s - loss: 0.0122 - val_loss: 0.0330\n",
            "Epoch 25/50\n",
            " - 0s - loss: 0.0122 - val_loss: 0.0329\n",
            "Epoch 26/50\n",
            " - 0s - loss: 0.0122 - val_loss: 0.0330\n",
            "Epoch 27/50\n",
            " - 0s - loss: 0.0122 - val_loss: 0.0330\n",
            "Epoch 28/50\n",
            " - 0s - loss: 0.0121 - val_loss: 0.0329\n",
            "Epoch 29/50\n",
            " - 0s - loss: 0.0121 - val_loss: 0.0329\n",
            "Epoch 30/50\n",
            " - 0s - loss: 0.0121 - val_loss: 0.0329\n",
            "Epoch 31/50\n",
            " - 0s - loss: 0.0121 - val_loss: 0.0331\n",
            "Epoch 32/50\n",
            " - 0s - loss: 0.0122 - val_loss: 0.0330\n",
            "Epoch 33/50\n",
            " - 0s - loss: 0.0123 - val_loss: 0.0330\n",
            "Epoch 34/50\n",
            " - 0s - loss: 0.0123 - val_loss: 0.0331\n",
            "Epoch 35/50\n",
            " - 0s - loss: 0.0121 - val_loss: 0.0329\n",
            "Epoch 36/50\n",
            " - 0s - loss: 0.0121 - val_loss: 0.0328\n",
            "Epoch 37/50\n",
            " - 0s - loss: 0.0121 - val_loss: 0.0329\n",
            "Epoch 38/50\n",
            " - 0s - loss: 0.0121 - val_loss: 0.0333\n",
            "Epoch 39/50\n",
            " - 0s - loss: 0.0122 - val_loss: 0.0328\n",
            "Epoch 40/50\n",
            " - 0s - loss: 0.0123 - val_loss: 0.0328\n",
            "Epoch 41/50\n",
            " - 0s - loss: 0.0124 - val_loss: 0.0330\n",
            "Epoch 42/50\n",
            " - 0s - loss: 0.0124 - val_loss: 0.0335\n",
            "Epoch 43/50\n",
            " - 0s - loss: 0.0123 - val_loss: 0.0332\n",
            "Epoch 44/50\n",
            " - 0s - loss: 0.0122 - val_loss: 0.0331\n",
            "Epoch 45/50\n",
            " - 0s - loss: 0.0122 - val_loss: 0.0329\n",
            "Epoch 46/50\n",
            " - 0s - loss: 0.0122 - val_loss: 0.0330\n",
            "Epoch 47/50\n",
            " - 0s - loss: 0.0122 - val_loss: 0.0330\n",
            "Epoch 48/50\n",
            " - 0s - loss: 0.0121 - val_loss: 0.0329\n",
            "Epoch 49/50\n",
            " - 0s - loss: 0.0122 - val_loss: 0.0331\n",
            "Epoch 50/50\n",
            " - 0s - loss: 0.0123 - val_loss: 0.0329\n"
          ],
          "name": "stdout"
        },
        {
          "output_type": "display_data",
          "data": {
            "image/png": "[encoded data removed]",
            "text/plain": [
              "<Figure size 432x288 with 1 Axes>"
            ]
          },
          "metadata": {
            "tags": []
          }
        }
      ]
    },
    {
      "cell_type": "code",
      "metadata": {
        "id": "euZZJtOFUvg0",
        "colab_type": "code",
        "colab": {}
      },
      "source": [
        ""
      ],
      "execution_count": null,
      "outputs": []
    },
    {
      "cell_type": "code",
      "metadata": {
        "id": "PJ1IwnZMUvTz",
        "colab_type": "code",
        "colab": {}
      },
      "source": [
        ""
      ],
      "execution_count": null,
      "outputs": []
    },
    {
      "cell_type": "code",
      "metadata": {
        "id": "aZos3cNsUvHJ",
        "colab_type": "code",
        "colab": {}
      },
      "source": [
        ""
      ],
      "execution_count": null,
      "outputs": []
    },
    {
      "cell_type": "code",
      "metadata": {
        "id": "NGZEhqExUuws",
        "colab_type": "code",
        "colab": {}
      },
      "source": [
        ""
      ],
      "execution_count": null,
      "outputs": []
    },
    {
      "cell_type": "code",
      "metadata": {
        "id": "MKKsM7WAUujx",
        "colab_type": "code",
        "colab": {}
      },
      "source": [
        ""
      ],
      "execution_count": null,
      "outputs": []
    },
    {
      "cell_type": "code",
      "metadata": {
        "id": "ICSTc12zOGVY",
        "colab_type": "code",
        "colab": {
          "base_uri": "https://localhost:8080/",
          "height": 657
        },
        "outputId": "1182908f-533c-4e3b-b762-f14e4165227f"
      },
      "source": [
        "# Input features are DailyChange_n and S&P_DAilyChange_n of the day before\n",
        "df_amzn['PreviousDay_Change'] = df_amzn.DailyChange_n.shift(1)\n",
        "df_amzn['PreviousDay_S&P_Change'] = df_amzn['S&P_DailyChange_n'].shift(1)\n",
        "# drop the first row as we don't have a previous day\n",
        "df_amzn.dropna(inplace=True)\n",
        "df_amzn"
      ],
      "execution_count": null,
      "outputs": [
        {
          "output_type": "execute_result",
          "data": {
            "text/plain": [
              "              Open    High     Low   Close    Volume  Dividends  Stock Splits  \\\n",
              "Date                                                                            \n",
              "1999-01-04   54.61   59.33   53.31   59.16  39292200          0          0.00   \n",
              "1999-01-05   54.78   64.88   53.25   62.25  62873200          0          3.00   \n",
              "1999-01-06   68.19   70.19   67.00   69.00  36176600          0          0.00   \n",
              "1999-01-07   68.56   80.12   66.50   79.44  47274600          0          0.00   \n",
              "1999-01-08   92.12   99.56   76.00   80.12  66662200          0          0.00   \n",
              "...            ...     ...     ...     ...       ...        ...           ...   \n",
              "2020-07-13 3251.06 3344.29 3068.39 3104.00   7720400          0          0.00   \n",
              "2020-07-14 3089.00 3127.38 2950.00 3084.00   7231900          0          0.00   \n",
              "2020-07-15 3080.23 3098.35 2973.18 3008.87   5788900          0          0.00   \n",
              "2020-07-16 2971.06 3032.00 2918.23 2999.90   6376200          0          0.00   \n",
              "2020-07-17 3009.00 3024.00 2948.45 2955.04   2921971          0          0.00   \n",
              "\n",
              "            DailyChangePercent  DailyChange  DailyChangePercent_n  \\\n",
              "Date                                                                \n",
              "1999-01-04                8.33         8.33                  2.83   \n",
              "1999-01-05               13.64        13.64                  4.66   \n",
              "1999-01-06                1.19         1.19                  0.38   \n",
              "1999-01-07               15.87        15.87                  5.42   \n",
              "1999-01-08              -13.03       -13.03                 -4.50   \n",
              "...                        ...          ...                   ...   \n",
              "2020-07-13               -4.52        -4.52                 -1.58   \n",
              "2020-07-14               -0.16        -0.16                 -0.08   \n",
              "2020-07-15               -2.32        -2.32                 -0.83   \n",
              "2020-07-16                0.97         0.97                  0.30   \n",
              "2020-07-17               -1.79        -1.79                 -0.65   \n",
              "\n",
              "            DailyChange_n  Volume_n  label  S&P_DailyChange_n  \\\n",
              "Date                                                            \n",
              "1999-01-04           2.83      3.19      1              -0.10   \n",
              "1999-01-05           4.66      3.97      1               1.16   \n",
              "1999-01-06           0.38      3.05      0               1.90   \n",
              "1999-01-07           5.42      3.50      1              -0.19   \n",
              "1999-01-08          -4.50      4.06      3               0.35   \n",
              "...                   ...       ...    ...                ...   \n",
              "2020-07-13          -1.58      0.50      0              -1.36   \n",
              "2020-07-14          -0.08      0.39      0               1.54   \n",
              "2020-07-15          -0.83      0.03      0              -0.00   \n",
              "2020-07-16           0.30      0.19      0               0.18   \n",
              "2020-07-17          -0.65     -1.10      0               0.04   \n",
              "\n",
              "            PreviousDay_Change  PreviousDay_S&P_Change  \n",
              "Date                                                    \n",
              "1999-01-04                0.40                   -0.21  \n",
              "1999-01-05                2.83                   -0.10  \n",
              "1999-01-06                4.66                    1.16  \n",
              "1999-01-07                0.38                    1.90  \n",
              "1999-01-08                5.42                   -0.19  \n",
              "...                        ...                     ...  \n",
              "2020-07-13                0.06                    0.88  \n",
              "2020-07-14               -1.58                   -1.36  \n",
              "2020-07-15               -0.08                    1.54  \n",
              "2020-07-16               -0.83                   -0.00  \n",
              "2020-07-17                0.30                    0.18  \n",
              "\n",
              "[5420 rows x 16 columns]"
            ],
            "text/html": [
              "<div>\n",
              "<style scoped>\n",
              "    .dataframe tbody tr th:only-of-type {\n",
              "        vertical-align: middle;\n",
              "    }\n",
              "\n",
              "    .dataframe tbody tr th {\n",
              "        vertical-align: top;\n",
              "    }\n",
              "\n",
              "    .dataframe thead th {\n",
              "        text-align: right;\n",
              "    }\n",
              "</style>\n",
              "<table border=\"1\" class=\"dataframe\">\n",
              "  <thead>\n",
              "    <tr style=\"text-align: right;\">\n",
              "      <th></th>\n",
              "      <th>Open</th>\n",
              "      <th>High</th>\n",
              "      <th>Low</th>\n",
              "      <th>Close</th>\n",
              "      <th>Volume</th>\n",
              "      <th>Dividends</th>\n",
              "      <th>Stock Splits</th>\n",
              "      <th>DailyChangePercent</th>\n",
              "      <th>DailyChange</th>\n",
              "      <th>DailyChangePercent_n</th>\n",
              "      <th>DailyChange_n</th>\n",
              "      <th>Volume_n</th>\n",
              "      <th>label</th>\n",
              "      <th>S&amp;P_DailyChange_n</th>\n",
              "      <th>PreviousDay_Change</th>\n",
              "      <th>PreviousDay_S&amp;P_Change</th>\n",
              "    </tr>\n",
              "    <tr>\n",
              "      <th>Date</th>\n",
              "      <th></th>\n",
              "      <th></th>\n",
              "      <th></th>\n",
              "      <th></th>\n",
              "      <th></th>\n",
              "      <th></th>\n",
              "      <th></th>\n",
              "      <th></th>\n",
              "      <th></th>\n",
              "      <th></th>\n",
              "      <th></th>\n",
              "      <th></th>\n",
              "      <th></th>\n",
              "      <th></th>\n",
              "      <th></th>\n",
              "      <th></th>\n",
              "    </tr>\n",
              "  </thead>\n",
              "  <tbody>\n",
              "    <tr>\n",
              "      <th>1999-01-04</th>\n",
              "      <td>54.61</td>\n",
              "      <td>59.33</td>\n",
              "      <td>53.31</td>\n",
              "      <td>59.16</td>\n",
              "      <td>39292200</td>\n",
              "      <td>0</td>\n",
              "      <td>0.00</td>\n",
              "      <td>8.33</td>\n",
              "      <td>8.33</td>\n",
              "      <td>2.83</td>\n",
              "      <td>2.83</td>\n",
              "      <td>3.19</td>\n",
              "      <td>1</td>\n",
              "      <td>-0.10</td>\n",
              "      <td>0.40</td>\n",
              "      <td>-0.21</td>\n",
              "    </tr>\n",
              "    <tr>\n",
              "      <th>1999-01-05</th>\n",
              "      <td>54.78</td>\n",
              "      <td>64.88</td>\n",
              "      <td>53.25</td>\n",
              "      <td>62.25</td>\n",
              "      <td>62873200</td>\n",
              "      <td>0</td>\n",
              "      <td>3.00</td>\n",
              "      <td>13.64</td>\n",
              "      <td>13.64</td>\n",
              "      <td>4.66</td>\n",
              "      <td>4.66</td>\n",
              "      <td>3.97</td>\n",
              "      <td>1</td>\n",
              "      <td>1.16</td>\n",
              "      <td>2.83</td>\n",
              "      <td>-0.10</td>\n",
              "    </tr>\n",
              "    <tr>\n",
              "      <th>1999-01-06</th>\n",
              "      <td>68.19</td>\n",
              "      <td>70.19</td>\n",
              "      <td>67.00</td>\n",
              "      <td>69.00</td>\n",
              "      <td>36176600</td>\n",
              "      <td>0</td>\n",
              "      <td>0.00</td>\n",
              "      <td>1.19</td>\n",
              "      <td>1.19</td>\n",
              "      <td>0.38</td>\n",
              "      <td>0.38</td>\n",
              "      <td>3.05</td>\n",
              "      <td>0</td>\n",
              "      <td>1.90</td>\n",
              "      <td>4.66</td>\n",
              "      <td>1.16</td>\n",
              "    </tr>\n",
              "    <tr>\n",
              "      <th>1999-01-07</th>\n",
              "      <td>68.56</td>\n",
              "      <td>80.12</td>\n",
              "      <td>66.50</td>\n",
              "      <td>79.44</td>\n",
              "      <td>47274600</td>\n",
              "      <td>0</td>\n",
              "      <td>0.00</td>\n",
              "      <td>15.87</td>\n",
              "      <td>15.87</td>\n",
              "      <td>5.42</td>\n",
              "      <td>5.42</td>\n",
              "      <td>3.50</td>\n",
              "      <td>1</td>\n",
              "      <td>-0.19</td>\n",
              "      <td>0.38</td>\n",
              "      <td>1.90</td>\n",
              "    </tr>\n",
              "    <tr>\n",
              "      <th>1999-01-08</th>\n",
              "      <td>92.12</td>\n",
              "      <td>99.56</td>\n",
              "      <td>76.00</td>\n",
              "      <td>80.12</td>\n",
              "      <td>66662200</td>\n",
              "      <td>0</td>\n",
              "      <td>0.00</td>\n",
              "      <td>-13.03</td>\n",
              "      <td>-13.03</td>\n",
              "      <td>-4.50</td>\n",
              "      <td>-4.50</td>\n",
              "      <td>4.06</td>\n",
              "      <td>3</td>\n",
              "      <td>0.35</td>\n",
              "      <td>5.42</td>\n",
              "      <td>-0.19</td>\n",
              "    </tr>\n",
              "    <tr>\n",
              "      <th>...</th>\n",
              "      <td>...</td>\n",
              "      <td>...</td>\n",
              "      <td>...</td>\n",
              "      <td>...</td>\n",
              "      <td>...</td>\n",
              "      <td>...</td>\n",
              "      <td>...</td>\n",
              "      <td>...</td>\n",
              "      <td>...</td>\n",
              "      <td>...</td>\n",
              "      <td>...</td>\n",
              "      <td>...</td>\n",
              "      <td>...</td>\n",
              "      <td>...</td>\n",
              "      <td>...</td>\n",
              "      <td>...</td>\n",
              "    </tr>\n",
              "    <tr>\n",
              "      <th>2020-07-13</th>\n",
              "      <td>3251.06</td>\n",
              "      <td>3344.29</td>\n",
              "      <td>3068.39</td>\n",
              "      <td>3104.00</td>\n",
              "      <td>7720400</td>\n",
              "      <td>0</td>\n",
              "      <td>0.00</td>\n",
              "      <td>-4.52</td>\n",
              "      <td>-4.52</td>\n",
              "      <td>-1.58</td>\n",
              "      <td>-1.58</td>\n",
              "      <td>0.50</td>\n",
              "      <td>0</td>\n",
              "      <td>-1.36</td>\n",
              "      <td>0.06</td>\n",
              "      <td>0.88</td>\n",
              "    </tr>\n",
              "    <tr>\n",
              "      <th>2020-07-14</th>\n",
              "      <td>3089.00</td>\n",
              "      <td>3127.38</td>\n",
              "      <td>2950.00</td>\n",
              "      <td>3084.00</td>\n",
              "      <td>7231900</td>\n",
              "      <td>0</td>\n",
              "      <td>0.00</td>\n",
              "      <td>-0.16</td>\n",
              "      <td>-0.16</td>\n",
              "      <td>-0.08</td>\n",
              "      <td>-0.08</td>\n",
              "      <td>0.39</td>\n",
              "      <td>0</td>\n",
              "      <td>1.54</td>\n",
              "      <td>-1.58</td>\n",
              "      <td>-1.36</td>\n",
              "    </tr>\n",
              "    <tr>\n",
              "      <th>2020-07-15</th>\n",
              "      <td>3080.23</td>\n",
              "      <td>3098.35</td>\n",
              "      <td>2973.18</td>\n",
              "      <td>3008.87</td>\n",
              "      <td>5788900</td>\n",
              "      <td>0</td>\n",
              "      <td>0.00</td>\n",
              "      <td>-2.32</td>\n",
              "      <td>-2.32</td>\n",
              "      <td>-0.83</td>\n",
              "      <td>-0.83</td>\n",
              "      <td>0.03</td>\n",
              "      <td>0</td>\n",
              "      <td>-0.00</td>\n",
              "      <td>-0.08</td>\n",
              "      <td>1.54</td>\n",
              "    </tr>\n",
              "    <tr>\n",
              "      <th>2020-07-16</th>\n",
              "      <td>2971.06</td>\n",
              "      <td>3032.00</td>\n",
              "      <td>2918.23</td>\n",
              "      <td>2999.90</td>\n",
              "      <td>6376200</td>\n",
              "      <td>0</td>\n",
              "      <td>0.00</td>\n",
              "      <td>0.97</td>\n",
              "      <td>0.97</td>\n",
              "      <td>0.30</td>\n",
              "      <td>0.30</td>\n",
              "      <td>0.19</td>\n",
              "      <td>0</td>\n",
              "      <td>0.18</td>\n",
              "      <td>-0.83</td>\n",
              "      <td>-0.00</td>\n",
              "    </tr>\n",
              "    <tr>\n",
              "      <th>2020-07-17</th>\n",
              "      <td>3009.00</td>\n",
              "      <td>3024.00</td>\n",
              "      <td>2948.45</td>\n",
              "      <td>2955.04</td>\n",
              "      <td>2921971</td>\n",
              "      <td>0</td>\n",
              "      <td>0.00</td>\n",
              "      <td>-1.79</td>\n",
              "      <td>-1.79</td>\n",
              "      <td>-0.65</td>\n",
              "      <td>-0.65</td>\n",
              "      <td>-1.10</td>\n",
              "      <td>0</td>\n",
              "      <td>0.04</td>\n",
              "      <td>0.30</td>\n",
              "      <td>0.18</td>\n",
              "    </tr>\n",
              "  </tbody>\n",
              "</table>\n",
              "<p>5420 rows × 16 columns</p>\n",
              "</div>"
            ]
          },
          "metadata": {
            "tags": []
          },
          "execution_count": 221
        }
      ]
    },
    {
      "cell_type": "code",
      "metadata": {
        "id": "KXVpX36Dbbg-",
        "colab_type": "code",
        "colab": {
          "base_uri": "https://localhost:8080/",
          "height": 450
        },
        "outputId": "713584cf-43f1-453a-f407-7b7971bb892e"
      },
      "source": [
        "# Grab my features and label\n",
        "# Shuffle\n",
        "df = df_amzn[['PreviousDay_Change', 'PreviousDay_S&P_Change', 'label']]\n",
        "df = df.reindex(np.random.permutation(df.index))\n",
        "\n",
        "df"
      ],
      "execution_count": null,
      "outputs": [
        {
          "output_type": "execute_result",
          "data": {
            "text/plain": [
              "            PreviousDay_Change  PreviousDay_S&P_Change  label\n",
              "Date                                                         \n",
              "2001-04-04               -0.34                   -2.99      0\n",
              "2014-05-29                0.04                   -0.11      0\n",
              "2001-10-18               -3.68                   -1.63      0\n",
              "1999-09-29                1.83                   -0.09      1\n",
              "2000-07-21               -0.56                    0.78      0\n",
              "...                        ...                     ...    ...\n",
              "2001-12-18               -0.93                    0.85      0\n",
              "2017-01-18               -0.28                   -0.06      0\n",
              "1999-07-15                2.03                    0.27      0\n",
              "2015-03-16               -0.12                   -0.48      0\n",
              "2004-09-28               -0.85                   -0.53      0\n",
              "\n",
              "[5420 rows x 3 columns]"
            ],
            "text/html": [
              "<div>\n",
              "<style scoped>\n",
              "    .dataframe tbody tr th:only-of-type {\n",
              "        vertical-align: middle;\n",
              "    }\n",
              "\n",
              "    .dataframe tbody tr th {\n",
              "        vertical-align: top;\n",
              "    }\n",
              "\n",
              "    .dataframe thead th {\n",
              "        text-align: right;\n",
              "    }\n",
              "</style>\n",
              "<table border=\"1\" class=\"dataframe\">\n",
              "  <thead>\n",
              "    <tr style=\"text-align: right;\">\n",
              "      <th></th>\n",
              "      <th>PreviousDay_Change</th>\n",
              "      <th>PreviousDay_S&amp;P_Change</th>\n",
              "      <th>label</th>\n",
              "    </tr>\n",
              "    <tr>\n",
              "      <th>Date</th>\n",
              "      <th></th>\n",
              "      <th></th>\n",
              "      <th></th>\n",
              "    </tr>\n",
              "  </thead>\n",
              "  <tbody>\n",
              "    <tr>\n",
              "      <th>2001-04-04</th>\n",
              "      <td>-0.34</td>\n",
              "      <td>-2.99</td>\n",
              "      <td>0</td>\n",
              "    </tr>\n",
              "    <tr>\n",
              "      <th>2014-05-29</th>\n",
              "      <td>0.04</td>\n",
              "      <td>-0.11</td>\n",
              "      <td>0</td>\n",
              "    </tr>\n",
              "    <tr>\n",
              "      <th>2001-10-18</th>\n",
              "      <td>-3.68</td>\n",
              "      <td>-1.63</td>\n",
              "      <td>0</td>\n",
              "    </tr>\n",
              "    <tr>\n",
              "      <th>1999-09-29</th>\n",
              "      <td>1.83</td>\n",
              "      <td>-0.09</td>\n",
              "      <td>1</td>\n",
              "    </tr>\n",
              "    <tr>\n",
              "      <th>2000-07-21</th>\n",
              "      <td>-0.56</td>\n",
              "      <td>0.78</td>\n",
              "      <td>0</td>\n",
              "    </tr>\n",
              "    <tr>\n",
              "      <th>...</th>\n",
              "      <td>...</td>\n",
              "      <td>...</td>\n",
              "      <td>...</td>\n",
              "    </tr>\n",
              "    <tr>\n",
              "      <th>2001-12-18</th>\n",
              "      <td>-0.93</td>\n",
              "      <td>0.85</td>\n",
              "      <td>0</td>\n",
              "    </tr>\n",
              "    <tr>\n",
              "      <th>2017-01-18</th>\n",
              "      <td>-0.28</td>\n",
              "      <td>-0.06</td>\n",
              "      <td>0</td>\n",
              "    </tr>\n",
              "    <tr>\n",
              "      <th>1999-07-15</th>\n",
              "      <td>2.03</td>\n",
              "      <td>0.27</td>\n",
              "      <td>0</td>\n",
              "    </tr>\n",
              "    <tr>\n",
              "      <th>2015-03-16</th>\n",
              "      <td>-0.12</td>\n",
              "      <td>-0.48</td>\n",
              "      <td>0</td>\n",
              "    </tr>\n",
              "    <tr>\n",
              "      <th>2004-09-28</th>\n",
              "      <td>-0.85</td>\n",
              "      <td>-0.53</td>\n",
              "      <td>0</td>\n",
              "    </tr>\n",
              "  </tbody>\n",
              "</table>\n",
              "<p>5420 rows × 3 columns</p>\n",
              "</div>"
            ]
          },
          "metadata": {
            "tags": []
          },
          "execution_count": 224
        }
      ]
    },
    {
      "cell_type": "code",
      "metadata": {
        "id": "VYy_fvfFUFh8",
        "colab_type": "code",
        "colab": {
          "base_uri": "https://localhost:8080/",
          "height": 258
        },
        "outputId": "3f82ee85-b3de-41b5-8fd9-a426eded5a0f"
      },
      "source": [
        "# Plot the data beforehand\n",
        "df['color'] = df['label'].apply(lambda x: 'blue' if x==0 else 'red' if x==3 else 'green')\n",
        "df.plot.scatter(x='PreviousDay_Change', y='PreviousDay_S&P_Change', c='color')\n",
        "pyplot.show()\n",
        "\n",
        "# => A linear model cannot separate the classes!"
      ],
      "execution_count": null,
      "outputs": [
        {
          "output_type": "display_data",
          "data": {
            "text/plain": [
              "<Figure size 432x288 with 2 Axes>"
            ],
            "image/png": "[encoded data removed]"
          },
          "metadata": {
            "tags": []
          }
        }
      ]
    },
    {
      "cell_type": "code",
      "metadata": {
        "id": "6ZN9O2RijhJs",
        "colab_type": "code",
        "colab": {
          "base_uri": "https://localhost:8080/",
          "height": 280
        },
        "outputId": "c71297c1-6869-4af8-c0c3-f811cbf220ea"
      },
      "source": [
        "# Trying a linear model based just on the Previous day's change\n",
        "\n",
        "df.plot.scatter(x='PreviousDay_Change', y='DailyChangePercent_n')\n",
        "pyplot.show()\n",
        "\n",
        "# Still not linear. \n",
        "# Either add more features seeking a linear relationship \n",
        "# Or start my neural net"
      ],
      "execution_count": null,
      "outputs": [
        {
          "output_type": "display_data",
          "data": {
            "text/plain": [
              "<Figure size 432x288 with 1 Axes>"
            ],
            "image/png": "[encoded data removed]"
          },
          "metadata": {
            "tags": []
          }
        }
      ]
    },
    {
      "cell_type": "code",
      "metadata": {
        "id": "e9oVC0w1nFSB",
        "colab_type": "code",
        "colab": {
          "base_uri": "https://localhost:8080/",
          "height": 487
        },
        "outputId": "fadc3c8a-8150-44ae-c50a-32ca3eb6cb6c"
      },
      "source": [
        "# S&P500\n",
        "gspc = yt.Ticker('^GSPC')\n",
        "print(gspc.info)\n",
        "df_gspc = gspc.history(start='1997-05-15')\n",
        "df_gspc"
      ],
      "execution_count": null,
      "outputs": [
        {
          "output_type": "stream",
          "text": [
            "{'previousClose': 3226.56, 'regularMarketOpen': 3208.36, 'twoHundredDayAverage': 3009.2656, 'trailingAnnualDividendYield': None, 'payoutRatio': None, 'volume24Hr': None, 'regularMarketDayHigh': 3220.39, 'navPrice': None, 'averageDailyVolume10Day': 4701115000, 'totalAssets': None, 'regularMarketPreviousClose': 3226.56, 'fiftyDayAverage': 3116.2844, 'trailingAnnualDividendRate': None, 'open': 3208.36, 'toCurrency': None, 'averageVolume10days': 4701115000, 'expireDate': None, 'yield': None, 'algorithm': None, 'dividendRate': None, 'exDividendDate': None, 'beta': None, 'circulatingSupply': None, 'startDate': None, 'regularMarketDayLow': 3198.59, 'priceHint': 2, 'currency': 'USD', 'regularMarketVolume': 1781125025, 'lastMarket': None, 'maxSupply': None, 'openInterest': None, 'marketCap': None, 'volumeAllCurrencies': None, 'strikePrice': None, 'averageVolume': 5484843809, 'priceToSalesTrailing12Months': None, 'dayLow': 3198.59, 'ask': 3217.45, 'ytdReturn': None, 'askSize': 0, 'volume': 1781125025, 'fiftyTwoWeekHigh': 3393.52, 'forwardPE': None, 'maxAge': 1, 'fromCurrency': None, 'fiveYearAvgDividendYield': None, 'fiftyTwoWeekLow': 2191.86, 'bid': 3216.48, 'tradeable': False, 'dividendYield': None, 'bidSize': 0, 'dayHigh': 3220.39, 'exchange': 'SNP', 'shortName': 'S&P 500', 'exchangeTimezoneName': 'America/New_York', 'exchangeTimezoneShortName': 'EDT', 'isEsgPopulated': False, 'gmtOffSetMilliseconds': '-14400000', 'quoteType': 'INDEX', 'symbol': '^GSPC', 'messageBoardId': 'finmb_INDEXGSPC', 'market': 'us_market', 'regularMarketPrice': 3208.36, 'logo_url': ''}\n"
          ],
          "name": "stdout"
        },
        {
          "output_type": "execute_result",
          "data": {
            "text/plain": [
              "              Open    High     Low   Close      Volume  Dividends  \\\n",
              "Date                                                                \n",
              "1997-05-14  833.13  841.29  833.13  836.04   504960000          0   \n",
              "1997-05-15  836.04  842.45  833.34  841.88   458170000          0   \n",
              "1997-05-16  841.88  841.88  829.15  829.75   486780000          0   \n",
              "1997-05-19  829.75  835.92  828.87  833.27   345140000          0   \n",
              "1997-05-20  833.27  841.96  826.41  841.66   450850000          0   \n",
              "...            ...     ...     ...     ...         ...        ...   \n",
              "2020-07-10 3152.47 3186.82 3136.22 3185.04  4515340000          0   \n",
              "2020-07-13 3205.08 3235.32 3149.43 3155.22  4890780000          0   \n",
              "2020-07-14 3141.11 3200.95 3127.66 3197.52  4476170000          0   \n",
              "2020-07-15 3225.98 3238.28 3200.76 3226.56  4669760000          0   \n",
              "2020-07-16 3208.36 3220.39 3198.59 3216.69  1781537673          0   \n",
              "\n",
              "            Stock Splits  \n",
              "Date                      \n",
              "1997-05-14             0  \n",
              "1997-05-15             0  \n",
              "1997-05-16             0  \n",
              "1997-05-19             0  \n",
              "1997-05-20             0  \n",
              "...                  ...  \n",
              "2020-07-10             0  \n",
              "2020-07-13             0  \n",
              "2020-07-14             0  \n",
              "2020-07-15             0  \n",
              "2020-07-16             0  \n",
              "\n",
              "[5832 rows x 7 columns]"
            ],
            "text/html": [
              "<div>\n",
              "<style scoped>\n",
              "    .dataframe tbody tr th:only-of-type {\n",
              "        vertical-align: middle;\n",
              "    }\n",
              "\n",
              "    .dataframe tbody tr th {\n",
              "        vertical-align: top;\n",
              "    }\n",
              "\n",
              "    .dataframe thead th {\n",
              "        text-align: right;\n",
              "    }\n",
              "</style>\n",
              "<table border=\"1\" class=\"dataframe\">\n",
              "  <thead>\n",
              "    <tr style=\"text-align: right;\">\n",
              "      <th></th>\n",
              "      <th>Open</th>\n",
              "      <th>High</th>\n",
              "      <th>Low</th>\n",
              "      <th>Close</th>\n",
              "      <th>Volume</th>\n",
              "      <th>Dividends</th>\n",
              "      <th>Stock Splits</th>\n",
              "    </tr>\n",
              "    <tr>\n",
              "      <th>Date</th>\n",
              "      <th></th>\n",
              "      <th></th>\n",
              "      <th></th>\n",
              "      <th></th>\n",
              "      <th></th>\n",
              "      <th></th>\n",
              "      <th></th>\n",
              "    </tr>\n",
              "  </thead>\n",
              "  <tbody>\n",
              "    <tr>\n",
              "      <th>1997-05-14</th>\n",
              "      <td>833.13</td>\n",
              "      <td>841.29</td>\n",
              "      <td>833.13</td>\n",
              "      <td>836.04</td>\n",
              "      <td>504960000</td>\n",
              "      <td>0</td>\n",
              "      <td>0</td>\n",
              "    </tr>\n",
              "    <tr>\n",
              "      <th>1997-05-15</th>\n",
              "      <td>836.04</td>\n",
              "      <td>842.45</td>\n",
              "      <td>833.34</td>\n",
              "      <td>841.88</td>\n",
              "      <td>458170000</td>\n",
              "      <td>0</td>\n",
              "      <td>0</td>\n",
              "    </tr>\n",
              "    <tr>\n",
              "      <th>1997-05-16</th>\n",
              "      <td>841.88</td>\n",
              "      <td>841.88</td>\n",
              "      <td>829.15</td>\n",
              "      <td>829.75</td>\n",
              "      <td>486780000</td>\n",
              "      <td>0</td>\n",
              "      <td>0</td>\n",
              "    </tr>\n",
              "    <tr>\n",
              "      <th>1997-05-19</th>\n",
              "      <td>829.75</td>\n",
              "      <td>835.92</td>\n",
              "      <td>828.87</td>\n",
              "      <td>833.27</td>\n",
              "      <td>345140000</td>\n",
              "      <td>0</td>\n",
              "      <td>0</td>\n",
              "    </tr>\n",
              "    <tr>\n",
              "      <th>1997-05-20</th>\n",
              "      <td>833.27</td>\n",
              "      <td>841.96</td>\n",
              "      <td>826.41</td>\n",
              "      <td>841.66</td>\n",
              "      <td>450850000</td>\n",
              "      <td>0</td>\n",
              "      <td>0</td>\n",
              "    </tr>\n",
              "    <tr>\n",
              "      <th>...</th>\n",
              "      <td>...</td>\n",
              "      <td>...</td>\n",
              "      <td>...</td>\n",
              "      <td>...</td>\n",
              "      <td>...</td>\n",
              "      <td>...</td>\n",
              "      <td>...</td>\n",
              "    </tr>\n",
              "    <tr>\n",
              "      <th>2020-07-10</th>\n",
              "      <td>3152.47</td>\n",
              "      <td>3186.82</td>\n",
              "      <td>3136.22</td>\n",
              "      <td>3185.04</td>\n",
              "      <td>4515340000</td>\n",
              "      <td>0</td>\n",
              "      <td>0</td>\n",
              "    </tr>\n",
              "    <tr>\n",
              "      <th>2020-07-13</th>\n",
              "      <td>3205.08</td>\n",
              "      <td>3235.32</td>\n",
              "      <td>3149.43</td>\n",
              "      <td>3155.22</td>\n",
              "      <td>4890780000</td>\n",
              "      <td>0</td>\n",
              "      <td>0</td>\n",
              "    </tr>\n",
              "    <tr>\n",
              "      <th>2020-07-14</th>\n",
              "      <td>3141.11</td>\n",
              "      <td>3200.95</td>\n",
              "      <td>3127.66</td>\n",
              "      <td>3197.52</td>\n",
              "      <td>4476170000</td>\n",
              "      <td>0</td>\n",
              "      <td>0</td>\n",
              "    </tr>\n",
              "    <tr>\n",
              "      <th>2020-07-15</th>\n",
              "      <td>3225.98</td>\n",
              "      <td>3238.28</td>\n",
              "      <td>3200.76</td>\n",
              "      <td>3226.56</td>\n",
              "      <td>4669760000</td>\n",
              "      <td>0</td>\n",
              "      <td>0</td>\n",
              "    </tr>\n",
              "    <tr>\n",
              "      <th>2020-07-16</th>\n",
              "      <td>3208.36</td>\n",
              "      <td>3220.39</td>\n",
              "      <td>3198.59</td>\n",
              "      <td>3216.69</td>\n",
              "      <td>1781537673</td>\n",
              "      <td>0</td>\n",
              "      <td>0</td>\n",
              "    </tr>\n",
              "  </tbody>\n",
              "</table>\n",
              "<p>5832 rows × 7 columns</p>\n",
              "</div>"
            ]
          },
          "metadata": {
            "tags": []
          },
          "execution_count": 59
        }
      ]
    },
    {
      "cell_type": "code",
      "metadata": {
        "id": "bWXmE2LpKxLA",
        "colab_type": "code",
        "colab": {}
      },
      "source": [
        "# For this I can shuffle the data before splitting into training, test & validation as I'm only looking back one day and not the timeseries context.\n"
      ],
      "execution_count": null,
      "outputs": []
    },
    {
      "cell_type": "code",
      "metadata": {
        "id": "CKcy2hByF5pY",
        "colab_type": "code",
        "colab": {}
      },
      "source": [
        ""
      ],
      "execution_count": null,
      "outputs": []
    },
    {
      "cell_type": "code",
      "metadata": {
        "id": "GjR94YOpm5ou",
        "colab_type": "code",
        "colab": {}
      },
      "source": [
        "def standardize_volume(df):\n",
        "  df['Volume_n'] = np.log(df['Volume'])\n",
        "  #df.hist(column='Volume_n')\n",
        "  # standardize into z-scores\n",
        "  df['Volume_n'] = (df['Volume_n'] - df.mean()['Volume_n'])/ df.std()['Volume_n']\n",
        "  #df.plot(y='Volume_n')"
      ],
      "execution_count": null,
      "outputs": []
    },
    {
      "cell_type": "code",
      "metadata": {
        "id": "nYXaIDeSK1v9",
        "colab_type": "code",
        "colab": {}
      },
      "source": [
        "# Include Volume!\n",
        "\n",
        "df_amzn.hist()\n",
        "pyplot.show()\n",
        "# DailyChange is Gaussian so can Standardize into z-scores\n",
        "# Log Scaling for Volume (as it has a Power Law Dist) & then normalize if it has a Guassian Dist after Log Scaling."
      ],
      "execution_count": null,
      "outputs": []
    },
    {
      "cell_type": "code",
      "metadata": {
        "id": "dCOksDMWJbnl",
        "colab_type": "code",
        "colab": {}
      },
      "source": [
        "standardize_volume(df_amzn)"
      ],
      "execution_count": null,
      "outputs": []
    },
    {
      "cell_type": "code",
      "metadata": {
        "id": "l3_pjYv6F6DR",
        "colab_type": "code",
        "colab": {}
      },
      "source": [
        "# S&P500\n",
        "gspc = yt.Ticker('^GSPC')\n",
        "df_gspc = gspc.history(start='1999-01-01')\n",
        "add_dailyChange(df_gspc)\n",
        "add_normalized_dailyChange(df_gspc)\n",
        "\n",
        "df_amzn['S&P_DailyChange_n'] = df_gspc['DailyChange_n']\n",
        "df_amzn"
      ],
      "execution_count": null,
      "outputs": []
    }
  ]
}
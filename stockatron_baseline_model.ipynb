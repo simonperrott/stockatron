{
  "nbformat": 4,
  "nbformat_minor": 0,
  "metadata": {
    "colab": {
      "name": "stockatron_baseline_model.ipynb",
      "provenance": [],
      "collapsed_sections": [],
      "authorship_tag": "ABX9TyPaPg2wEsdJDIAaMi5Q0+Sa",
      "include_colab_link": true
    },
    "kernelspec": {
      "name": "python3",
      "display_name": "Python 3"
    }
  },
  "cells": [
    {
      "cell_type": "markdown",
      "metadata": {
        "id": "view-in-github",
        "colab_type": "text"
      },
      "source": [
        "<a href=\"https://colab.research.google.com/github/simonperrott/stockatron/blob/master/stockatron_baseline_model.ipynb\" target=\"_parent\"><img src=\"https://colab.research.google.com/assets/colab-badge.svg\" alt=\"Open In Colab\"/></a>"
      ]
    },
    {
      "cell_type": "code",
      "metadata": {
        "id": "EtjZd564Drc1",
        "colab_type": "code",
        "colab": {
          "base_uri": "https://localhost:8080/",
          "height": 241
        },
        "outputId": "31f2ff90-2c64-440c-928f-6d75dbfc4c73"
      },
      "source": [
        "!pip install yfinance"
      ],
      "execution_count": 18,
      "outputs": [
        {
          "output_type": "stream",
          "text": [
            "Requirement already satisfied: yfinance in /usr/local/lib/python3.6/dist-packages (0.1.54)\n",
            "Requirement already satisfied: numpy>=1.15 in /usr/local/lib/python3.6/dist-packages (from yfinance) (1.18.5)\n",
            "Requirement already satisfied: pandas>=0.24 in /usr/local/lib/python3.6/dist-packages (from yfinance) (1.0.5)\n",
            "Requirement already satisfied: multitasking>=0.0.7 in /usr/local/lib/python3.6/dist-packages (from yfinance) (0.0.9)\n",
            "Requirement already satisfied: requests>=2.20 in /usr/local/lib/python3.6/dist-packages (from yfinance) (2.23.0)\n",
            "Requirement already satisfied: python-dateutil>=2.6.1 in /usr/local/lib/python3.6/dist-packages (from pandas>=0.24->yfinance) (2.8.1)\n",
            "Requirement already satisfied: pytz>=2017.2 in /usr/local/lib/python3.6/dist-packages (from pandas>=0.24->yfinance) (2018.9)\n",
            "Requirement already satisfied: certifi>=2017.4.17 in /usr/local/lib/python3.6/dist-packages (from requests>=2.20->yfinance) (2020.6.20)\n",
            "Requirement already satisfied: chardet<4,>=3.0.2 in /usr/local/lib/python3.6/dist-packages (from requests>=2.20->yfinance) (3.0.4)\n",
            "Requirement already satisfied: urllib3!=1.25.0,!=1.25.1,<1.26,>=1.21.1 in /usr/local/lib/python3.6/dist-packages (from requests>=2.20->yfinance) (1.24.3)\n",
            "Requirement already satisfied: idna<3,>=2.5 in /usr/local/lib/python3.6/dist-packages (from requests>=2.20->yfinance) (2.10)\n",
            "Requirement already satisfied: six>=1.5 in /usr/local/lib/python3.6/dist-packages (from python-dateutil>=2.6.1->pandas>=0.24->yfinance) (1.15.0)\n"
          ],
          "name": "stdout"
        }
      ]
    },
    {
      "cell_type": "code",
      "metadata": {
        "id": "4RMI4D49XHN7",
        "colab_type": "code",
        "colab": {}
      },
      "source": [
        "import yfinance as yt\n",
        "import numpy as np\n",
        "import pandas as pd\n",
        "from matplotlib import pyplot\n",
        "\n",
        "pd.options.display.float_format = '{:.2f}'.format\n",
        "pd.options.display.max_rows = 15\n",
        "pd.options.display.max_columns = 20\n",
        "\n",
        "pyplot.style.use(\"dark_background\")"
      ],
      "execution_count": 19,
      "outputs": []
    },
    {
      "cell_type": "code",
      "metadata": {
        "id": "wjT80hP_Sj-u",
        "colab_type": "code",
        "colab": {}
      },
      "source": [
        "# Fn to create the price change after X numDaysForward.\n",
        "def create_change_column(df:pd.DataFrame, threshold:float, numDaysForward = -5):\n",
        "  df['CloseAfterXDays'] = df['Close'].shift(numDaysForward, axis=0)\n",
        "  change_series = 100* (df['CloseAfterXDays'] - df['Open'])/df['Open']\n",
        "  return change_series"
      ],
      "execution_count": 20,
      "outputs": []
    },
    {
      "cell_type": "code",
      "metadata": {
        "id": "KEb8Wur7X2AA",
        "colab_type": "code",
        "colab": {
          "base_uri": "https://localhost:8080/",
          "height": 388
        },
        "outputId": "cfcfc921-4867-4ce8-dd05-0d11c9c8a625"
      },
      "source": [
        "amzn = yt.Ticker('AMZN')\n",
        "start_date = '1999-01-01'\n",
        "df = amzn.history(start=start_date)\n",
        "df.drop(['Dividends', 'Stock Splits', 'High', 'Low'], axis=1, inplace=True)\n",
        "df['change'] = create_change_column(df, 5.0)\n",
        "\n",
        "# S&P500\n",
        "gspc = yt.Ticker('^GSPC')\n",
        "df_gspc = gspc.history(start=start_date)\n",
        "df['sp500_change'] = create_change_column(df_gspc, 5.0)\n",
        "\n",
        "df[['change', 'sp500_change']].plot()\n",
        "pyplot.legend(loc=\"upper right\")\n",
        "pyplot.show()\n",
        "\n",
        "print(df.head(5))"
      ],
      "execution_count": 21,
      "outputs": [
        {
          "output_type": "display_data",
          "data": {
            "image/png": "[encoded data removed]",
            "text/plain": [
              "<Figure size 432x288 with 1 Axes>"
            ]
          },
          "metadata": {
            "tags": []
          }
        },
        {
          "output_type": "stream",
          "text": [
            "            Open  Close    Volume  CloseAfterXDays  change  sp500_change\n",
            "Date                                                                    \n",
            "1999-01-04 54.61  59.16  39292200            92.31   69.03          2.82\n",
            "1999-01-05 54.78  62.25  62873200            81.69   49.12          0.93\n",
            "1999-01-06 68.19  69.00  36176600            74.00    8.52         -0.83\n",
            "1999-01-07 68.56  79.44  47274600            69.00    0.64         -4.73\n",
            "1999-01-08 92.12  80.12  66662200            70.19  -23.81         -2.08\n"
          ],
          "name": "stdout"
        }
      ]
    },
    {
      "cell_type": "code",
      "metadata": {
        "id": "8UdpM6vBQ87_",
        "colab_type": "code",
        "colab": {}
      },
      "source": [
        "# Add output y labels\n",
        "def create_labels(df:pd.DataFrame, threshold:float):\n",
        "\n",
        "  # 0 HOLD => -ve threshold < % Change < +ve threshold\n",
        "  # 1 BUY => % Change > +ve threshold\n",
        "  # -1 SELL => % Change < -ve threshold\n",
        "  df['label'] = df['change'].apply(lambda x: 1 if x > threshold else -1 if x < -1*threshold else 0)\n",
        "  df.dropna(inplace=True)\n",
        "  return df"
      ],
      "execution_count": 22,
      "outputs": []
    },
    {
      "cell_type": "code",
      "metadata": {
        "id": "p8zVyKz3I7T5",
        "colab_type": "code",
        "colab": {
          "base_uri": "https://localhost:8080/",
          "height": 272
        },
        "outputId": "26893158-c584-496f-f5f1-6e5f2c26a613"
      },
      "source": [
        "df = create_labels(df, 5.0)\n",
        "print(df.tail(5))"
      ],
      "execution_count": 23,
      "outputs": [
        {
          "output_type": "stream",
          "text": [
            "              Open   Close   Volume  CloseAfterXDays  change  sp500_change  \\\n",
            "Date                                                                         \n",
            "2020-07-17 3009.00 2961.97  4761300          3008.91   -0.00         -0.27   \n",
            "2020-07-20 3000.20 3196.84  7598200          3055.21    1.83          0.47   \n",
            "2020-07-21 3232.49 3138.29  6135000          3000.33   -7.18         -1.53   \n",
            "2020-07-22 3125.00 3099.91  4104200          3033.53   -2.93          0.11   \n",
            "2020-07-23 3098.27 2986.55  5656900          3022.96   -2.43         -1.46   \n",
            "\n",
            "            label  \n",
            "Date               \n",
            "2020-07-17      0  \n",
            "2020-07-20      0  \n",
            "2020-07-21     -1  \n",
            "2020-07-22      0  \n",
            "2020-07-23      0  \n"
          ],
          "name": "stdout"
        }
      ]
    },
    {
      "cell_type": "code",
      "metadata": {
        "id": "CfHICic9QGd1",
        "colab_type": "code",
        "colab": {}
      },
      "source": [
        "# Scale input features\n",
        "from sklearn.preprocessing import StandardScaler\n",
        "\n",
        "def scale_features(df:pd.DataFrame, feature_column_names):\n",
        "  \n",
        "  df[['change', 'sp500_change']].hist()\n",
        "  pyplot.show()\n",
        "  scaler = StandardScaler() # Using Standardization as ditribution is Gaussian (alternative -> MinMaxScaler(feature_range=(-1, 1))\n",
        "  for col in feature_column_names:\n",
        "    df[col] = scaler.fit_transform(df[[col]])\n",
        "\n",
        "  df.dropna(inplace=True)\n",
        "  return df"
      ],
      "execution_count": 24,
      "outputs": []
    },
    {
      "cell_type": "code",
      "metadata": {
        "id": "6OmawVZsTic0",
        "colab_type": "code",
        "colab": {
          "base_uri": "https://localhost:8080/",
          "height": 400
        },
        "outputId": "96ef9512-90c8-4d83-e93a-b5ae65f63a36"
      },
      "source": [
        "features = ['change', 'sp500_change']\n",
        "\n",
        "df = scale_features(df, features)\n",
        "\n",
        "# select subset of columns with features for the timeseries and label\n",
        "features.append('label')\n",
        "df = df[features]\n",
        "print(df.tail(5))"
      ],
      "execution_count": 25,
      "outputs": [
        {
          "output_type": "display_data",
          "data": {
            "image/png": "[encoded data removed]",
            "text/plain": [
              "<Figure size 432x288 with 2 Axes>"
            ]
          },
          "metadata": {
            "tags": []
          }
        },
        {
          "output_type": "stream",
          "text": [
            "            change  sp500_change  label\n",
            "Date                                   \n",
            "2020-07-17   -0.09         -0.15      0\n",
            "2020-07-20    0.14          0.12      0\n",
            "2020-07-21   -1.00         -0.62     -1\n",
            "2020-07-22   -0.46         -0.01      0\n",
            "2020-07-23   -0.40         -0.60      0\n"
          ],
          "name": "stdout"
        }
      ]
    },
    {
      "cell_type": "code",
      "metadata": {
        "id": "uAZXd2GmGz90",
        "colab_type": "code",
        "colab": {}
      },
      "source": [
        "from pandas import DataFrame\n",
        "from pandas import concat\n",
        "\n",
        "def dataframe_to_supervised(df, input_cols, pred_col, n_timesteps=1, dropnan=True):\n",
        "\t\"\"\"\n",
        "\tTime series -> LSTM supervised learning dataset.\n",
        "\tArguments:\n",
        "\t\tdata: Sequence of observations as a NumPy array.\n",
        "\t\tinput_cols: list of strings identifying the input feature columns to use in shifting\n",
        "\t\tn_timesteps: Number of lag observations as input (X).\n",
        "\t\tpred_col: the name of the column we want to predict\n",
        "\t\tdropnan: Boolean whether or not to drop rows with NaN values.\n",
        "\tReturns:\n",
        "\t\tPandas DataFrame of series framed for supervised learning.\n",
        "\t\"\"\"\n",
        "\tcols, names = list(), list()\n",
        "\t# input sequence (t-n, ... t-1)\n",
        "\tfor i in range(n_timesteps, 0, -1):\n",
        "\t\tcols.append(df[input_cols].shift(i))\n",
        "\t\tnames += [f'{c}(t-{i})' for c in input_cols]\n",
        "\n",
        "\t# add pred_col\n",
        "\tcols.append(df[pred_col])\n",
        "\tnames.append(pred_col)\n",
        "\n",
        "\tagg = concat(cols, axis=1)\n",
        "\tagg.columns = names\n",
        "\t# drop rows with NaN values\n",
        "\tif dropnan:\n",
        "\t\tagg.dropna(inplace=True)\n",
        "\treturn agg"
      ],
      "execution_count": 26,
      "outputs": []
    },
    {
      "cell_type": "code",
      "metadata": {
        "id": "ufj6pvCwHEp4",
        "colab_type": "code",
        "colab": {
          "base_uri": "https://localhost:8080/",
          "height": 259
        },
        "outputId": "3cb80c95-d5db-4f96-d3f1-3ff17618081d"
      },
      "source": [
        "# Baseline 1st Model uses:\n",
        "# batches of timeseries of prices going back 20 days\n",
        "num_time_steps = 20\n",
        "df_price_ts = dataframe_to_supervised(df, ['change', 'sp500_change'], 'label', num_time_steps, dropnan = False)\n",
        "prediction_X = df_price_ts.values[-1, :-1]\n",
        "# now drop NaNs created during transformation to a Timeseries\n",
        "df_price_ts.dropna(inplace=True)\n",
        "print(df_price_ts.shape)\n",
        "df_price_ts.tail(2)"
      ],
      "execution_count": 27,
      "outputs": [
        {
          "output_type": "stream",
          "text": [
            "(5404, 41)\n"
          ],
          "name": "stdout"
        },
        {
          "output_type": "execute_result",
          "data": {
            "text/html": [
              "<div>\n",
              "<style scoped>\n",
              "    .dataframe tbody tr th:only-of-type {\n",
              "        vertical-align: middle;\n",
              "    }\n",
              "\n",
              "    .dataframe tbody tr th {\n",
              "        vertical-align: top;\n",
              "    }\n",
              "\n",
              "    .dataframe thead th {\n",
              "        text-align: right;\n",
              "    }\n",
              "</style>\n",
              "<table border=\"1\" class=\"dataframe\">\n",
              "  <thead>\n",
              "    <tr style=\"text-align: right;\">\n",
              "      <th></th>\n",
              "      <th>change(t-20)</th>\n",
              "      <th>sp500_change(t-20)</th>\n",
              "      <th>change(t-19)</th>\n",
              "      <th>sp500_change(t-19)</th>\n",
              "      <th>change(t-18)</th>\n",
              "      <th>sp500_change(t-18)</th>\n",
              "      <th>change(t-17)</th>\n",
              "      <th>sp500_change(t-17)</th>\n",
              "      <th>change(t-16)</th>\n",
              "      <th>sp500_change(t-16)</th>\n",
              "      <th>...</th>\n",
              "      <th>sp500_change(t-5)</th>\n",
              "      <th>change(t-4)</th>\n",
              "      <th>sp500_change(t-4)</th>\n",
              "      <th>change(t-3)</th>\n",
              "      <th>sp500_change(t-3)</th>\n",
              "      <th>change(t-2)</th>\n",
              "      <th>sp500_change(t-2)</th>\n",
              "      <th>change(t-1)</th>\n",
              "      <th>sp500_change(t-1)</th>\n",
              "      <th>label</th>\n",
              "    </tr>\n",
              "    <tr>\n",
              "      <th>Date</th>\n",
              "      <th></th>\n",
              "      <th></th>\n",
              "      <th></th>\n",
              "      <th></th>\n",
              "      <th></th>\n",
              "      <th></th>\n",
              "      <th></th>\n",
              "      <th></th>\n",
              "      <th></th>\n",
              "      <th></th>\n",
              "      <th></th>\n",
              "      <th></th>\n",
              "      <th></th>\n",
              "      <th></th>\n",
              "      <th></th>\n",
              "      <th></th>\n",
              "      <th></th>\n",
              "      <th></th>\n",
              "      <th></th>\n",
              "      <th></th>\n",
              "      <th></th>\n",
              "    </tr>\n",
              "  </thead>\n",
              "  <tbody>\n",
              "    <tr>\n",
              "      <th>2020-07-22</th>\n",
              "      <td>0.06</td>\n",
              "      <td>-0.51</td>\n",
              "      <td>0.36</td>\n",
              "      <td>-0.03</td>\n",
              "      <td>0.61</td>\n",
              "      <td>0.97</td>\n",
              "      <td>1.20</td>\n",
              "      <td>1.24</td>\n",
              "      <td>1.37</td>\n",
              "      <td>1.52</td>\n",
              "      <td>...</td>\n",
              "      <td>0.53</td>\n",
              "      <td>-0.02</td>\n",
              "      <td>0.27</td>\n",
              "      <td>-0.09</td>\n",
              "      <td>-0.15</td>\n",
              "      <td>0.14</td>\n",
              "      <td>0.12</td>\n",
              "      <td>-1.00</td>\n",
              "      <td>-0.62</td>\n",
              "      <td>0</td>\n",
              "    </tr>\n",
              "    <tr>\n",
              "      <th>2020-07-23</th>\n",
              "      <td>0.36</td>\n",
              "      <td>-0.03</td>\n",
              "      <td>0.61</td>\n",
              "      <td>0.97</td>\n",
              "      <td>1.20</td>\n",
              "      <td>1.24</td>\n",
              "      <td>1.37</td>\n",
              "      <td>1.52</td>\n",
              "      <td>1.77</td>\n",
              "      <td>1.42</td>\n",
              "      <td>...</td>\n",
              "      <td>0.27</td>\n",
              "      <td>-0.09</td>\n",
              "      <td>-0.15</td>\n",
              "      <td>0.14</td>\n",
              "      <td>0.12</td>\n",
              "      <td>-1.00</td>\n",
              "      <td>-0.62</td>\n",
              "      <td>-0.46</td>\n",
              "      <td>-0.01</td>\n",
              "      <td>0</td>\n",
              "    </tr>\n",
              "  </tbody>\n",
              "</table>\n",
              "<p>2 rows × 41 columns</p>\n",
              "</div>"
            ],
            "text/plain": [
              "            change(t-20)  sp500_change(t-20)  change(t-19)  \\\n",
              "Date                                                         \n",
              "2020-07-22          0.06               -0.51          0.36   \n",
              "2020-07-23          0.36               -0.03          0.61   \n",
              "\n",
              "            sp500_change(t-19)  change(t-18)  sp500_change(t-18)  \\\n",
              "Date                                                               \n",
              "2020-07-22               -0.03          0.61                0.97   \n",
              "2020-07-23                0.97          1.20                1.24   \n",
              "\n",
              "            change(t-17)  sp500_change(t-17)  change(t-16)  \\\n",
              "Date                                                         \n",
              "2020-07-22          1.20                1.24          1.37   \n",
              "2020-07-23          1.37                1.52          1.77   \n",
              "\n",
              "            sp500_change(t-16)  ...  sp500_change(t-5)  change(t-4)  \\\n",
              "Date                            ...                                   \n",
              "2020-07-22                1.52  ...               0.53        -0.02   \n",
              "2020-07-23                1.42  ...               0.27        -0.09   \n",
              "\n",
              "            sp500_change(t-4)  change(t-3)  sp500_change(t-3)  change(t-2)  \\\n",
              "Date                                                                         \n",
              "2020-07-22               0.27        -0.09              -0.15         0.14   \n",
              "2020-07-23              -0.15         0.14               0.12        -1.00   \n",
              "\n",
              "            sp500_change(t-2)  change(t-1)  sp500_change(t-1)  label  \n",
              "Date                                                                  \n",
              "2020-07-22               0.12        -1.00              -0.62      0  \n",
              "2020-07-23              -0.62        -0.46              -0.01      0  \n",
              "\n",
              "[2 rows x 41 columns]"
            ]
          },
          "metadata": {
            "tags": []
          },
          "execution_count": 27
        }
      ]
    },
    {
      "cell_type": "code",
      "metadata": {
        "id": "jWyTtpH8lhC_",
        "colab_type": "code",
        "colab": {
          "base_uri": "https://localhost:8080/",
          "height": 523
        },
        "outputId": "290d22a0-0808-4484-b769-3ba15cc4c0d7"
      },
      "source": [
        "# Plot the data classes using only the previous day's change & sp500 change\n",
        "df_price_ts['color'] = df_price_ts['label'].apply(lambda x: 'blue' if x==0 else 'red' if x==-1 else 'green')\n",
        "\n",
        "df_price_ts.plot.scatter(x='change(t-1)', y='sp500_change(t-1)', c='color')\n",
        "pyplot.title('Change of S&P500 yesterday vs Change of Stock yesterday')\n",
        "pyplot.show()\n",
        "\n",
        "df_price_ts.plot.scatter(x='change(t-1)', y='change(t-2)', c='color')\n",
        "pyplot.title('Change of Stock 2 days ago vs Change of Stock yesterday')\n",
        "pyplot.show()\n",
        "# Note a Linear model could not separate these to classify correctly\n",
        "df_price_ts.drop(['color'] , axis=1, inplace=True)"
      ],
      "execution_count": 28,
      "outputs": [
        {
          "output_type": "display_data",
          "data": {
            "image/png": "[encoded data removed]",
            "text/plain": [
              "<Figure size 432x288 with 2 Axes>"
            ]
          },
          "metadata": {
            "tags": []
          }
        },
        {
          "output_type": "display_data",
          "data": {
            "image/png": "[encoded data removed]",
            "text/plain": [
              "<Figure size 432x288 with 2 Axes>"
            ]
          },
          "metadata": {
            "tags": []
          }
        }
      ]
    },
    {
      "cell_type": "code",
      "metadata": {
        "id": "E1YNo5dsC6Il",
        "colab_type": "code",
        "colab": {}
      },
      "source": [
        "# Choose Training data (avoiding data leak by training set having no data points in future of test set)\n",
        "train = df_price_ts.loc['2000' :'2017']"
      ],
      "execution_count": 29,
      "outputs": []
    },
    {
      "cell_type": "code",
      "metadata": {
        "id": "hcXB5BDg1kDW",
        "colab_type": "code",
        "colab": {
          "base_uri": "https://localhost:8080/",
          "height": 85
        },
        "outputId": "492a7d90-6953-49a3-bcbe-928afc182479"
      },
      "source": [
        "# Explore balance of classes in Training set\n",
        "label_groupings = train['label'].value_counts()\n",
        "print(label_groupings)"
      ],
      "execution_count": 30,
      "outputs": [
        {
          "output_type": "stream",
          "text": [
            " 0    2881\n",
            " 1     947\n",
            "-1     700\n",
            "Name: label, dtype: int64\n"
          ],
          "name": "stdout"
        }
      ]
    },
    {
      "cell_type": "code",
      "metadata": {
        "id": "Xlvdmc63-iiV",
        "colab_type": "code",
        "colab": {
          "base_uri": "https://localhost:8080/",
          "height": 102
        },
        "outputId": "5939eb5f-8aa5-48a6-d1b5-5518600cbcdc"
      },
      "source": [
        "# Balance classes in Training set by Down sampling randomly.\n",
        "# This is important for accuracy as I'm more interested in accurately predicting cases -1 and +1 rather than 0.\n",
        "from sklearn.utils import resample\n",
        "\n",
        "min_label_count = label_groupings.min()\n",
        "df_list = []\n",
        "# Separate by label\n",
        "for label in label_groupings.index:\n",
        "  df_for_label = train[train.label == label]\n",
        "  df_list.append(\n",
        "      resample(  \n",
        "          df_for_label, \n",
        "          replace = False,    # sample without replacement\n",
        "          n_samples = min_label_count     # to match minority class\n",
        "          )) \n",
        "\n",
        "train_balanced = pd.concat(df_list)\n",
        "\n",
        "print(train_balanced.shape) \n",
        "# Display new class counts\n",
        "train_balanced.label.value_counts()"
      ],
      "execution_count": 31,
      "outputs": [
        {
          "output_type": "stream",
          "text": [
            "(2100, 41)\n"
          ],
          "name": "stdout"
        },
        {
          "output_type": "execute_result",
          "data": {
            "text/plain": [
              " 1    700\n",
              "-1    700\n",
              " 0    700\n",
              "Name: label, dtype: int64"
            ]
          },
          "metadata": {
            "tags": []
          },
          "execution_count": 31
        }
      ]
    },
    {
      "cell_type": "code",
      "metadata": {
        "id": "kpNmG0icUwEq",
        "colab_type": "code",
        "colab": {
          "base_uri": "https://localhost:8080/",
          "height": 85
        },
        "outputId": "f0523f19-f8f3-4b9c-8911-945a2ca70ecb"
      },
      "source": [
        "from keras.utils import np_utils\n",
        "from sklearn.preprocessing import LabelEncoder\n",
        "\n",
        "training_set = train_balanced.values\n",
        "\n",
        "train_X, train_y = training_set[:, :-1], training_set[:, -1]\n",
        "\n",
        "# encode class values as integers\n",
        "encoder = LabelEncoder()\n",
        "encoder.fit(train_y)\n",
        "train_y_encoded = encoder.transform(train_y)\n",
        "# convert integers to dummy variables (i.e. one hot encoded)\n",
        "train_y_dummy = np_utils.to_categorical(train_y_encoded)\n",
        "\n",
        "# Validation data 2018 - 2019\n",
        "val = df_price_ts.loc['2018' :'2020'].values\n",
        "val_X, val_y = val[:, :-1], val[:, -1]\n",
        "val_y_encoded = encoder.transform(val_y)\n",
        "val_y_dummy = np_utils.to_categorical(val_y_encoded)\n",
        "\n",
        "# Test data 2020\n",
        "test = df_price_ts.loc['2020'].values\n",
        "test_X, test_y = test[:, :-1], test[:, -1]\n",
        "test_y_encoded = encoder.transform(test_y)\n",
        "test_y_dummy = np_utils.to_categorical(test_y_encoded)\n",
        "\n",
        "n_features = 2\n",
        "\n",
        "# reshape input to be 3D [samples, timesteps, features]\n",
        "train_X = train_X.reshape(train_X.shape[0], num_time_steps, n_features)\n",
        "val_X = val_X.reshape(val_X.shape[0], num_time_steps, n_features)\n",
        "test_X = test_X.reshape(test_X.shape[0], num_time_steps, n_features)\n",
        "\n",
        "print(f'Train X has shape: {train_X.shape} & Train y has shape: {train_y_dummy.shape}')\n",
        "print(f'Validation X has shape: {val_X.shape} & Validation y has shape: {val_y_dummy.shape}')\n",
        "print(f'Test X has shape: {test_X.shape} & Test y has shape: {test_y_dummy.shape}')"
      ],
      "execution_count": 32,
      "outputs": [
        {
          "output_type": "stream",
          "text": [
            "Using TensorFlow backend.\n"
          ],
          "name": "stderr"
        },
        {
          "output_type": "stream",
          "text": [
            "Train X has shape: (2100, 20, 2) & Train y has shape: (2100, 3)\n",
            "Validation X has shape: (644, 20, 2) & Validation y has shape: (644, 3)\n",
            "Test X has shape: (141, 20, 2) & Test y has shape: (141, 3)\n"
          ],
          "name": "stdout"
        }
      ]
    },
    {
      "cell_type": "code",
      "metadata": {
        "id": "mFVTomFgUvuh",
        "colab_type": "code",
        "colab": {
          "base_uri": "https://localhost:8080/",
          "height": 299
        },
        "outputId": "29975e60-7a4e-4ffe-8db6-0a92625c03e0"
      },
      "source": [
        "from keras.models import Sequential\n",
        "from keras.layers import Dense, Flatten, LSTM, Dropout\n",
        "\n",
        "# design network \n",
        "model = Sequential()\n",
        "model.add(LSTM(100, activation='tanh', input_shape=(num_time_steps, n_features), dropout=0.4))\n",
        "model.add(Dropout(0.4))\n",
        "model.add(Dense(3, activation='softmax'))\n",
        "model.compile(loss='categorical_crossentropy', optimizer='adam', metrics=['accuracy'])\n",
        " \n",
        "# fit network\n",
        "history = model.fit(train_X, train_y_dummy, epochs=150, batch_size=20, validation_data=(val_X, val_y_dummy), verbose=0, shuffle=False)\n",
        "# plot history\n",
        "pyplot.plot(history.history['loss'], label='train')\n",
        "pyplot.plot(history.history['val_loss'], label='test')\n",
        "pyplot.legend()\n",
        "pyplot.show()\n",
        "\n",
        "# evaluate model against an unseen test set\n",
        "_, accuracy = model.evaluate(test_X, test_y_dummy)\n",
        "print('Accuracy: %.2f' % (accuracy*100))"
      ],
      "execution_count": 33,
      "outputs": [
        {
          "output_type": "display_data",
          "data": {
            "image/png": "[encoded data removed]",
            "text/plain": [
              "<Figure size 432x288 with 1 Axes>"
            ]
          },
          "metadata": {
            "tags": []
          }
        },
        {
          "output_type": "stream",
          "text": [
            "141/141 [==============================] - 0s 290us/step\n",
            "Accuracy: 64.54\n"
          ],
          "name": "stdout"
        }
      ]
    },
    {
      "cell_type": "markdown",
      "metadata": {
        "id": "euZZJtOFUvg0",
        "colab_type": "text"
      },
      "source": [
        "Questions to answer...\n",
        "\n",
        "* Why is Test loss spiking at some epochs?\n",
        "\n",
        "---\n",
        "\n",
        "\n",
        "Experiement in improving accuracy: \n",
        "* Try with a larger timeseries (the past 30 days)\n",
        "* Try a different network topography\n",
        "* Try a Stateful LSTM layer\n",
        "* Try regularizer to bias & weights *italicised text"
      ]
    },
    {
      "cell_type": "code",
      "metadata": {
        "id": "l3_pjYv6F6DR",
        "colab_type": "code",
        "colab": {
          "base_uri": "https://localhost:8080/",
          "height": 34
        },
        "outputId": "c3ddc207-3ba4-45e7-97aa-43a190348850"
      },
      "source": [
        "# Predict the change over the next 5 days\n",
        "x = prediction_X.reshape(1, num_time_steps, n_features)\n",
        "next5days_class = model.predict_classes(x)\n",
        "print(f'Stock expected to shift: {next5days_class} within next 5 trading days')"
      ],
      "execution_count": 34,
      "outputs": [
        {
          "output_type": "stream",
          "text": [
            "Stock expected to shift: [1] within next 5 trading days\n"
          ],
          "name": "stdout"
        }
      ]
    },
    {
      "cell_type": "code",
      "metadata": {
        "id": "L7YfoKmwYiKM",
        "colab_type": "code",
        "colab": {
          "base_uri": "https://localhost:8080/",
          "height": 34
        },
        "outputId": "70bf62fc-57d5-4d19-fba0-1e7fe1601082"
      },
      "source": [
        "# Connect to my Google Drive\n",
        "#from google.colab import drive\n",
        "#drive.mount('/content/drive/')\n",
        "# model.save('/content/drive/My Drive/stockatron/model.h5v')"
      ],
      "execution_count": 35,
      "outputs": [
        {
          "output_type": "stream",
          "text": [
            "Drive already mounted at /content/drive/; to attempt to forcibly remount, call drive.mount(\"/content/drive/\", force_remount=True).\n"
          ],
          "name": "stdout"
        }
      ]
    },
    {
      "cell_type": "code",
      "metadata": {
        "id": "kPplB-ryOvjf",
        "colab_type": "code",
        "colab": {}
      },
      "source": [
        "# save locally \n",
        "model.save('model.h5v')"
      ],
      "execution_count": 38,
      "outputs": []
    },
    {
      "cell_type": "code",
      "metadata": {
        "id": "taRIpWN_RGlK",
        "colab_type": "code",
        "colab": {
          "base_uri": "https://localhost:8080/",
          "height": 255
        },
        "outputId": "e357a81d-0250-4263-d766-e47bba7ac24b"
      },
      "source": [
        "# load the model\n",
        "from keras.models import load_model\n",
        "\n",
        "model = load_model('model.h5v')\n",
        "#model = load_model('/content/drive/My Drive/stockatron/model.h5')\n",
        "model.summary()"
      ],
      "execution_count": 40,
      "outputs": [
        {
          "output_type": "stream",
          "text": [
            "Model: \"sequential_1\"\n",
            "_________________________________________________________________\n",
            "Layer (type)                 Output Shape              Param #   \n",
            "=================================================================\n",
            "lstm_1 (LSTM)                (None, 100)               41200     \n",
            "_________________________________________________________________\n",
            "dropout_1 (Dropout)          (None, 100)               0         \n",
            "_________________________________________________________________\n",
            "dense_1 (Dense)              (None, 3)                 303       \n",
            "=================================================================\n",
            "Total params: 41,503\n",
            "Trainable params: 41,503\n",
            "Non-trainable params: 0\n",
            "_________________________________________________________________\n"
          ],
          "name": "stdout"
        }
      ]
    },
    {
      "cell_type": "code",
      "metadata": {
        "id": "_Nb76LAARnBP",
        "colab_type": "code",
        "colab": {}
      },
      "source": [
        ""
      ],
      "execution_count": null,
      "outputs": []
    }
  ]
}
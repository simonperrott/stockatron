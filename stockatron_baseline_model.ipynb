{
  "nbformat": 4,
  "nbformat_minor": 0,
  "metadata": {
    "colab": {
      "name": "stockatron_baseline_model.ipynb",
      "provenance": [],
      "collapsed_sections": [],
      "authorship_tag": "ABX9TyOrhx1DFz/w5AkpoYgPynoZ",
      "include_colab_link": true
    },
    "kernelspec": {
      "name": "python3",
      "display_name": "Python 3"
    }
  },
  "cells": [
    {
      "cell_type": "markdown",
      "metadata": {
        "id": "view-in-github",
        "colab_type": "text"
      },
      "source": [
        "<a href=\"https://colab.research.google.com/github/simonperrott/stockatron/blob/master/stockatron_baseline_model.ipynb\" target=\"_parent\"><img src=\"https://colab.research.google.com/assets/colab-badge.svg\" alt=\"Open In Colab\"/></a>"
      ]
    },
    {
      "cell_type": "code",
      "metadata": {
        "id": "EtjZd564Drc1",
        "colab_type": "code",
        "colab": {
          "base_uri": "https://localhost:8080/",
          "height": 241
        },
        "outputId": "b7259885-dd80-44de-a15d-7552e3fafa51"
      },
      "source": [
        "!pip install yfinance"
      ],
      "execution_count": 46,
      "outputs": [
        {
          "output_type": "stream",
          "text": [
            "Requirement already satisfied: yfinance in /usr/local/lib/python3.6/dist-packages (0.1.54)\n",
            "Requirement already satisfied: requests>=2.20 in /usr/local/lib/python3.6/dist-packages (from yfinance) (2.23.0)\n",
            "Requirement already satisfied: pandas>=0.24 in /usr/local/lib/python3.6/dist-packages (from yfinance) (1.0.5)\n",
            "Requirement already satisfied: multitasking>=0.0.7 in /usr/local/lib/python3.6/dist-packages (from yfinance) (0.0.9)\n",
            "Requirement already satisfied: numpy>=1.15 in /usr/local/lib/python3.6/dist-packages (from yfinance) (1.18.5)\n",
            "Requirement already satisfied: urllib3!=1.25.0,!=1.25.1,<1.26,>=1.21.1 in /usr/local/lib/python3.6/dist-packages (from requests>=2.20->yfinance) (1.24.3)\n",
            "Requirement already satisfied: idna<3,>=2.5 in /usr/local/lib/python3.6/dist-packages (from requests>=2.20->yfinance) (2.10)\n",
            "Requirement already satisfied: chardet<4,>=3.0.2 in /usr/local/lib/python3.6/dist-packages (from requests>=2.20->yfinance) (3.0.4)\n",
            "Requirement already satisfied: certifi>=2017.4.17 in /usr/local/lib/python3.6/dist-packages (from requests>=2.20->yfinance) (2020.6.20)\n",
            "Requirement already satisfied: pytz>=2017.2 in /usr/local/lib/python3.6/dist-packages (from pandas>=0.24->yfinance) (2018.9)\n",
            "Requirement already satisfied: python-dateutil>=2.6.1 in /usr/local/lib/python3.6/dist-packages (from pandas>=0.24->yfinance) (2.8.1)\n",
            "Requirement already satisfied: six>=1.5 in /usr/local/lib/python3.6/dist-packages (from python-dateutil>=2.6.1->pandas>=0.24->yfinance) (1.15.0)\n"
          ],
          "name": "stdout"
        }
      ]
    },
    {
      "cell_type": "code",
      "metadata": {
        "id": "4RMI4D49XHN7",
        "colab_type": "code",
        "colab": {}
      },
      "source": [
        "import yfinance as yt\n",
        "import numpy as np\n",
        "import pandas as pd\n",
        "from matplotlib import pyplot\n",
        "\n",
        "pd.options.display.float_format = '{:.2f}'.format\n",
        "pd.options.display.max_rows = 15\n",
        "pd.options.display.max_columns = 20\n",
        "\n",
        "pyplot.style.use(\"dark_background\")"
      ],
      "execution_count": 47,
      "outputs": []
    },
    {
      "cell_type": "code",
      "metadata": {
        "id": "KEb8Wur7X2AA",
        "colab_type": "code",
        "colab": {
          "base_uri": "https://localhost:8080/",
          "height": 354
        },
        "outputId": "a1767f20-9f34-4d51-c7a3-f8ab21b230de"
      },
      "source": [
        "amzn = yt.Ticker('AMZN')\n",
        "df_amzn = amzn.history(start='1999-01-01')\n",
        "print(df_amzn.head(3))\n",
        "df_amzn['Close'].plot()\n",
        "pyplot.show()"
      ],
      "execution_count": 64,
      "outputs": [
        {
          "output_type": "stream",
          "text": [
            "            Open  High   Low  Close    Volume  Dividends  Stock Splits\n",
            "Date                                                                  \n",
            "1999-01-04 54.61 59.33 53.31  59.16  39292200          0          0.00\n",
            "1999-01-05 54.78 64.88 53.25  62.25  62873200          0          3.00\n",
            "1999-01-06 68.19 70.19 67.00  69.00  36176600          0          0.00\n"
          ],
          "name": "stdout"
        },
        {
          "output_type": "display_data",
          "data": {
            "image/png": "[encoded data removed]",
            "text/plain": [
              "<Figure size 432x288 with 1 Axes>"
            ]
          },
          "metadata": {
            "tags": []
          }
        }
      ]
    },
    {
      "cell_type": "code",
      "metadata": {
        "id": "wjT80hP_Sj-u",
        "colab_type": "code",
        "colab": {}
      },
      "source": [
        "from sklearn.preprocessing import StandardScaler\n",
        "\n",
        "# We want to estimate whether a stock price's change will move by more than 5% over the coming 5 trading days and in which direction the proce will move.\n",
        "def create_labels(df:pd.DataFrame, threshold:float, numDaysForwardToPredict = -5):\n",
        "  df['CloseAfter5Days'] = df['Close'].shift(numDaysForwardToPredict, axis=0)\n",
        "  df['change'] = 100* (df['CloseAfter5Days'] - df['Open'])/df['Open']\n",
        "  df['change'].hist()\n",
        "  pyplot.show()\n",
        "\n",
        "  # 0 HOLD => -ve threshold < % Change < +ve threshold\n",
        "  # 1 BUY => % Change > +ve threshold\n",
        "  # -1 SELL => % Change < -ve threshold\n",
        "  df['label'] = df['change'].apply(lambda x: 1 if x > threshold else -1 if x < -1*threshold else 0)\n",
        "  print(df.tail(12))\n",
        "\n",
        "  scaler = StandardScaler() # or MinMaxScaler(feature_range=(-1, 1))\n",
        "  df['change'] = scaler.fit_transform(df[['change']])\n",
        "  df_subset = df.loc[:, ['change', 'label']]\n",
        "  df_subset.dropna(inplace=True)\n",
        "  print(df_subset.tail(5))\n",
        "  return df_subset"
      ],
      "execution_count": 65,
      "outputs": []
    },
    {
      "cell_type": "code",
      "metadata": {
        "id": "p8zVyKz3I7T5",
        "colab_type": "code",
        "colab": {
          "base_uri": "https://localhost:8080/",
          "height": 877
        },
        "outputId": "0dcd712b-ce31-41ea-f44f-8aee8b09273c"
      },
      "source": [
        "df = create_labels(df_amzn, 5.0)"
      ],
      "execution_count": 66,
      "outputs": [
        {
          "output_type": "display_data",
          "data": {
            "image/png": "[encoded data removed]",
            "text/plain": [
              "<Figure size 432x288 with 1 Axes>"
            ]
          },
          "metadata": {
            "tags": []
          }
        },
        {
          "output_type": "stream",
          "text": [
            "              Open    High     Low   Close   Volume  Dividends  Stock Splits  \\\n",
            "Date                                                                           \n",
            "2020-07-13 3251.06 3344.29 3068.39 3104.00  7720400          0          0.00   \n",
            "2020-07-14 3089.00 3127.38 2950.00 3084.00  7231900          0          0.00   \n",
            "2020-07-15 3080.23 3098.35 2973.18 3008.87  5788900          0          0.00   \n",
            "2020-07-16 2971.06 3032.00 2918.23 2999.90  6394200          0          0.00   \n",
            "2020-07-17 3009.00 3024.00 2948.45 2961.97  4761300          0          0.00   \n",
            "2020-07-20 3000.20 3201.36 2994.02 3196.84  7598200          0          0.00   \n",
            "2020-07-21 3232.49 3240.58 3105.72 3138.29  6135000          0          0.00   \n",
            "2020-07-22 3125.00 3150.00 3065.26 3099.91  4104200          0          0.00   \n",
            "2020-07-23 3098.27 3098.27 2970.00 2986.55  5656900          0          0.00   \n",
            "2020-07-24 2930.00 3031.58 2888.00 3008.91  5632400          0          0.00   \n",
            "2020-07-27 3062.00 3098.00 3015.77 3055.21  4155900          0          0.00   \n",
            "2020-07-28 3054.27 3077.09 3033.83 3039.65  1907354          0          0.00   \n",
            "\n",
            "            CloseAfter5Days  change  label  \n",
            "Date                                        \n",
            "2020-07-13          3196.84   -1.67      0  \n",
            "2020-07-14          3138.29    1.60      0  \n",
            "2020-07-15          3099.91    0.64      0  \n",
            "2020-07-16          2986.55    0.52      0  \n",
            "2020-07-17          3008.91   -0.00      0  \n",
            "2020-07-20          3055.21    1.83      0  \n",
            "2020-07-21          3039.65   -5.97     -1  \n",
            "2020-07-22              nan     nan      0  \n",
            "2020-07-23              nan     nan      0  \n",
            "2020-07-24              nan     nan      0  \n",
            "2020-07-27              nan     nan      0  \n",
            "2020-07-28              nan     nan      0  \n",
            "            change  label\n",
            "Date                     \n",
            "2020-07-15   -0.01      0\n",
            "2020-07-16   -0.02      0\n",
            "2020-07-17   -0.09      0\n",
            "2020-07-20    0.14      0\n",
            "2020-07-21   -0.84     -1\n"
          ],
          "name": "stdout"
        }
      ]
    },
    {
      "cell_type": "code",
      "metadata": {
        "id": "uAZXd2GmGz90",
        "colab_type": "code",
        "colab": {}
      },
      "source": [
        "from pandas import DataFrame\n",
        "from pandas import concat\n",
        "\n",
        "def dataframe_to_supervised(df, input_cols, pred_col, n_timesteps=1, n_out=1, dropnan=True):\n",
        "\t\"\"\"\n",
        "\tTime series -> LSTM supervised learning dataset.\n",
        "\tArguments:\n",
        "\t\tdata: Sequence of observations as a NumPy array.\n",
        "    input_cols: list of strings identifying the input feature columns to use in shifting\n",
        "\t\tn_timesteps: Number of lag observations as input (X).\n",
        "\t\tpred_col: the name of the column we want to predict\n",
        "    n_out: Number of observations as output (y).\n",
        "\t\tdropnan: Boolean whether or not to drop rows with NaN values.\n",
        "\tReturns:\n",
        "\t\tPandas DataFrame of series framed for supervised learning.\n",
        "\t\"\"\"\n",
        "\tcols, names = list(), list()\n",
        "\t# input sequence (t-n, ... t-1)\n",
        "\tfor i in range(n_timesteps, 0, -1):\n",
        "\t\tcols.append(df[input_cols].shift(i))\n",
        "\t\tnames += [f'{c}(t-{i})' for c in input_cols]\n",
        "\t# forecast sequence (t, t+1, ... t+n)\n",
        "\tfor i in range(0, n_out):\n",
        "\t\tcols.append(df[pred_col].shift(-i))\n",
        "\t\tnames += [f'{pred_col}']\n",
        "\t# put it all together\n",
        "\tagg = concat(cols, axis=1)\n",
        "\tagg.columns = names\n",
        "\t# drop rows with NaN values\n",
        "\tif dropnan:\n",
        "\t\tagg.dropna(inplace=True)\n",
        "\treturn agg"
      ],
      "execution_count": 67,
      "outputs": []
    },
    {
      "cell_type": "code",
      "metadata": {
        "id": "ufj6pvCwHEp4",
        "colab_type": "code",
        "colab": {
          "base_uri": "https://localhost:8080/",
          "height": 407
        },
        "outputId": "d73a7007-1e3e-4044-b093-81416a00af3b"
      },
      "source": [
        "# Baseline 1st Model uses:\n",
        "# one feature = price daily change\n",
        "# batches of timeseries of prices going back 7 days\n",
        "# predicts change after next 5 days of trading\n",
        "num_time_steps = 7\n",
        "df_price_ts = dataframe_to_supervised(df, ['change'], 'label', num_time_steps, 1)\n",
        "print(df_price_ts.shape)\n",
        "df_price_ts.tail(10)"
      ],
      "execution_count": 68,
      "outputs": [
        {
          "output_type": "stream",
          "text": [
            "(5415, 8)\n"
          ],
          "name": "stdout"
        },
        {
          "output_type": "execute_result",
          "data": {
            "text/html": [
              "<div>\n",
              "<style scoped>\n",
              "    .dataframe tbody tr th:only-of-type {\n",
              "        vertical-align: middle;\n",
              "    }\n",
              "\n",
              "    .dataframe tbody tr th {\n",
              "        vertical-align: top;\n",
              "    }\n",
              "\n",
              "    .dataframe thead th {\n",
              "        text-align: right;\n",
              "    }\n",
              "</style>\n",
              "<table border=\"1\" class=\"dataframe\">\n",
              "  <thead>\n",
              "    <tr style=\"text-align: right;\">\n",
              "      <th></th>\n",
              "      <th>change(t-7)</th>\n",
              "      <th>change(t-6)</th>\n",
              "      <th>change(t-5)</th>\n",
              "      <th>change(t-4)</th>\n",
              "      <th>change(t-3)</th>\n",
              "      <th>change(t-2)</th>\n",
              "      <th>change(t-1)</th>\n",
              "      <th>label</th>\n",
              "    </tr>\n",
              "    <tr>\n",
              "      <th>Date</th>\n",
              "      <th></th>\n",
              "      <th></th>\n",
              "      <th></th>\n",
              "      <th></th>\n",
              "      <th></th>\n",
              "      <th></th>\n",
              "      <th></th>\n",
              "      <th></th>\n",
              "    </tr>\n",
              "  </thead>\n",
              "  <tbody>\n",
              "    <tr>\n",
              "      <th>2020-07-08</th>\n",
              "      <td>1.19</td>\n",
              "      <td>1.37</td>\n",
              "      <td>1.77</td>\n",
              "      <td>1.86</td>\n",
              "      <td>1.16</td>\n",
              "      <td>0.64</td>\n",
              "      <td>0.02</td>\n",
              "      <td>0</td>\n",
              "    </tr>\n",
              "    <tr>\n",
              "      <th>2020-07-09</th>\n",
              "      <td>1.37</td>\n",
              "      <td>1.77</td>\n",
              "      <td>1.86</td>\n",
              "      <td>1.16</td>\n",
              "      <td>0.64</td>\n",
              "      <td>0.02</td>\n",
              "      <td>-0.15</td>\n",
              "      <td>0</td>\n",
              "    </tr>\n",
              "    <tr>\n",
              "      <th>2020-07-10</th>\n",
              "      <td>1.77</td>\n",
              "      <td>1.86</td>\n",
              "      <td>1.16</td>\n",
              "      <td>0.64</td>\n",
              "      <td>0.02</td>\n",
              "      <td>-0.15</td>\n",
              "      <td>-0.56</td>\n",
              "      <td>-1</td>\n",
              "    </tr>\n",
              "    <tr>\n",
              "      <th>2020-07-13</th>\n",
              "      <td>1.86</td>\n",
              "      <td>1.16</td>\n",
              "      <td>0.64</td>\n",
              "      <td>0.02</td>\n",
              "      <td>-0.15</td>\n",
              "      <td>-0.56</td>\n",
              "      <td>-1.00</td>\n",
              "      <td>0</td>\n",
              "    </tr>\n",
              "    <tr>\n",
              "      <th>2020-07-14</th>\n",
              "      <td>1.16</td>\n",
              "      <td>0.64</td>\n",
              "      <td>0.02</td>\n",
              "      <td>-0.15</td>\n",
              "      <td>-0.56</td>\n",
              "      <td>-1.00</td>\n",
              "      <td>-0.30</td>\n",
              "      <td>0</td>\n",
              "    </tr>\n",
              "    <tr>\n",
              "      <th>2020-07-15</th>\n",
              "      <td>0.64</td>\n",
              "      <td>0.02</td>\n",
              "      <td>-0.15</td>\n",
              "      <td>-0.56</td>\n",
              "      <td>-1.00</td>\n",
              "      <td>-0.30</td>\n",
              "      <td>0.11</td>\n",
              "      <td>0</td>\n",
              "    </tr>\n",
              "    <tr>\n",
              "      <th>2020-07-16</th>\n",
              "      <td>0.02</td>\n",
              "      <td>-0.15</td>\n",
              "      <td>-0.56</td>\n",
              "      <td>-1.00</td>\n",
              "      <td>-0.30</td>\n",
              "      <td>0.11</td>\n",
              "      <td>-0.01</td>\n",
              "      <td>0</td>\n",
              "    </tr>\n",
              "    <tr>\n",
              "      <th>2020-07-17</th>\n",
              "      <td>-0.15</td>\n",
              "      <td>-0.56</td>\n",
              "      <td>-1.00</td>\n",
              "      <td>-0.30</td>\n",
              "      <td>0.11</td>\n",
              "      <td>-0.01</td>\n",
              "      <td>-0.02</td>\n",
              "      <td>0</td>\n",
              "    </tr>\n",
              "    <tr>\n",
              "      <th>2020-07-20</th>\n",
              "      <td>-0.56</td>\n",
              "      <td>-1.00</td>\n",
              "      <td>-0.30</td>\n",
              "      <td>0.11</td>\n",
              "      <td>-0.01</td>\n",
              "      <td>-0.02</td>\n",
              "      <td>-0.09</td>\n",
              "      <td>0</td>\n",
              "    </tr>\n",
              "    <tr>\n",
              "      <th>2020-07-21</th>\n",
              "      <td>-1.00</td>\n",
              "      <td>-0.30</td>\n",
              "      <td>0.11</td>\n",
              "      <td>-0.01</td>\n",
              "      <td>-0.02</td>\n",
              "      <td>-0.09</td>\n",
              "      <td>0.14</td>\n",
              "      <td>-1</td>\n",
              "    </tr>\n",
              "  </tbody>\n",
              "</table>\n",
              "</div>"
            ],
            "text/plain": [
              "            change(t-7)  change(t-6)  change(t-5)  change(t-4)  change(t-3)  \\\n",
              "Date                                                                          \n",
              "2020-07-08         1.19         1.37         1.77         1.86         1.16   \n",
              "2020-07-09         1.37         1.77         1.86         1.16         0.64   \n",
              "2020-07-10         1.77         1.86         1.16         0.64         0.02   \n",
              "2020-07-13         1.86         1.16         0.64         0.02        -0.15   \n",
              "2020-07-14         1.16         0.64         0.02        -0.15        -0.56   \n",
              "2020-07-15         0.64         0.02        -0.15        -0.56        -1.00   \n",
              "2020-07-16         0.02        -0.15        -0.56        -1.00        -0.30   \n",
              "2020-07-17        -0.15        -0.56        -1.00        -0.30         0.11   \n",
              "2020-07-20        -0.56        -1.00        -0.30         0.11        -0.01   \n",
              "2020-07-21        -1.00        -0.30         0.11        -0.01        -0.02   \n",
              "\n",
              "            change(t-2)  change(t-1)  label  \n",
              "Date                                         \n",
              "2020-07-08         0.64         0.02      0  \n",
              "2020-07-09         0.02        -0.15      0  \n",
              "2020-07-10        -0.15        -0.56     -1  \n",
              "2020-07-13        -0.56        -1.00      0  \n",
              "2020-07-14        -1.00        -0.30      0  \n",
              "2020-07-15        -0.30         0.11      0  \n",
              "2020-07-16         0.11        -0.01      0  \n",
              "2020-07-17        -0.01        -0.02      0  \n",
              "2020-07-20        -0.02        -0.09      0  \n",
              "2020-07-21        -0.09         0.14     -1  "
            ]
          },
          "metadata": {
            "tags": []
          },
          "execution_count": 68
        }
      ]
    },
    {
      "cell_type": "code",
      "metadata": {
        "id": "jWyTtpH8lhC_",
        "colab_type": "code",
        "colab": {
          "base_uri": "https://localhost:8080/",
          "height": 258
        },
        "outputId": "a18667fe-c8a5-4f5d-d8fd-70b8fc3aa6c7"
      },
      "source": [
        "# Plot the data classes using only the previous 2 days change\n",
        "df_price_ts['color'] = df_price_ts['label'].apply(lambda x: 'blue' if x==0 else 'red' if x==-1 else 'green')\n",
        "df_price_ts.plot.scatter(x='change(t-1)', y='change(t-2)', c='color')\n",
        "pyplot.show()"
      ],
      "execution_count": 54,
      "outputs": [
        {
          "output_type": "display_data",
          "data": {
            "image/png": "[encoded data removed]",
            "text/plain": [
              "<Figure size 432x288 with 2 Axes>"
            ]
          },
          "metadata": {
            "tags": []
          }
        }
      ]
    },
    {
      "cell_type": "code",
      "metadata": {
        "id": "E1YNo5dsC6Il",
        "colab_type": "code",
        "colab": {}
      },
      "source": [
        "# Choose Training data (avoiding data leak by training set having no data points in future of test set)\n",
        "train = df_price_ts.loc['2005' :'2017']"
      ],
      "execution_count": 69,
      "outputs": []
    },
    {
      "cell_type": "code",
      "metadata": {
        "id": "hcXB5BDg1kDW",
        "colab_type": "code",
        "colab": {
          "base_uri": "https://localhost:8080/",
          "height": 85
        },
        "outputId": "0ae9d815-b9b8-435d-fbd3-244aeffeb7a5"
      },
      "source": [
        "# Explore balance of classes in Training set\n",
        "label_groupings = train['label'].value_counts()\n",
        "print(label_groupings)"
      ],
      "execution_count": 70,
      "outputs": [
        {
          "output_type": "stream",
          "text": [
            " 0    2358\n",
            " 1     564\n",
            "-1     350\n",
            "Name: label, dtype: int64\n"
          ],
          "name": "stdout"
        }
      ]
    },
    {
      "cell_type": "code",
      "metadata": {
        "id": "Xlvdmc63-iiV",
        "colab_type": "code",
        "colab": {
          "base_uri": "https://localhost:8080/",
          "height": 102
        },
        "outputId": "042fc703-9569-47f3-dbef-c735b656a24e"
      },
      "source": [
        "# Balance classes in Training set by Down sampling randomly.\n",
        "# This is important for accuracy as I'm more interested in accurately predicting cases -1 and +1 rather than 0.\n",
        "from sklearn.utils import resample\n",
        "\n",
        "min_label_count = label_groupings.min()\n",
        "df_list = []\n",
        "# Separate by label\n",
        "for label in label_groupings.index:\n",
        "  df_for_label = train[train.label == label]\n",
        "  df_list.append(\n",
        "      resample(  \n",
        "          df_for_label, \n",
        "          replace = False,    # sample without replacement\n",
        "          n_samples = min_label_count     # to match minority class\n",
        "          )) \n",
        "\n",
        "train_balanced = pd.concat(df_list)\n",
        "\n",
        "print(train_balanced.shape) \n",
        "# Display new class counts\n",
        "train_balanced.label.value_counts()"
      ],
      "execution_count": 71,
      "outputs": [
        {
          "output_type": "stream",
          "text": [
            "(1050, 8)\n"
          ],
          "name": "stdout"
        },
        {
          "output_type": "execute_result",
          "data": {
            "text/plain": [
              "-1    350\n",
              " 1    350\n",
              " 0    350\n",
              "Name: label, dtype: int64"
            ]
          },
          "metadata": {
            "tags": []
          },
          "execution_count": 71
        }
      ]
    },
    {
      "cell_type": "code",
      "metadata": {
        "id": "kpNmG0icUwEq",
        "colab_type": "code",
        "colab": {
          "base_uri": "https://localhost:8080/",
          "height": 51
        },
        "outputId": "23517b42-312e-4808-dc9f-de3fb547ba7a"
      },
      "source": [
        "from keras.utils import np_utils\n",
        "from sklearn.preprocessing import LabelEncoder\n",
        "\n",
        "training_set = train_balanced.values\n",
        "\n",
        "train_X, train_y = training_set[:, :-1], training_set[:, -1]\n",
        "print(train_X.shape)\n",
        "\n",
        "# encode class values as integers\n",
        "encoder = LabelEncoder()\n",
        "encoder.fit(train_y)\n",
        "train_y_encoded = encoder.transform(train_y)\n",
        "# convert integers to dummy variables (i.e. one hot encoded)\n",
        "train_y_dummy = np_utils.to_categorical(train_y_encoded)\n",
        "#train_y_ohe = np_utils.to_categorical(train_y)\n",
        "\n",
        "# Test 2019 - 2020\n",
        "test = df_price_ts.loc['2019-07-01' :'2020'].values\n",
        "test_X, test_y = test[:, :-1], test[:, -1]\n",
        "\n",
        "test_y_encoded = encoder.transform(test_y)\n",
        "# convert integers to dummy variables (i.e. one hot encoded)\n",
        "test_y_dummy = np_utils.to_categorical(test_y_encoded)\n",
        "\n",
        "n_features = 1\n",
        "\n",
        "# reshape input to be 3D [samples, timesteps, features]\n",
        "train_X = train_X.reshape(train_X.shape[0], num_time_steps, n_features)\n",
        "test_X = test_X.reshape(test_X.shape[0], num_time_steps, n_features)\n",
        "\n",
        "print(train_X.shape, train_y_dummy.shape, test_X.shape, test_y_dummy.shape)"
      ],
      "execution_count": 72,
      "outputs": [
        {
          "output_type": "stream",
          "text": [
            "(1050, 7)\n",
            "(1050, 7, 1) (1050, 3) (267, 7, 1) (267, 3)\n"
          ],
          "name": "stdout"
        }
      ]
    },
    {
      "cell_type": "code",
      "metadata": {
        "id": "mFVTomFgUvuh",
        "colab_type": "code",
        "colab": {
          "base_uri": "https://localhost:8080/",
          "height": 1000
        },
        "outputId": "b992e4c9-0410-44a4-8d97-ca0778bd181a"
      },
      "source": [
        "from keras.models import Sequential\n",
        "from keras.layers import Dense, Flatten, LSTM, Dropout\n",
        "\n",
        "# design network \n",
        "model = Sequential()\n",
        "model.add(LSTM(100, activation='tanh', input_shape=(num_time_steps, n_features), dropout=0.4))\n",
        "model.add(Dropout(0.4))\n",
        "model.add(Dense(3, activation='softmax'))\n",
        "model.compile(loss='categorical_crossentropy', optimizer='adam', metrics=['accuracy'])\n",
        " \n",
        "# fit network\n",
        "history = model.fit(train_X, train_y_dummy, epochs=150, batch_size=20, validation_data=(test_X, test_y_dummy), verbose=2, shuffle=False)\n",
        "# plot history\n",
        "pyplot.plot(history.history['loss'], label='train')\n",
        "pyplot.plot(history.history['val_loss'], label='test')\n",
        "pyplot.legend()\n",
        "pyplot.show()"
      ],
      "execution_count": 75,
      "outputs": [
        {
          "output_type": "stream",
          "text": [
            "Train on 1050 samples, validate on 267 samples\n",
            "Epoch 1/150\n",
            " - 1s - loss: 1.1544 - accuracy: 0.3429 - val_loss: 1.0715 - val_accuracy: 0.3895\n",
            "Epoch 2/150\n",
            " - 0s - loss: 1.0198 - accuracy: 0.3790 - val_loss: 1.0569 - val_accuracy: 0.2210\n",
            "Epoch 3/150\n",
            " - 0s - loss: 0.9697 - accuracy: 0.4048 - val_loss: 1.0414 - val_accuracy: 0.2210\n",
            "Epoch 4/150\n",
            " - 0s - loss: 0.9233 - accuracy: 0.4505 - val_loss: 1.0274 - val_accuracy: 0.2285\n",
            "Epoch 5/150\n",
            " - 0s - loss: 0.9248 - accuracy: 0.4895 - val_loss: 1.0106 - val_accuracy: 0.2734\n",
            "Epoch 6/150\n",
            " - 0s - loss: 0.9232 - accuracy: 0.4981 - val_loss: 1.0002 - val_accuracy: 0.3146\n",
            "Epoch 7/150\n",
            " - 0s - loss: 0.8859 - accuracy: 0.5229 - val_loss: 0.9953 - val_accuracy: 0.3109\n",
            "Epoch 8/150\n",
            " - 0s - loss: 0.8868 - accuracy: 0.5486 - val_loss: 0.9866 - val_accuracy: 0.3483\n",
            "Epoch 9/150\n",
            " - 0s - loss: 0.8750 - accuracy: 0.5257 - val_loss: 0.9824 - val_accuracy: 0.3483\n",
            "Epoch 10/150\n",
            " - 0s - loss: 0.8605 - accuracy: 0.5410 - val_loss: 0.9744 - val_accuracy: 0.3708\n",
            "Epoch 11/150\n",
            " - 0s - loss: 0.8820 - accuracy: 0.5200 - val_loss: 0.9680 - val_accuracy: 0.4045\n",
            "Epoch 12/150\n",
            " - 0s - loss: 0.8559 - accuracy: 0.5400 - val_loss: 0.9689 - val_accuracy: 0.3970\n",
            "Epoch 13/150\n",
            " - 0s - loss: 0.8866 - accuracy: 0.5152 - val_loss: 0.9592 - val_accuracy: 0.4195\n",
            "Epoch 14/150\n",
            " - 0s - loss: 0.8352 - accuracy: 0.5686 - val_loss: 0.9565 - val_accuracy: 0.4307\n",
            "Epoch 15/150\n",
            " - 0s - loss: 0.8604 - accuracy: 0.5505 - val_loss: 0.9479 - val_accuracy: 0.4532\n",
            "Epoch 16/150\n",
            " - 0s - loss: 0.8585 - accuracy: 0.5467 - val_loss: 0.9475 - val_accuracy: 0.4719\n",
            "Epoch 17/150\n",
            " - 0s - loss: 0.8585 - accuracy: 0.5457 - val_loss: 0.9416 - val_accuracy: 0.4682\n",
            "Epoch 18/150\n",
            " - 0s - loss: 0.8471 - accuracy: 0.5495 - val_loss: 0.9408 - val_accuracy: 0.4719\n",
            "Epoch 19/150\n",
            " - 0s - loss: 0.8635 - accuracy: 0.5467 - val_loss: 0.9338 - val_accuracy: 0.4757\n",
            "Epoch 20/150\n",
            " - 0s - loss: 0.8281 - accuracy: 0.5667 - val_loss: 0.9276 - val_accuracy: 0.4831\n",
            "Epoch 21/150\n",
            " - 0s - loss: 0.8303 - accuracy: 0.5600 - val_loss: 0.9297 - val_accuracy: 0.4644\n",
            "Epoch 22/150\n",
            " - 0s - loss: 0.8596 - accuracy: 0.5448 - val_loss: 0.9221 - val_accuracy: 0.5019\n",
            "Epoch 23/150\n",
            " - 0s - loss: 0.8568 - accuracy: 0.5533 - val_loss: 0.9212 - val_accuracy: 0.4981\n",
            "Epoch 24/150\n",
            " - 0s - loss: 0.8265 - accuracy: 0.5524 - val_loss: 0.9210 - val_accuracy: 0.5019\n",
            "Epoch 25/150\n",
            " - 0s - loss: 0.8712 - accuracy: 0.5333 - val_loss: 0.9130 - val_accuracy: 0.5131\n",
            "Epoch 26/150\n",
            " - 0s - loss: 0.8196 - accuracy: 0.5610 - val_loss: 0.9181 - val_accuracy: 0.5243\n",
            "Epoch 27/150\n",
            " - 0s - loss: 0.8279 - accuracy: 0.5667 - val_loss: 0.9068 - val_accuracy: 0.5318\n",
            "Epoch 28/150\n",
            " - 0s - loss: 0.8330 - accuracy: 0.5676 - val_loss: 0.9045 - val_accuracy: 0.5356\n",
            "Epoch 29/150\n",
            " - 0s - loss: 0.8232 - accuracy: 0.5514 - val_loss: 0.9063 - val_accuracy: 0.5393\n",
            "Epoch 30/150\n",
            " - 0s - loss: 0.8583 - accuracy: 0.5410 - val_loss: 0.9024 - val_accuracy: 0.5356\n",
            "Epoch 31/150\n",
            " - 0s - loss: 0.8529 - accuracy: 0.5495 - val_loss: 0.8988 - val_accuracy: 0.5281\n",
            "Epoch 32/150\n",
            " - 0s - loss: 0.8569 - accuracy: 0.5362 - val_loss: 0.8970 - val_accuracy: 0.5431\n",
            "Epoch 33/150\n",
            " - 0s - loss: 0.8394 - accuracy: 0.5619 - val_loss: 0.8983 - val_accuracy: 0.5356\n",
            "Epoch 34/150\n",
            " - 0s - loss: 0.8610 - accuracy: 0.5267 - val_loss: 0.8994 - val_accuracy: 0.5506\n",
            "Epoch 35/150\n",
            " - 0s - loss: 0.8315 - accuracy: 0.5571 - val_loss: 0.8944 - val_accuracy: 0.5506\n",
            "Epoch 36/150\n",
            " - 0s - loss: 0.8343 - accuracy: 0.5724 - val_loss: 0.8912 - val_accuracy: 0.5393\n",
            "Epoch 37/150\n",
            " - 0s - loss: 0.8211 - accuracy: 0.5943 - val_loss: 0.8904 - val_accuracy: 0.5393\n",
            "Epoch 38/150\n",
            " - 0s - loss: 0.8359 - accuracy: 0.5562 - val_loss: 0.8868 - val_accuracy: 0.5581\n",
            "Epoch 39/150\n",
            " - 0s - loss: 0.8044 - accuracy: 0.5895 - val_loss: 0.8810 - val_accuracy: 0.5356\n",
            "Epoch 40/150\n",
            " - 0s - loss: 0.8073 - accuracy: 0.5800 - val_loss: 0.8783 - val_accuracy: 0.5431\n",
            "Epoch 41/150\n",
            " - 0s - loss: 0.8562 - accuracy: 0.5429 - val_loss: 0.8810 - val_accuracy: 0.5618\n",
            "Epoch 42/150\n",
            " - 0s - loss: 0.7936 - accuracy: 0.5981 - val_loss: 0.8758 - val_accuracy: 0.5468\n",
            "Epoch 43/150\n",
            " - 0s - loss: 0.8204 - accuracy: 0.5762 - val_loss: 0.8872 - val_accuracy: 0.5543\n",
            "Epoch 44/150\n",
            " - 0s - loss: 0.8309 - accuracy: 0.5657 - val_loss: 0.8805 - val_accuracy: 0.5581\n",
            "Epoch 45/150\n",
            " - 0s - loss: 0.8301 - accuracy: 0.5467 - val_loss: 0.8753 - val_accuracy: 0.5581\n",
            "Epoch 46/150\n",
            " - 0s - loss: 0.8214 - accuracy: 0.5714 - val_loss: 0.8774 - val_accuracy: 0.5468\n",
            "Epoch 47/150\n",
            " - 0s - loss: 0.8253 - accuracy: 0.5771 - val_loss: 0.8776 - val_accuracy: 0.5468\n",
            "Epoch 48/150\n",
            " - 1s - loss: 0.8179 - accuracy: 0.5724 - val_loss: 0.8741 - val_accuracy: 0.5543\n",
            "Epoch 49/150\n",
            " - 0s - loss: 0.8323 - accuracy: 0.5400 - val_loss: 0.8720 - val_accuracy: 0.5693\n",
            "Epoch 50/150\n",
            " - 0s - loss: 0.8040 - accuracy: 0.5724 - val_loss: 0.8718 - val_accuracy: 0.5768\n",
            "Epoch 51/150\n",
            " - 0s - loss: 0.7984 - accuracy: 0.5943 - val_loss: 0.8655 - val_accuracy: 0.5543\n",
            "Epoch 52/150\n",
            " - 0s - loss: 0.8374 - accuracy: 0.5524 - val_loss: 0.8646 - val_accuracy: 0.5655\n",
            "Epoch 53/150\n",
            " - 0s - loss: 0.7957 - accuracy: 0.5810 - val_loss: 0.8678 - val_accuracy: 0.5655\n",
            "Epoch 54/150\n",
            " - 0s - loss: 0.8154 - accuracy: 0.5733 - val_loss: 0.8610 - val_accuracy: 0.5768\n",
            "Epoch 55/150\n",
            " - 0s - loss: 0.8204 - accuracy: 0.5724 - val_loss: 0.8586 - val_accuracy: 0.5655\n",
            "Epoch 56/150\n",
            " - 0s - loss: 0.8486 - accuracy: 0.5419 - val_loss: 0.8646 - val_accuracy: 0.5843\n",
            "Epoch 57/150\n",
            " - 0s - loss: 0.8325 - accuracy: 0.5619 - val_loss: 0.8608 - val_accuracy: 0.5581\n",
            "Epoch 58/150\n",
            " - 0s - loss: 0.8177 - accuracy: 0.5762 - val_loss: 0.8621 - val_accuracy: 0.5693\n",
            "Epoch 59/150\n",
            " - 0s - loss: 0.8193 - accuracy: 0.5610 - val_loss: 0.8614 - val_accuracy: 0.5768\n",
            "Epoch 60/150\n",
            " - 0s - loss: 0.8088 - accuracy: 0.5724 - val_loss: 0.8610 - val_accuracy: 0.5693\n",
            "Epoch 61/150\n",
            " - 0s - loss: 0.8124 - accuracy: 0.5581 - val_loss: 0.8552 - val_accuracy: 0.5730\n",
            "Epoch 62/150\n",
            " - 0s - loss: 0.7988 - accuracy: 0.5924 - val_loss: 0.8573 - val_accuracy: 0.5843\n",
            "Epoch 63/150\n",
            " - 0s - loss: 0.8149 - accuracy: 0.5743 - val_loss: 0.8564 - val_accuracy: 0.5805\n",
            "Epoch 64/150\n",
            " - 0s - loss: 0.8051 - accuracy: 0.5705 - val_loss: 0.8537 - val_accuracy: 0.5730\n",
            "Epoch 65/150\n",
            " - 0s - loss: 0.8119 - accuracy: 0.5867 - val_loss: 0.8497 - val_accuracy: 0.5843\n",
            "Epoch 66/150\n",
            " - 0s - loss: 0.8183 - accuracy: 0.5629 - val_loss: 0.8414 - val_accuracy: 0.5768\n",
            "Epoch 67/150\n",
            " - 0s - loss: 0.8086 - accuracy: 0.5790 - val_loss: 0.8418 - val_accuracy: 0.5768\n",
            "Epoch 68/150\n",
            " - 0s - loss: 0.8082 - accuracy: 0.5695 - val_loss: 0.8634 - val_accuracy: 0.5693\n",
            "Epoch 69/150\n",
            " - 0s - loss: 0.8149 - accuracy: 0.5752 - val_loss: 0.8400 - val_accuracy: 0.5805\n",
            "Epoch 70/150\n",
            " - 0s - loss: 0.8161 - accuracy: 0.5600 - val_loss: 0.8385 - val_accuracy: 0.5918\n",
            "Epoch 71/150\n",
            " - 0s - loss: 0.8162 - accuracy: 0.5695 - val_loss: 0.8439 - val_accuracy: 0.5993\n",
            "Epoch 72/150\n",
            " - 0s - loss: 0.8176 - accuracy: 0.5619 - val_loss: 0.8340 - val_accuracy: 0.6067\n",
            "Epoch 73/150\n",
            " - 0s - loss: 0.7869 - accuracy: 0.5962 - val_loss: 0.8323 - val_accuracy: 0.5880\n",
            "Epoch 74/150\n",
            " - 0s - loss: 0.8115 - accuracy: 0.5743 - val_loss: 0.8302 - val_accuracy: 0.5993\n",
            "Epoch 75/150\n",
            " - 0s - loss: 0.8149 - accuracy: 0.5562 - val_loss: 0.8403 - val_accuracy: 0.6030\n",
            "Epoch 76/150\n",
            " - 0s - loss: 0.8228 - accuracy: 0.5467 - val_loss: 0.8241 - val_accuracy: 0.5918\n",
            "Epoch 77/150\n",
            " - 0s - loss: 0.8030 - accuracy: 0.5667 - val_loss: 0.8283 - val_accuracy: 0.5918\n",
            "Epoch 78/150\n",
            " - 0s - loss: 0.7897 - accuracy: 0.5686 - val_loss: 0.8227 - val_accuracy: 0.6217\n",
            "Epoch 79/150\n",
            " - 1s - loss: 0.8217 - accuracy: 0.5562 - val_loss: 0.8213 - val_accuracy: 0.6105\n",
            "Epoch 80/150\n",
            " - 0s - loss: 0.8077 - accuracy: 0.5676 - val_loss: 0.8054 - val_accuracy: 0.6142\n",
            "Epoch 81/150\n",
            " - 0s - loss: 0.8071 - accuracy: 0.5600 - val_loss: 0.8007 - val_accuracy: 0.6255\n",
            "Epoch 82/150\n",
            " - 0s - loss: 0.7896 - accuracy: 0.5657 - val_loss: 0.7889 - val_accuracy: 0.6330\n",
            "Epoch 83/150\n",
            " - 0s - loss: 0.8242 - accuracy: 0.5581 - val_loss: 0.7939 - val_accuracy: 0.6330\n",
            "Epoch 84/150\n",
            " - 0s - loss: 0.7776 - accuracy: 0.5933 - val_loss: 0.7839 - val_accuracy: 0.6330\n",
            "Epoch 85/150\n",
            " - 0s - loss: 0.7691 - accuracy: 0.5848 - val_loss: 0.7841 - val_accuracy: 0.6404\n",
            "Epoch 86/150\n",
            " - 0s - loss: 0.7622 - accuracy: 0.6057 - val_loss: 0.7805 - val_accuracy: 0.6404\n",
            "Epoch 87/150\n",
            " - 0s - loss: 0.7761 - accuracy: 0.5743 - val_loss: 0.7782 - val_accuracy: 0.6554\n",
            "Epoch 88/150\n",
            " - 0s - loss: 0.7794 - accuracy: 0.5962 - val_loss: 0.7981 - val_accuracy: 0.6479\n",
            "Epoch 89/150\n",
            " - 0s - loss: 0.7852 - accuracy: 0.5914 - val_loss: 0.7606 - val_accuracy: 0.6592\n",
            "Epoch 90/150\n",
            " - 0s - loss: 0.7770 - accuracy: 0.5905 - val_loss: 0.7677 - val_accuracy: 0.6554\n",
            "Epoch 91/150\n",
            " - 0s - loss: 0.7711 - accuracy: 0.5971 - val_loss: 0.7576 - val_accuracy: 0.6629\n",
            "Epoch 92/150\n",
            " - 0s - loss: 0.7821 - accuracy: 0.5895 - val_loss: 0.7530 - val_accuracy: 0.6629\n",
            "Epoch 93/150\n",
            " - 0s - loss: 0.7876 - accuracy: 0.5505 - val_loss: 0.7495 - val_accuracy: 0.6667\n",
            "Epoch 94/150\n",
            " - 0s - loss: 0.7636 - accuracy: 0.5543 - val_loss: 0.7383 - val_accuracy: 0.6517\n",
            "Epoch 95/150\n",
            " - 0s - loss: 0.7732 - accuracy: 0.5390 - val_loss: 0.7282 - val_accuracy: 0.6704\n",
            "Epoch 96/150\n",
            " - 0s - loss: 0.7304 - accuracy: 0.5924 - val_loss: 0.7305 - val_accuracy: 0.6854\n",
            "Epoch 97/150\n",
            " - 0s - loss: 0.7660 - accuracy: 0.5762 - val_loss: 0.7276 - val_accuracy: 0.6854\n",
            "Epoch 98/150\n",
            " - 0s - loss: 0.7705 - accuracy: 0.5352 - val_loss: 0.7390 - val_accuracy: 0.6742\n",
            "Epoch 99/150\n",
            " - 0s - loss: 0.7821 - accuracy: 0.5429 - val_loss: 0.7367 - val_accuracy: 0.6704\n",
            "Epoch 100/150\n",
            " - 0s - loss: 0.7889 - accuracy: 0.5381 - val_loss: 0.7112 - val_accuracy: 0.6704\n",
            "Epoch 101/150\n",
            " - 0s - loss: 0.7769 - accuracy: 0.5505 - val_loss: 0.7343 - val_accuracy: 0.6816\n",
            "Epoch 102/150\n",
            " - 0s - loss: 0.7508 - accuracy: 0.6019 - val_loss: 0.7148 - val_accuracy: 0.6854\n",
            "Epoch 103/150\n",
            " - 0s - loss: 0.7455 - accuracy: 0.5514 - val_loss: 0.7185 - val_accuracy: 0.6891\n",
            "Epoch 104/150\n",
            " - 0s - loss: 0.7544 - accuracy: 0.5705 - val_loss: 0.7069 - val_accuracy: 0.6929\n",
            "Epoch 105/150\n",
            " - 0s - loss: 0.7636 - accuracy: 0.5629 - val_loss: 0.7055 - val_accuracy: 0.6779\n",
            "Epoch 106/150\n",
            " - 0s - loss: 0.7667 - accuracy: 0.5562 - val_loss: 0.7042 - val_accuracy: 0.6929\n",
            "Epoch 107/150\n",
            " - 0s - loss: 0.7537 - accuracy: 0.5733 - val_loss: 0.7031 - val_accuracy: 0.6929\n",
            "Epoch 108/150\n",
            " - 0s - loss: 0.7607 - accuracy: 0.5781 - val_loss: 0.7070 - val_accuracy: 0.6966\n",
            "Epoch 109/150\n",
            " - 0s - loss: 0.7526 - accuracy: 0.5600 - val_loss: 0.7012 - val_accuracy: 0.6891\n",
            "Epoch 110/150\n",
            " - 0s - loss: 0.7420 - accuracy: 0.5924 - val_loss: 0.6925 - val_accuracy: 0.7041\n",
            "Epoch 111/150\n",
            " - 0s - loss: 0.7577 - accuracy: 0.5533 - val_loss: 0.7005 - val_accuracy: 0.6779\n",
            "Epoch 112/150\n",
            " - 0s - loss: 0.7339 - accuracy: 0.5695 - val_loss: 0.6965 - val_accuracy: 0.6929\n",
            "Epoch 113/150\n",
            " - 0s - loss: 0.7399 - accuracy: 0.5657 - val_loss: 0.6896 - val_accuracy: 0.6966\n",
            "Epoch 114/150\n",
            " - 0s - loss: 0.7544 - accuracy: 0.5648 - val_loss: 0.6914 - val_accuracy: 0.6891\n",
            "Epoch 115/150\n",
            " - 0s - loss: 0.7518 - accuracy: 0.5914 - val_loss: 0.6945 - val_accuracy: 0.6891\n",
            "Epoch 116/150\n",
            " - 0s - loss: 0.7523 - accuracy: 0.5410 - val_loss: 0.6883 - val_accuracy: 0.6929\n",
            "Epoch 117/150\n",
            " - 0s - loss: 0.7514 - accuracy: 0.5543 - val_loss: 0.6751 - val_accuracy: 0.7004\n",
            "Epoch 118/150\n",
            " - 0s - loss: 0.7295 - accuracy: 0.5524 - val_loss: 0.6858 - val_accuracy: 0.6966\n",
            "Epoch 119/150\n",
            " - 0s - loss: 0.7397 - accuracy: 0.5829 - val_loss: 0.6793 - val_accuracy: 0.7116\n",
            "Epoch 120/150\n",
            " - 0s - loss: 0.7410 - accuracy: 0.5429 - val_loss: 0.7005 - val_accuracy: 0.6966\n",
            "Epoch 121/150\n",
            " - 0s - loss: 0.7509 - accuracy: 0.6210 - val_loss: 0.6975 - val_accuracy: 0.6779\n",
            "Epoch 122/150\n",
            " - 0s - loss: 0.7643 - accuracy: 0.5390 - val_loss: 0.6903 - val_accuracy: 0.6929\n",
            "Epoch 123/150\n",
            " - 0s - loss: 0.7595 - accuracy: 0.5324 - val_loss: 0.6883 - val_accuracy: 0.6891\n",
            "Epoch 124/150\n",
            " - 0s - loss: 0.7261 - accuracy: 0.5695 - val_loss: 0.6786 - val_accuracy: 0.6929\n",
            "Epoch 125/150\n",
            " - 0s - loss: 0.7221 - accuracy: 0.5724 - val_loss: 0.6922 - val_accuracy: 0.6816\n",
            "Epoch 126/150\n",
            " - 0s - loss: 0.7479 - accuracy: 0.5543 - val_loss: 0.6859 - val_accuracy: 0.6854\n",
            "Epoch 127/150\n",
            " - 0s - loss: 0.7248 - accuracy: 0.5648 - val_loss: 0.6765 - val_accuracy: 0.7004\n",
            "Epoch 128/150\n",
            " - 0s - loss: 0.6905 - accuracy: 0.6029 - val_loss: 0.6731 - val_accuracy: 0.6891\n",
            "Epoch 129/150\n",
            " - 0s - loss: 0.7490 - accuracy: 0.5524 - val_loss: 0.6784 - val_accuracy: 0.6854\n",
            "Epoch 130/150\n",
            " - 0s - loss: 0.7192 - accuracy: 0.5695 - val_loss: 0.6771 - val_accuracy: 0.7079\n",
            "Epoch 131/150\n",
            " - 0s - loss: 0.7242 - accuracy: 0.5876 - val_loss: 0.6731 - val_accuracy: 0.6854\n",
            "Epoch 132/150\n",
            " - 0s - loss: 0.6921 - accuracy: 0.5790 - val_loss: 0.6654 - val_accuracy: 0.6891\n",
            "Epoch 133/150\n",
            " - 0s - loss: 0.7289 - accuracy: 0.5419 - val_loss: 0.6629 - val_accuracy: 0.7041\n",
            "Epoch 134/150\n",
            " - 0s - loss: 0.6932 - accuracy: 0.5600 - val_loss: 0.6727 - val_accuracy: 0.7004\n",
            "Epoch 135/150\n",
            " - 0s - loss: 0.7110 - accuracy: 0.5905 - val_loss: 0.6598 - val_accuracy: 0.7191\n",
            "Epoch 136/150\n",
            " - 0s - loss: 0.7360 - accuracy: 0.5600 - val_loss: 0.6600 - val_accuracy: 0.6966\n",
            "Epoch 137/150\n",
            " - 0s - loss: 0.7310 - accuracy: 0.5495 - val_loss: 0.6477 - val_accuracy: 0.7041\n",
            "Epoch 138/150\n",
            " - 0s - loss: 0.7250 - accuracy: 0.5838 - val_loss: 0.6696 - val_accuracy: 0.6891\n",
            "Epoch 139/150\n",
            " - 0s - loss: 0.7051 - accuracy: 0.5857 - val_loss: 0.6771 - val_accuracy: 0.7004\n",
            "Epoch 140/150\n",
            " - 0s - loss: 0.7121 - accuracy: 0.5648 - val_loss: 0.6745 - val_accuracy: 0.6966\n",
            "Epoch 141/150\n",
            " - 0s - loss: 0.6848 - accuracy: 0.6286 - val_loss: 0.6558 - val_accuracy: 0.7004\n",
            "Epoch 142/150\n",
            " - 1s - loss: 0.7108 - accuracy: 0.5295 - val_loss: 0.6911 - val_accuracy: 0.6816\n",
            "Epoch 143/150\n",
            " - 0s - loss: 0.6782 - accuracy: 0.6029 - val_loss: 0.6811 - val_accuracy: 0.6929\n",
            "Epoch 144/150\n",
            " - 0s - loss: 0.6533 - accuracy: 0.6324 - val_loss: 0.6602 - val_accuracy: 0.7079\n",
            "Epoch 145/150\n",
            " - 0s - loss: 0.7074 - accuracy: 0.5562 - val_loss: 0.6776 - val_accuracy: 0.6966\n",
            "Epoch 146/150\n",
            " - 0s - loss: 0.6751 - accuracy: 0.6133 - val_loss: 0.6655 - val_accuracy: 0.7154\n",
            "Epoch 147/150\n",
            " - 0s - loss: 0.7006 - accuracy: 0.5924 - val_loss: 0.6760 - val_accuracy: 0.6854\n",
            "Epoch 148/150\n",
            " - 0s - loss: 0.6804 - accuracy: 0.5886 - val_loss: 0.6880 - val_accuracy: 0.6816\n",
            "Epoch 149/150\n",
            " - 0s - loss: 0.6702 - accuracy: 0.5971 - val_loss: 0.6737 - val_accuracy: 0.6816\n",
            "Epoch 150/150\n",
            " - 0s - loss: 0.6859 - accuracy: 0.6124 - val_loss: 0.6817 - val_accuracy: 0.6966\n"
          ],
          "name": "stdout"
        },
        {
          "output_type": "display_data",
          "data": {
            "image/png": "[encoded data removed]",
            "text/plain": [
              "<Figure size 432x288 with 1 Axes>"
            ]
          },
          "metadata": {
            "tags": []
          }
        }
      ]
    },
    {
      "cell_type": "code",
      "metadata": {
        "id": "euZZJtOFUvg0",
        "colab_type": "code",
        "colab": {}
      },
      "source": [
        "# Questions to answer...\n",
        "# 1. Why is Test loss smaller than Training loss?\n",
        "# 2. Why is Test loss increasing with iterations?"
      ],
      "execution_count": null,
      "outputs": []
    },
    {
      "cell_type": "code",
      "metadata": {
        "id": "OFf2YzRKlKh7",
        "colab_type": "code",
        "colab": {}
      },
      "source": [
        "# TODO Experiements: \n",
        "# Add regularizer to bias & weights\n",
        "# Try with more timestamps\n",
        "# Try more layers\n",
        "# Try different batch size \n",
        "# Try different optimiser\n",
        "# Try adding other parallel timeseries like the change of the S&P500 over the time period or the volume of the stock traded over the time period (some code below)"
      ],
      "execution_count": null,
      "outputs": []
    },
    {
      "cell_type": "code",
      "metadata": {
        "id": "e9oVC0w1nFSB",
        "colab_type": "code",
        "colab": {}
      },
      "source": [
        "# S&P500\n",
        "gspc = yt.Ticker('^GSPC')\n",
        "print(gspc.info)\n",
        "df_gspc = gspc.history(start='1997-05-15')\n",
        "df_gspc"
      ],
      "execution_count": null,
      "outputs": []
    },
    {
      "cell_type": "code",
      "metadata": {
        "id": "GjR94YOpm5ou",
        "colab_type": "code",
        "colab": {}
      },
      "source": [
        "def standardize_volume(df):\n",
        "  df['Volume_n'] = np.log(df['Volume'])\n",
        "  #df.hist(column='Volume_n')\n",
        "  # standardize into z-scores\n",
        "  df['Volume_n'] = (df['Volume_n'] - df.mean()['Volume_n'])/ df.std()['Volume_n']\n",
        "  #df.plot(y='Volume_n')"
      ],
      "execution_count": null,
      "outputs": []
    },
    {
      "cell_type": "code",
      "metadata": {
        "id": "nYXaIDeSK1v9",
        "colab_type": "code",
        "colab": {
          "base_uri": "https://localhost:8080/",
          "height": 281
        },
        "outputId": "022f9cad-9249-4fa7-8f41-c65dc0900a0f"
      },
      "source": [
        "# Include Volume!\n",
        "df_amzn.hist()\n",
        "pyplot.show()\n",
        "# DailyChange is Gaussian so can Standardize into z-scores\n",
        "# Log Scaling for Volume (as it has a Power Law Dist) & then normalize if it has a Guassian Dist after Log Scaling."
      ],
      "execution_count": 76,
      "outputs": [
        {
          "output_type": "display_data",
          "data": {
            "image/png": "[encoded data removed]",
            "text/plain": [
              "<Figure size 432x288 with 12 Axes>"
            ]
          },
          "metadata": {
            "tags": []
          }
        }
      ]
    },
    {
      "cell_type": "code",
      "metadata": {
        "id": "dCOksDMWJbnl",
        "colab_type": "code",
        "colab": {}
      },
      "source": [
        "standardize_volume(df_amzn)"
      ],
      "execution_count": null,
      "outputs": []
    },
    {
      "cell_type": "code",
      "metadata": {
        "id": "l3_pjYv6F6DR",
        "colab_type": "code",
        "colab": {}
      },
      "source": [
        "# S&P500\n",
        "gspc = yt.Ticker('^GSPC')\n",
        "df_gspc = gspc.history(start='1999-01-01')\n",
        "add_dailyChange(df_gspc)\n",
        "add_normalized_dailyChange(df_gspc)\n",
        "\n",
        "df_amzn['S&P_DailyChange_n'] = df_gspc['DailyChange_n']\n",
        "df_amzn"
      ],
      "execution_count": null,
      "outputs": []
    }
  ]
}